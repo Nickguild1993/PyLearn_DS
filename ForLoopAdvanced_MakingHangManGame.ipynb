{
  "nbformat": 4,
  "nbformat_minor": 0,
  "metadata": {
    "colab": {
      "name": "ForLoopAdvanced_MakingHangManGame.ipynb",
      "provenance": [],
      "collapsed_sections": [],
      "authorship_tag": "ABX9TyOhHyT4z7087J5+R0ydcz5h",
      "include_colab_link": true
    },
    "kernelspec": {
      "name": "python3",
      "display_name": "Python 3"
    },
    "language_info": {
      "name": "python"
    }
  },
  "cells": [
    {
      "cell_type": "markdown",
      "metadata": {
        "id": "view-in-github",
        "colab_type": "text"
      },
      "source": [
        "<a href=\"https://colab.research.google.com/github/Nickguild1993/PyLearn_DS/blob/main/ForLoopAdvanced_MakingHangManGame.ipynb\" target=\"_parent\"><img src=\"https://colab.research.google.com/assets/colab-badge.svg\" alt=\"Open In Colab\"/></a>"
      ]
    },
    {
      "cell_type": "markdown",
      "source": [
        "For/While Loops Advanced "
      ],
      "metadata": {
        "id": "8EZbGtiA1KL1"
      }
    },
    {
      "cell_type": "code",
      "execution_count": 1,
      "metadata": {
        "id": "azLErf-31Hzy"
      },
      "outputs": [],
      "source": [
        "# import libraries\n",
        "\n",
        "import pandas as pd\n",
        "import numpy as np\n",
        "import random\n"
      ]
    },
    {
      "cell_type": "markdown",
      "source": [
        "# #### List / String iteration"
      ],
      "metadata": {
        "id": "TJhucP261V6P"
      }
    },
    {
      "cell_type": "code",
      "source": [
        "my_list = [\"First\", \"Second\", \"Third\"]"
      ],
      "metadata": {
        "id": "Sqx1AORt1Xtk"
      },
      "execution_count": 1,
      "outputs": []
    },
    {
      "cell_type": "code",
      "source": [
        "for item in my_list:\n",
        "  print(item)"
      ],
      "metadata": {
        "colab": {
          "base_uri": "https://localhost:8080/"
        },
        "id": "HmtY78Sc1czd",
        "outputId": "2efbcb6e-6cca-4481-f0c8-da18c788616f"
      },
      "execution_count": 2,
      "outputs": [
        {
          "output_type": "stream",
          "name": "stdout",
          "text": [
            "First\n",
            "Second\n",
            "Third\n"
          ]
        }
      ]
    },
    {
      "cell_type": "code",
      "source": [
        "s = \"Nicholas\"\n",
        "for c in s:\n",
        "  print(c) # indented code first!!!\n",
        "  print(\"Inside Loop\") # prints this inside the loop before getting the next item in the string\n",
        "print(\"outslide Loop\")"
      ],
      "metadata": {
        "colab": {
          "base_uri": "https://localhost:8080/"
        },
        "id": "5OIHY9hs1uMV",
        "outputId": "ccdfa1ee-b40d-472d-922a-38f523f76671"
      },
      "execution_count": 6,
      "outputs": [
        {
          "output_type": "stream",
          "name": "stdout",
          "text": [
            "N\n",
            "Inside Loop\n",
            "i\n",
            "Inside Loop\n",
            "c\n",
            "Inside Loop\n",
            "h\n",
            "Inside Loop\n",
            "o\n",
            "Inside Loop\n",
            "l\n",
            "Inside Loop\n",
            "a\n",
            "Inside Loop\n",
            "s\n",
            "Inside Loop\n",
            "outslide Loop\n"
          ]
        }
      ]
    },
    {
      "cell_type": "markdown",
      "source": [
        "#### iterating over ranges"
      ],
      "metadata": {
        "id": "185u9l8P2ETk"
      }
    },
    {
      "cell_type": "code",
      "source": [
        "for item in range(2, 6):\n",
        "  print(item)"
      ],
      "metadata": {
        "colab": {
          "base_uri": "https://localhost:8080/"
        },
        "id": "9QN1s50E2GB4",
        "outputId": "7e86e967-e397-49c0-f9b9-a80626adfb6a"
      },
      "execution_count": 8,
      "outputs": [
        {
          "output_type": "stream",
          "name": "stdout",
          "text": [
            "2\n",
            "3\n",
            "4\n",
            "5\n"
          ]
        }
      ]
    },
    {
      "cell_type": "code",
      "source": [
        "for i in range(len(my_list)):\n",
        "  print(i, my_list[i])"
      ],
      "metadata": {
        "colab": {
          "base_uri": "https://localhost:8080/"
        },
        "id": "YBK16IFv2RUO",
        "outputId": "409ecdbf-6217-4e2d-d9a2-6600e2b636b4"
      },
      "execution_count": 10,
      "outputs": [
        {
          "output_type": "stream",
          "name": "stdout",
          "text": [
            "0 First\n",
            "1 Second\n",
            "2 Third\n"
          ]
        }
      ]
    },
    {
      "cell_type": "code",
      "source": [
        "for i in range(len(my_list)):\n",
        "  print(i, my_list[0]) # indexing the list "
      ],
      "metadata": {
        "colab": {
          "base_uri": "https://localhost:8080/"
        },
        "id": "0A-Hw8se2iEl",
        "outputId": "b0ef5f3e-d926-4675-ced6-e8345605c163"
      },
      "execution_count": 15,
      "outputs": [
        {
          "output_type": "stream",
          "name": "stdout",
          "text": [
            "0 First\n",
            "1 First\n",
            "2 First\n"
          ]
        }
      ]
    },
    {
      "cell_type": "markdown",
      "source": [
        "#### While Loop"
      ],
      "metadata": {
        "id": "3ta2rlQM28r1"
      }
    },
    {
      "cell_type": "markdown",
      "source": [
        "unlike for loops, while loops iterate as long as the user defines "
      ],
      "metadata": {
        "id": "oM-ev_po3Aik"
      }
    },
    {
      "cell_type": "code",
      "source": [
        "value = 9\n",
        "while value > 0:\n",
        "  value= int(input(\"Value?\")) # if input is X < 0 the while loop stops"
      ],
      "metadata": {
        "id": "A4YParsa3Eo8"
      },
      "execution_count": null,
      "outputs": []
    },
    {
      "cell_type": "markdown",
      "source": [
        "A few new things"
      ],
      "metadata": {
        "id": "6VeNkwRm3dgk"
      }
    },
    {
      "cell_type": "code",
      "source": [
        "s = \"abc\"\n",
        "c = \"d\"\n",
        "\n",
        "if c in s:\n",
        "  print(\"C is in S\")\n",
        "else: print(\"Aint there\")"
      ],
      "metadata": {
        "colab": {
          "base_uri": "https://localhost:8080/"
        },
        "id": "fhA4Q7JZ3iR8",
        "outputId": "2ee98574-9ca8-4d82-962c-fae3a6d17ce3"
      },
      "execution_count": 18,
      "outputs": [
        {
          "output_type": "stream",
          "name": "stdout",
          "text": [
            "Aint there\n"
          ]
        }
      ]
    },
    {
      "cell_type": "code",
      "source": [
        "if c not in s:\n",
        "  print(\"it ain't here cuh\")"
      ],
      "metadata": {
        "colab": {
          "base_uri": "https://localhost:8080/"
        },
        "id": "nM2Lul0b3vI8",
        "outputId": "196ba738-7e8c-46c5-8de2-d84ec66afaf4"
      },
      "execution_count": 19,
      "outputs": [
        {
          "output_type": "stream",
          "name": "stdout",
          "text": [
            "it ain't here cuh\n"
          ]
        }
      ]
    },
    {
      "cell_type": "code",
      "source": [
        "a = 20\n",
        "b = 12\n",
        "c = 8\n",
        "\n",
        "if a > b and b > c:\n",
        "  print(\"The time has come\")\n",
        "else: print(\"the pipes are calling\")"
      ],
      "metadata": {
        "colab": {
          "base_uri": "https://localhost:8080/"
        },
        "id": "YbW2xE6B30AV",
        "outputId": "6d484016-0015-4ec9-acff-d466422efd0f"
      },
      "execution_count": 20,
      "outputs": [
        {
          "output_type": "stream",
          "name": "stdout",
          "text": [
            "The time has come\n"
          ]
        }
      ]
    },
    {
      "cell_type": "code",
      "source": [
        "a,b,c = 34,20,40\n",
        "\n",
        "if a > b or b > c:\n",
        "  print(\"gorg\")\n",
        "else: print(\"lighter\")"
      ],
      "metadata": {
        "colab": {
          "base_uri": "https://localhost:8080/"
        },
        "id": "fLZAMJ694Hm2",
        "outputId": "e680c5c0-a9fd-4cca-812a-fcc87e178545"
      },
      "execution_count": 22,
      "outputs": [
        {
          "output_type": "stream",
          "name": "stdout",
          "text": [
            "gorg\n"
          ]
        }
      ]
    },
    {
      "cell_type": "markdown",
      "source": [
        "#### Hangman Game"
      ],
      "metadata": {
        "id": "-VIV0Fua4oXT"
      }
    },
    {
      "cell_type": "markdown",
      "source": [
        "Script:\n",
        "\n",
        "- computer has a list of words\n",
        "- computer chooses a random word from the list\n",
        "- player gets 10 wrong guesses (10 turns)\n",
        "- game follows this loop\n",
        "  -computer prints the word character by character replacing with underscore those not guess yet (no initial characters have been guessed)\n",
        "\n",
        "-player guesses a character \n",
        "-if charecter is NOT IN word, a turn is withdrawn\n",
        "-if no turns remain, computer wins\n",
        "-if player has guessed all characters, player wins\n"
      ],
      "metadata": {
        "id": "GoJIfygy4rz8"
      }
    },
    {
      "cell_type": "markdown",
      "source": [
        "outline:\n",
        "\n",
        "1 - create a list of words\n",
        "2 - use random.sample() to randomize word choice\n",
        "3 - create a while loop to track turns until x >= 0 \n",
        "4 - give player the word\n",
        "5 - input letters \n",
        "6 - check if letters within word "
      ],
      "metadata": {
        "id": "4NYlLD4f5an8"
      }
    },
    {
      "cell_type": "code",
      "source": [
        "word_bank = [\"blueberry\", \"puppy\", \"candle\", \"sprinkler\", \"banana\", \"microphone\", \"teletubby\"]\n",
        "\n",
        "jumbled = random.choice(word_bank)\n",
        "\n",
        "\n",
        "# set the number of turns the player gets\n",
        "turns = 10\n",
        "# string for their guesses\n",
        "guesses = \" \"\n",
        "\n",
        "while turns > 0: # while loop\n",
        "\n",
        "  print(f'You have {turns} turns left')\n",
        "  guessed_all = True\n",
        "  for char in jumbled: # for loop \n",
        "    if char in guesses:\n",
        "      print(char, end = \" \")\n",
        "    else: \n",
        "      print(\"_\", end = \" \")\n",
        "      guessed_all = False\n",
        "  print()\n",
        "  if not guessed_all:\n",
        "\n",
        "    guess = input(\"Guess a letter: \")\n",
        "    guesses = guesses + guess\n",
        "    if guess not in jumbled:\n",
        "      turns = turns - 1\n",
        "  else:\n",
        "    turns = 0\n",
        "\n",
        "\n",
        "\n",
        "\n",
        "\n",
        "  # turns = input(f\"guess a letter\")\n",
        "  # if turns is in jumbled:\n",
        "\n"
      ],
      "metadata": {
        "colab": {
          "base_uri": "https://localhost:8080/"
        },
        "id": "lEPtXX1g5MVn",
        "outputId": "f3b3ae77-012f-4466-961d-041c317b636a"
      },
      "execution_count": 7,
      "outputs": [
        {
          "output_type": "stream",
          "name": "stdout",
          "text": [
            "You have 10 turns left\n",
            "_ _ _ _ _ _ _ _ _ \n",
            "Guess a letter: a\n",
            "You have 9 turns left\n",
            "_ _ _ _ _ _ _ _ _ \n",
            "Guess a letter: b\n",
            "You have 9 turns left\n",
            "_ _ _ _ _ _ b b _ \n",
            "Guess a letter: e\n",
            "You have 9 turns left\n",
            "_ e _ e _ _ b b _ \n",
            "Guess a letter: p\n",
            "You have 8 turns left\n",
            "_ e _ e _ _ b b _ \n",
            "Guess a letter: f\n",
            "You have 7 turns left\n",
            "_ e _ e _ _ b b _ \n",
            "Guess a letter: c\n",
            "You have 6 turns left\n",
            "_ e _ e _ _ b b _ \n",
            "Guess a letter: j\n",
            "You have 5 turns left\n",
            "_ e _ e _ _ b b _ \n",
            "Guess a letter: h\n",
            "You have 4 turns left\n",
            "_ e _ e _ _ b b _ \n",
            "Guess a letter: i\n",
            "You have 3 turns left\n",
            "_ e _ e _ _ b b _ \n",
            "Guess a letter: t\n",
            "You have 3 turns left\n",
            "t e _ e t _ b b _ \n",
            "Guess a letter: l\n",
            "You have 3 turns left\n",
            "t e l e t _ b b _ \n",
            "Guess a letter: u\n",
            "You have 3 turns left\n",
            "t e l e t u b b _ \n",
            "Guess a letter: y\n",
            "You have 3 turns left\n",
            "t e l e t u b b y \n"
          ]
        }
      ]
    },
    {
      "cell_type": "code",
      "source": [
        "type(turns)"
      ],
      "metadata": {
        "colab": {
          "base_uri": "https://localhost:8080/"
        },
        "id": "FrzDKnXW-Wz5",
        "outputId": "fcce0aba-cfdc-4661-b167-0d96e139e9ad"
      },
      "execution_count": 24,
      "outputs": [
        {
          "output_type": "execute_result",
          "data": {
            "text/plain": [
              "str"
            ]
          },
          "metadata": {},
          "execution_count": 24
        }
      ]
    }
  ]
}