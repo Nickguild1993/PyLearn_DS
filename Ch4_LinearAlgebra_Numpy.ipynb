{
  "nbformat": 4,
  "nbformat_minor": 0,
  "metadata": {
    "colab": {
      "name": "Ch4_LinearAlgebra_Numpy.ipynb",
      "provenance": [],
      "collapsed_sections": [],
      "authorship_tag": "ABX9TyNjxjAu4YqGAuILclFYU2Mt",
      "include_colab_link": true
    },
    "kernelspec": {
      "name": "python3",
      "display_name": "Python 3"
    },
    "language_info": {
      "name": "python"
    }
  },
  "cells": [
    {
      "cell_type": "markdown",
      "metadata": {
        "id": "view-in-github",
        "colab_type": "text"
      },
      "source": [
        "<a href=\"https://colab.research.google.com/github/Nickguild1993/PyLearn_DS/blob/main/Ch4_LinearAlgebra_Numpy.ipynb\" target=\"_parent\"><img src=\"https://colab.research.google.com/assets/colab-badge.svg\" alt=\"Open In Colab\"/></a>"
      ]
    },
    {
      "cell_type": "code",
      "execution_count": 1,
      "metadata": {
        "id": "TC40Z4YwOJLV"
      },
      "outputs": [],
      "source": [
        "# import libraries\n",
        "\n",
        "import pandas as pd\n",
        "import numpy as np\n",
        "import random \n",
        "from collections import Counter\n",
        "\n",
        "# importing List\n",
        "from typing import List"
      ]
    },
    {
      "cell_type": "code",
      "source": [
        "Vector = List[float]\n",
        "Vector"
      ],
      "metadata": {
        "colab": {
          "base_uri": "https://localhost:8080/"
        },
        "id": "TBbaql8LSDfu",
        "outputId": "06499e81-cade-4e10-df82-83668d98b4be"
      },
      "execution_count": 2,
      "outputs": [
        {
          "output_type": "execute_result",
          "data": {
            "text/plain": [
              "typing.List[float]"
            ]
          },
          "metadata": {},
          "execution_count": 2
        }
      ]
    },
    {
      "cell_type": "markdown",
      "source": [
        "### Creating vectors/matrices w/o Numpy"
      ],
      "metadata": {
        "id": "fJ_w1-rumTW2"
      }
    },
    {
      "cell_type": "code",
      "source": [
        "# creating vector and matrices W/O Numpy\n",
        "\n",
        "a = [1,3,5,7] # one dimensional -> vector\n",
        "print(a)\n",
        "\n",
        "A = [[1,2,4],\n",
        "     [3,6,8],\n",
        "     [6,1,4]]\n",
        "print(A)"
      ],
      "metadata": {
        "colab": {
          "base_uri": "https://localhost:8080/"
        },
        "id": "5ZnOUv1cV38M",
        "outputId": "0317e3c8-5578-41fe-b572-3d3c28141f4b"
      },
      "execution_count": 3,
      "outputs": [
        {
          "output_type": "stream",
          "name": "stdout",
          "text": [
            "[1, 3, 5, 7]\n",
            "[[1, 2, 4], [3, 6, 8], [6, 1, 4]]\n"
          ]
        }
      ]
    },
    {
      "cell_type": "markdown",
      "source": [
        "### Using Numpy to create vectors and matrics"
      ],
      "metadata": {
        "id": "fKv9E2heXT11"
      }
    },
    {
      "cell_type": "code",
      "source": [
        "a = np.array([1,3,7,2])\n",
        "print(a)\n",
        "\n",
        "print(\"-----------------\")\n",
        "\n",
        "b = np.array([[2,3],\n",
        "             [4,6],\n",
        "              [3,9]]\n",
        "             )\n",
        "print(b)\n",
        "print(type(b))"
      ],
      "metadata": {
        "colab": {
          "base_uri": "https://localhost:8080/"
        },
        "id": "k8h8PIM8XMIe",
        "outputId": "3f6bf56e-9b76-4528-c21f-7ecf0aafe234"
      },
      "execution_count": 4,
      "outputs": [
        {
          "output_type": "stream",
          "name": "stdout",
          "text": [
            "[1 3 7 2]\n",
            "-----------------\n",
            "[[2 3]\n",
            " [4 6]\n",
            " [3 9]]\n",
            "<class 'numpy.ndarray'>\n"
          ]
        }
      ]
    },
    {
      "cell_type": "markdown",
      "source": [
        "### creating arrays with random.randint() and conditionals w/ list comprehension"
      ],
      "metadata": {
        "id": "Rpx47p1aOTSy"
      }
    },
    {
      "cell_type": "code",
      "source": [
        "a = np.random.randint(15,25,5)\n",
        "a = [value + 2 for value in a]\n",
        "a = np.array(a)\n",
        "print(a)"
      ],
      "metadata": {
        "colab": {
          "base_uri": "https://localhost:8080/"
        },
        "id": "4OTxPkBtp9RS",
        "outputId": "d17a9541-f6d7-45c2-811b-f343b6b687eb"
      },
      "execution_count": 5,
      "outputs": [
        {
          "output_type": "stream",
          "name": "stdout",
          "text": [
            "[22 24 24 21 22]\n"
          ]
        }
      ]
    },
    {
      "cell_type": "code",
      "source": [
        "zz = np.random.randint(500,1000,8)\n",
        "zz = [value *2 for value in zz]\n",
        "zz = np.array(zz)\n",
        "print(zz)"
      ],
      "metadata": {
        "colab": {
          "base_uri": "https://localhost:8080/"
        },
        "id": "BnnByR03WmE5",
        "outputId": "164b7666-903b-4841-f0dc-fd9ad02bb032"
      },
      "execution_count": 7,
      "outputs": [
        {
          "output_type": "stream",
          "name": "stdout",
          "text": [
            "[1028 1594 1384 1936 1374 1248 1458 1040]\n"
          ]
        }
      ]
    },
    {
      "cell_type": "code",
      "source": [
        "y = np.random.randint(35,65,7)\n",
        "y = [value -5 for value in y]\n",
        "y = np.array(y)\n",
        "print(y)"
      ],
      "metadata": {
        "colab": {
          "base_uri": "https://localhost:8080/"
        },
        "id": "7si7F2XGLH_s",
        "outputId": "2cc5d5e5-a559-40a3-de9e-dbb76144d184"
      },
      "execution_count": 8,
      "outputs": [
        {
          "output_type": "stream",
          "name": "stdout",
          "text": [
            "[43 31 38 52 32 42 35]\n"
          ]
        }
      ]
    },
    {
      "cell_type": "code",
      "source": [
        "# combining randint arrays with conditional language\n",
        "\n",
        "o = np.random.randint(20,40,10)\n",
        "print(o)\n",
        "print(\"-------------\")\n",
        "o = [value * 2 for value in o if value %2==0]\n",
        "o = np.array(o)\n",
        "print(\"check conditional of array\")\n",
        "print(o)"
      ],
      "metadata": {
        "colab": {
          "base_uri": "https://localhost:8080/"
        },
        "id": "WOykpyiiMap4",
        "outputId": "aea5ce86-946c-4d5a-de3c-1a1b48816a44"
      },
      "execution_count": 9,
      "outputs": [
        {
          "output_type": "stream",
          "name": "stdout",
          "text": [
            "[36 35 36 22 26 31 27 27 33 33]\n",
            "-------------\n",
            "check conditional of array\n",
            "[72 72 44 52]\n"
          ]
        }
      ]
    },
    {
      "cell_type": "code",
      "source": [
        "# random list comp\n",
        "chips = [\"utz\", \"lays\", \"shitlets\", \"pringles\"]\n",
        "toasted = [value for value in chips if \"tz\" in value]\n",
        "toasted"
      ],
      "metadata": {
        "colab": {
          "base_uri": "https://localhost:8080/"
        },
        "id": "Bq_QR0R9QbtD",
        "outputId": "3ff0eeae-ee7e-42ec-f2a8-0b74e737f8de"
      },
      "execution_count": 10,
      "outputs": [
        {
          "output_type": "execute_result",
          "data": {
            "text/plain": [
              "['utz']"
            ]
          },
          "metadata": {},
          "execution_count": 10
        }
      ]
    },
    {
      "cell_type": "code",
      "source": [
        "fruits = [\"apple\", \"orange\", \"gorg\", \"banana\", \"taffy\"]\n",
        "fruits = [value for value in fruits if \"or\" in value]\n",
        "fruits"
      ],
      "metadata": {
        "colab": {
          "base_uri": "https://localhost:8080/"
        },
        "id": "dFOFwV_vXIvV",
        "outputId": "6cf2c4bb-a0fe-444e-fe39-6cd2c9e4f9a1"
      },
      "execution_count": 11,
      "outputs": [
        {
          "output_type": "execute_result",
          "data": {
            "text/plain": [
              "['orange', 'gorg']"
            ]
          },
          "metadata": {},
          "execution_count": 11
        }
      ]
    },
    {
      "cell_type": "code",
      "source": [
        "numbers = [0,3,5,6,1,2,10,15]\n",
        "output = [value *5 for value in numbers if value==5]\n",
        "print(output)"
      ],
      "metadata": {
        "colab": {
          "base_uri": "https://localhost:8080/"
        },
        "id": "z3iTQxn3Nez8",
        "outputId": "ad8ba362-bf08-4075-f4d5-4223094c07a8"
      },
      "execution_count": null,
      "outputs": [
        {
          "output_type": "stream",
          "name": "stdout",
          "text": [
            "[25]\n"
          ]
        }
      ]
    },
    {
      "cell_type": "code",
      "source": [
        "mas = [3,9,12,2,25,10,50]\n",
        "bing = [value *3 for value in mas if value %3==0]\n",
        "bing"
      ],
      "metadata": {
        "colab": {
          "base_uri": "https://localhost:8080/"
        },
        "id": "DyEOIX5BX-Vh",
        "outputId": "ac094081-84a9-48b0-a0f0-8f1a8407797e"
      },
      "execution_count": 13,
      "outputs": [
        {
          "output_type": "execute_result",
          "data": {
            "text/plain": [
              "[9, 27, 36]"
            ]
          },
          "metadata": {},
          "execution_count": 13
        }
      ]
    },
    {
      "cell_type": "code",
      "source": [
        "mucho = [4,8,64,33, 69, 80, 200, 159]\n",
        "fart = [value *3 for value in mucho if value %3==0]\n",
        "fart"
      ],
      "metadata": {
        "colab": {
          "base_uri": "https://localhost:8080/"
        },
        "id": "UNRLELd7YeUq",
        "outputId": "483f6c5d-5f9f-4842-f9b3-63efd62e3211"
      },
      "execution_count": 14,
      "outputs": [
        {
          "output_type": "execute_result",
          "data": {
            "text/plain": [
              "[99, 207, 477]"
            ]
          },
          "metadata": {},
          "execution_count": 14
        }
      ]
    },
    {
      "cell_type": "markdown",
      "source": [
        "### indexing elements in a numpy array"
      ],
      "metadata": {
        "id": "1OKkrB-pnOYH"
      }
    },
    {
      "cell_type": "code",
      "source": [
        "a = np.random.randint(10,50,15)\n",
        "print(a)\n",
        "\n",
        "b = np.random.randint(20,100, 15)\n",
        "print(b)"
      ],
      "metadata": {
        "colab": {
          "base_uri": "https://localhost:8080/"
        },
        "id": "dgtyAzlZni3c",
        "outputId": "7f4dcd1f-ee24-46c1-ea43-4c40c0f8df03"
      },
      "execution_count": 15,
      "outputs": [
        {
          "output_type": "stream",
          "name": "stdout",
          "text": [
            "[42 28 49 42 26 25 13 24 46 16 20 27 21 40 39]\n",
            "[72 36 79 69 55 75 90 84 25 51 61 53 36 88 88]\n"
          ]
        }
      ]
    },
    {
      "cell_type": "code",
      "source": [
        "print(a[1]) # index starts at 0!!!\n",
        "print(a[0:3])\n",
        "print(b[:1])"
      ],
      "metadata": {
        "colab": {
          "base_uri": "https://localhost:8080/"
        },
        "id": "VxGhWPBpmueV",
        "outputId": "2948222e-a793-4d25-a02e-3fe99513d51d"
      },
      "execution_count": 16,
      "outputs": [
        {
          "output_type": "stream",
          "name": "stdout",
          "text": [
            "28\n",
            "[42 28 49]\n",
            "[72]\n"
          ]
        }
      ]
    },
    {
      "cell_type": "markdown",
      "source": [
        "### Creating Matrices"
      ],
      "metadata": {
        "id": "sdaHUh4BqIWo"
      }
    },
    {
      "cell_type": "code",
      "source": [
        "c = np.array([[4,8,16,24], [40,80,160,240], [400, 800, 1600, 240]])\n",
        "print(c)\n",
        "print(\"------------------------------\")\n",
        "b = [value *2 for value in c]\n",
        "b = np.array(b)\n",
        "print(b)"
      ],
      "metadata": {
        "colab": {
          "base_uri": "https://localhost:8080/"
        },
        "id": "UWiym_-AfC-3",
        "outputId": "591b22c6-bfa9-49bb-f2ad-22fa28f58f77"
      },
      "execution_count": 20,
      "outputs": [
        {
          "output_type": "stream",
          "name": "stdout",
          "text": [
            "[[   4    8   16   24]\n",
            " [  40   80  160  240]\n",
            " [ 400  800 1600  240]]\n",
            "------------------------------\n",
            "[[   8   16   32   48]\n",
            " [  80  160  320  480]\n",
            " [ 800 1600 3200  480]]\n"
          ]
        }
      ]
    },
    {
      "cell_type": "code",
      "source": [
        "A = np.array([[1,2,3,4], [10,20,30,40], [100,200,300,400],[1000,2000,3000,4000], [10000,20000,30000,40000]])\n",
        "print(A)"
      ],
      "metadata": {
        "colab": {
          "base_uri": "https://localhost:8080/"
        },
        "id": "xz_H63GLqHx4",
        "outputId": "2a5cde18-571e-4481-f22f-9a800000b7c0"
      },
      "execution_count": 21,
      "outputs": [
        {
          "output_type": "stream",
          "name": "stdout",
          "text": [
            "[[    1     2     3     4]\n",
            " [   10    20    30    40]\n",
            " [  100   200   300   400]\n",
            " [ 1000  2000  3000  4000]\n",
            " [10000 20000 30000 40000]]\n"
          ]
        }
      ]
    },
    {
      "cell_type": "code",
      "source": [
        "B = [value * 3 for value in A]\n",
        "B = np.array(B)\n",
        "print(B)"
      ],
      "metadata": {
        "colab": {
          "base_uri": "https://localhost:8080/"
        },
        "id": "TB1KvzgArufi",
        "outputId": "d4276d85-e134-42af-d882-a81565b2edaa"
      },
      "execution_count": 22,
      "outputs": [
        {
          "output_type": "stream",
          "name": "stdout",
          "text": [
            "[[     3      6      9     12]\n",
            " [    30     60     90    120]\n",
            " [   300    600    900   1200]\n",
            " [  3000   6000   9000  12000]\n",
            " [ 30000  60000  90000 120000]]\n"
          ]
        }
      ]
    },
    {
      "cell_type": "code",
      "source": [
        "print(\"Dimensions of the matrix:\", A.shape)\n",
        "print(\"The number of rows in the matrix is:\", A.shape[0])\n",
        "print(\"The number of columns in the matrix is:\", A.shape[1])"
      ],
      "metadata": {
        "colab": {
          "base_uri": "https://localhost:8080/"
        },
        "id": "y5q8sJgXqupx",
        "outputId": "6827fde5-0550-49c2-ec63-1102d5a51962"
      },
      "execution_count": 23,
      "outputs": [
        {
          "output_type": "stream",
          "name": "stdout",
          "text": [
            "Dimensions of the matrix: (5, 4)\n",
            "The number of rows in the matrix is: 5\n",
            "The number of columns in the matrix is: 4\n"
          ]
        }
      ]
    },
    {
      "cell_type": "markdown",
      "source": [
        "Rows and Columns are indexed, so they start at 0!"
      ],
      "metadata": {
        "id": "gKmxK6DfsnCV"
      }
    },
    {
      "cell_type": "code",
      "source": [
        "print(A[2,3])\n",
        "print(B[1,1])\n",
        "print(B[1:3])"
      ],
      "metadata": {
        "colab": {
          "base_uri": "https://localhost:8080/"
        },
        "id": "JQsDD1airWii",
        "outputId": "af962c8c-50de-404f-eb0b-a79c90f2f5bb"
      },
      "execution_count": null,
      "outputs": [
        {
          "output_type": "stream",
          "name": "stdout",
          "text": [
            "400\n",
            "60\n",
            "[[  30   60   90  120]\n",
            " [ 300  600  900 1200]]\n"
          ]
        }
      ]
    },
    {
      "cell_type": "markdown",
      "source": [
        "Extracting a submatrix from matrix"
      ],
      "metadata": {
        "id": "s0SMMVn_s56O"
      }
    },
    {
      "cell_type": "code",
      "source": [
        "C = A[1:3]\n",
        "print(C)"
      ],
      "metadata": {
        "colab": {
          "base_uri": "https://localhost:8080/"
        },
        "id": "nASYSyQqs-OW",
        "outputId": "49b9b811-bb47-451f-cdbf-79da9a198868"
      },
      "execution_count": null,
      "outputs": [
        {
          "output_type": "stream",
          "name": "stdout",
          "text": [
            "[[ 10  20  30  40]\n",
            " [100 200 300 400]]\n"
          ]
        }
      ]
    },
    {
      "cell_type": "markdown",
      "source": [
        "Modifying elements within an array"
      ],
      "metadata": {
        "id": "gy645wC6tJEn"
      }
    },
    {
      "cell_type": "code",
      "source": [
        "print(C[1,2])\n",
        "print(\"-----modify to new integer-----\")\n",
        "C[1,2] = 69\n",
        "print(C[1,2])"
      ],
      "metadata": {
        "colab": {
          "base_uri": "https://localhost:8080/"
        },
        "id": "IiazJUaws-SW",
        "outputId": "653a9a22-0686-417f-f153-fb3e7af4026e"
      },
      "execution_count": null,
      "outputs": [
        {
          "output_type": "stream",
          "name": "stdout",
          "text": [
            "300\n",
            "-----modify to new integer-----\n",
            "69\n"
          ]
        }
      ]
    },
    {
      "cell_type": "markdown",
      "source": [
        "### creating special matrices"
      ],
      "metadata": {
        "id": "bsKyUGCptole"
      }
    },
    {
      "cell_type": "code",
      "source": [
        "I = np.eye(2)\n",
        "print(I)\n",
        "print(\"---------\")\n",
        "V = np.eye(5)\n",
        "print(V)"
      ],
      "metadata": {
        "colab": {
          "base_uri": "https://localhost:8080/"
        },
        "id": "KjcI-3PVs-Un",
        "outputId": "900310f1-ff6a-4148-b1a9-bce2bc35f8a6"
      },
      "execution_count": null,
      "outputs": [
        {
          "output_type": "stream",
          "name": "stdout",
          "text": [
            "[[1. 0.]\n",
            " [0. 1.]]\n",
            "---------\n",
            "[[1. 0. 0. 0. 0.]\n",
            " [0. 1. 0. 0. 0.]\n",
            " [0. 0. 1. 0. 0.]\n",
            " [0. 0. 0. 1. 0.]\n",
            " [0. 0. 0. 0. 1.]]\n"
          ]
        }
      ]
    },
    {
      "cell_type": "code",
      "source": [
        "Y = np.zeros((5,4))\n",
        "print(\"Creating a matrix of zeroes with Row x Column arguments:\")\n",
        "print(Y)\n"
      ],
      "metadata": {
        "colab": {
          "base_uri": "https://localhost:8080/"
        },
        "id": "gXhDUtAKs-Wt",
        "outputId": "3805df9f-0cad-489a-d340-056eb9de25e8"
      },
      "execution_count": null,
      "outputs": [
        {
          "output_type": "stream",
          "name": "stdout",
          "text": [
            "Creating a matrix of zeroes with Row x Column arguments:\n",
            "[[0. 0. 0. 0.]\n",
            " [0. 0. 0. 0.]\n",
            " [0. 0. 0. 0.]\n",
            " [0. 0. 0. 0.]\n",
            " [0. 0. 0. 0.]]\n"
          ]
        }
      ]
    },
    {
      "cell_type": "code",
      "source": [
        "Testing = [value + 2 for value in Y]\n",
        "Testing = np.array(Testing)\n",
        "print(Testing)"
      ],
      "metadata": {
        "colab": {
          "base_uri": "https://localhost:8080/"
        },
        "id": "GTuLilKfuh2h",
        "outputId": "d30c667e-2635-4144-ad50-a55d338d6c3e"
      },
      "execution_count": null,
      "outputs": [
        {
          "output_type": "stream",
          "name": "stdout",
          "text": [
            "[[2. 2. 2. 2.]\n",
            " [2. 2. 2. 2.]\n",
            " [2. 2. 2. 2.]\n",
            " [2. 2. 2. 2.]\n",
            " [2. 2. 2. 2.]]\n"
          ]
        }
      ]
    },
    {
      "cell_type": "code",
      "source": [
        "# you can create multiple dimensional arrays the same way\n",
        "Z = np.zeros((3,3,3))\n",
        "print(Z)"
      ],
      "metadata": {
        "colab": {
          "base_uri": "https://localhost:8080/"
        },
        "id": "7t2ORvm9s42z",
        "outputId": "3637d292-7eaa-420c-b73f-332c5f9e9700"
      },
      "execution_count": null,
      "outputs": [
        {
          "output_type": "stream",
          "name": "stdout",
          "text": [
            "[[[0. 0. 0.]\n",
            "  [0. 0. 0.]\n",
            "  [0. 0. 0.]]\n",
            "\n",
            " [[0. 0. 0.]\n",
            "  [0. 0. 0.]\n",
            "  [0. 0. 0.]]\n",
            "\n",
            " [[0. 0. 0.]\n",
            "  [0. 0. 0.]\n",
            "  [0. 0. 0.]]]\n"
          ]
        }
      ]
    },
    {
      "cell_type": "markdown",
      "source": [
        "Creating a matrix filled with 1s"
      ],
      "metadata": {
        "id": "Vy26P5j0vAJQ"
      }
    },
    {
      "cell_type": "code",
      "source": [
        "A = np.ones((4,2))\n",
        "print(A)"
      ],
      "metadata": {
        "colab": {
          "base_uri": "https://localhost:8080/"
        },
        "id": "nKF32VnHvB6a",
        "outputId": "6c78c99d-e062-4b57-998c-2afd3038789d"
      },
      "execution_count": null,
      "outputs": [
        {
          "output_type": "stream",
          "name": "stdout",
          "text": [
            "[[1. 1.]\n",
            " [1. 1.]\n",
            " [1. 1.]\n",
            " [1. 1.]]\n"
          ]
        }
      ]
    },
    {
      "cell_type": "markdown",
      "source": [
        "Using np.full() to create a designed matrix with x values"
      ],
      "metadata": {
        "id": "FIznat8Owg8M"
      }
    },
    {
      "cell_type": "code",
      "source": [
        "C = np.full((3,3), 5)\n",
        "print(C)"
      ],
      "metadata": {
        "colab": {
          "base_uri": "https://localhost:8080/"
        },
        "id": "oW6G1b-FvS-q",
        "outputId": "b67871b1-b784-4ca3-fbaf-6b5e41a107ce"
      },
      "execution_count": null,
      "outputs": [
        {
          "output_type": "stream",
          "name": "stdout",
          "text": [
            "[[5 5 5]\n",
            " [5 5 5]\n",
            " [5 5 5]]\n"
          ]
        }
      ]
    },
    {
      "cell_type": "markdown",
      "source": [
        "### creating a randomized matrix"
      ],
      "metadata": {
        "id": "nwIkq5L9wnOq"
      }
    },
    {
      "cell_type": "code",
      "source": [
        "X = np.random.random((4,3))\n",
        "print(\"Creates a 4 x 3 matrix with floats\")\n",
        "print(\"-------------\")\n",
        "print(X)"
      ],
      "metadata": {
        "colab": {
          "base_uri": "https://localhost:8080/"
        },
        "id": "hjszuhH3wpkl",
        "outputId": "2b4abd91-3cf7-43ca-c17f-b23f91e590eb"
      },
      "execution_count": null,
      "outputs": [
        {
          "output_type": "stream",
          "name": "stdout",
          "text": [
            "Creates a 4 x 3 matrix with floats\n",
            "-------------\n",
            "[[0.79167632 0.15731693 0.34572577]\n",
            " [0.211063   0.88767079 0.51878119]\n",
            " [0.94785556 0.2369651  0.26249918]\n",
            " [0.00971826 0.11113522 0.94022159]]\n"
          ]
        }
      ]
    },
    {
      "cell_type": "markdown",
      "source": [
        "$$Var(X) = E(X^2) - E^2(X) = \\int_{0}^1 x^2 \\ dx - \\frac{1}{4} = \\frac{1}{3} - \\frac{1}{4} = \\frac{1}{12} $$"
      ],
      "metadata": {
        "id": "T42Dwm-Lxq_Y"
      }
    },
    {
      "cell_type": "markdown",
      "source": [
        "### Identifying / working with variables in NumPy"
      ],
      "metadata": {
        "id": "hySc534PzRQK"
      }
    },
    {
      "cell_type": "code",
      "source": [
        "print(B)"
      ],
      "metadata": {
        "colab": {
          "base_uri": "https://localhost:8080/"
        },
        "id": "U_nG9Gjyzxkf",
        "outputId": "97ab085b-69c2-4c70-d6f5-770f587e0d03"
      },
      "execution_count": null,
      "outputs": [
        {
          "output_type": "stream",
          "name": "stdout",
          "text": [
            "[[     3      6      9     12]\n",
            " [    30     60     90    120]\n",
            " [   300    600    900   1200]\n",
            " [  3000   6000   9000  12000]\n",
            " [ 30000  60000  90000 120000]]\n"
          ]
        }
      ]
    },
    {
      "cell_type": "code",
      "source": [
        "# different than doing it with ints/floats/strings etc\n",
        "B.dtype"
      ],
      "metadata": {
        "colab": {
          "base_uri": "https://localhost:8080/"
        },
        "id": "Fi-QoKEOwpyC",
        "outputId": "0912ecbb-8a55-4d95-d489-67bdbec0c00c"
      },
      "execution_count": null,
      "outputs": [
        {
          "output_type": "execute_result",
          "data": {
            "text/plain": [
              "dtype('int64')"
            ]
          },
          "metadata": {},
          "execution_count": 90
        }
      ]
    },
    {
      "cell_type": "markdown",
      "source": [
        "### Creatin a random array of integers with NumPy"
      ],
      "metadata": {
        "id": "27gmi9y-04vC"
      }
    },
    {
      "cell_type": "code",
      "source": [
        "T = np.random.randint(15, size =(4,3))\n",
        "print(T)"
      ],
      "metadata": {
        "colab": {
          "base_uri": "https://localhost:8080/"
        },
        "id": "WlUrpgXnwp0E",
        "outputId": "dded5c2f-4d63-42e0-b8e4-19c1d97ec1e6"
      },
      "execution_count": null,
      "outputs": [
        {
          "output_type": "stream",
          "name": "stdout",
          "text": [
            "[[ 9  5  7]\n",
            " [13 13  6]\n",
            " [ 0 12  7]\n",
            " [ 8  6  0]]\n"
          ]
        }
      ]
    },
    {
      "cell_type": "code",
      "source": [
        "T = [value * 1 for value in T]\n",
        "T= np.array(T)\n",
        "print(T)"
      ],
      "metadata": {
        "colab": {
          "base_uri": "https://localhost:8080/"
        },
        "id": "TotQqRK2wp52",
        "outputId": "c170822d-d8ef-404c-b4b9-ff7a12c4f39f"
      },
      "execution_count": null,
      "outputs": [
        {
          "output_type": "stream",
          "name": "stdout",
          "text": [
            "[[ 9  5  7]\n",
            " [13 13  6]\n",
            " [ 0 12  7]\n",
            " [ 8  6  0]]\n"
          ]
        }
      ]
    },
    {
      "cell_type": "code",
      "source": [
        "V = [value * 3 for value in T]\n",
        "V = np.array(V)\n",
        "print(V)"
      ],
      "metadata": {
        "colab": {
          "base_uri": "https://localhost:8080/"
        },
        "id": "a5WlqSXU1ZwS",
        "outputId": "7bca4ed0-28ba-494b-d0f5-5b2bffd8f58e"
      },
      "execution_count": null,
      "outputs": [
        {
          "output_type": "stream",
          "name": "stdout",
          "text": [
            "[[27 15 21]\n",
            " [39 39 18]\n",
            " [ 0 36 21]\n",
            " [24 18  0]]\n"
          ]
        }
      ]
    },
    {
      "cell_type": "code",
      "source": [
        "import matplotlib.pyplot as plt"
      ],
      "metadata": {
        "id": "slSGLM661R-x"
      },
      "execution_count": null,
      "outputs": []
    },
    {
      "cell_type": "code",
      "source": [
        "plt.scatter(T,V, color = \"purple\")\n",
        "plt.axis(\"equal\")\n",
        "plt.show()"
      ],
      "metadata": {
        "colab": {
          "base_uri": "https://localhost:8080/",
          "height": 265
        },
        "id": "B7PzmP5V1XR6",
        "outputId": "57c8abb7-76f0-420b-ac4c-e310beff2ddc"
      },
      "execution_count": null,
      "outputs": [
        {
          "output_type": "display_data",
          "data": {
            "text/plain": [
              "<Figure size 432x288 with 1 Axes>"
            ],
            "image/png": "[encoded data removed]"
          },
          "metadata": {
            "needs_background": "light"
          }
        }
      ]
    },
    {
      "cell_type": "markdown",
      "source": [
        ""
      ],
      "metadata": {
        "id": "GQvA31oQwmKF"
      }
    }
  ]
}