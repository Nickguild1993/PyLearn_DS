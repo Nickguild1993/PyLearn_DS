{
  "nbformat": 4,
  "nbformat_minor": 0,
  "metadata": {
    "colab": {
      "name": "DS_Ch1_RegEx_nFunctionalPr.ipynb",
      "provenance": [],
      "collapsed_sections": [],
      "authorship_tag": "ABX9TyMWFnubbN2q2Dnioua94Ewp",
      "include_colab_link": true
    },
    "kernelspec": {
      "name": "python3",
      "display_name": "Python 3"
    },
    "language_info": {
      "name": "python"
    }
  },
  "cells": [
    {
      "cell_type": "markdown",
      "metadata": {
        "id": "view-in-github",
        "colab_type": "text"
      },
      "source": [
        "<a href=\"https://colab.research.google.com/github/Nickguild1993/PyLearn_DS/blob/main/DS_Ch1_RegEx_nFunctionalPr.ipynb\" target=\"_parent\"><img src=\"https://colab.research.google.com/assets/colab-badge.svg\" alt=\"Open In Colab\"/></a>"
      ]
    },
    {
      "cell_type": "markdown",
      "source": [
        "Regular Expressions, Functional Programming (zip/argument unpacking, args and kwargs) pg 36"
      ],
      "metadata": {
        "id": "oEWoCvmLFMa-"
      }
    },
    {
      "cell_type": "code",
      "execution_count": 2,
      "metadata": {
        "id": "z3I_6s-8FCFE"
      },
      "outputs": [],
      "source": [
        "import pandas as pd\n",
        "import numpy as np\n",
        "import random\n",
        "import re # regular expressions"
      ]
    },
    {
      "cell_type": "markdown",
      "source": [
        "### Regular Expressions"
      ],
      "metadata": {
        "id": "sgRELsDWFZtz"
      }
    },
    {
      "cell_type": "code",
      "source": [
        "### Used to search text, brah\n",
        "\n",
        "re_examples = [\n",
        "              not re.match(\"a\", \"cat\"),\n",
        "              re.search(\"a\", \"fart\"),\n",
        "              not re.search(\"c\", \"gorg\"),\n",
        "              3 == len(re.split(\"[ab]\", \"carbs\")),\n",
        "              \"R-D\" == re.sub(\"[0-9]\", \"-\", \"R2D2\")\n",
        "            ]\n",
        "assert any(re_examples)"
      ],
      "metadata": {
        "id": "D8136hCFFWg2"
      },
      "execution_count": 4,
      "outputs": []
    },
    {
      "cell_type": "markdown",
      "source": [
        " Important to note that re.match checks where the *beginning* of a string matches a regular expression \n",
        " // \n",
        "re.search checks whether *any* part of a string matches a regular expression"
      ],
      "metadata": {
        "id": "03IUqggUGT22"
      }
    },
    {
      "cell_type": "markdown",
      "source": [
        "### Functional Programming"
      ],
      "metadata": {
        "id": "dF_GywXGGpll"
      }
    },
    {
      "cell_type": "markdown",
      "source": [
        "##### zip and argument unpacking"
      ],
      "metadata": {
        "id": "la0ESwIgGyGc"
      }
    },
    {
      "cell_type": "markdown",
      "source": [
        "When you need to *zip* two or more iterables toegher. the **zip** function transforms multiple iterables into a single interable of tuples of corresponding function"
      ],
      "metadata": {
        "id": "L8ExDRZtG2_0"
      }
    },
    {
      "cell_type": "code",
      "source": [
        "list1 = [\"c\", \"d\", \"e\", \"f\"]\n",
        "list2 = [3,4,5,6]\n",
        "\n",
        "# zip is lazy, so gotta do something like the following\n",
        "[pair for pair in zip(list1, list2)]"
      ],
      "metadata": {
        "colab": {
          "base_uri": "https://localhost:8080/"
        },
        "id": "DEHvLbKQFWjb",
        "outputId": "c3c41ccb-06d5-429f-d677-2f9e955823c6"
      },
      "execution_count": 5,
      "outputs": [
        {
          "output_type": "execute_result",
          "data": {
            "text/plain": [
              "[('c', 3), ('d', 4), ('e', 5), ('f', 6)]"
            ]
          },
          "metadata": {},
          "execution_count": 5
        }
      ]
    },
    {
      "cell_type": "code",
      "source": [
        "# if the lists are different lengths, **ZIP STOPS AS SOON AS THE FIRST LIST ENDS**\n",
        "\n",
        "list3 = [4,55,7,8]\n",
        "list4 = [\"d\", \"c\", \"z\"]\n",
        "\n",
        "[x for x in zip(list3, list4)] # does not include the 4th value in list3!!!!"
      ],
      "metadata": {
        "colab": {
          "base_uri": "https://localhost:8080/"
        },
        "id": "Znjl69bBFWmJ",
        "outputId": "8e529523-cf50-48cd-efca-391f6ebfddb3"
      },
      "execution_count": 6,
      "outputs": [
        {
          "output_type": "execute_result",
          "data": {
            "text/plain": [
              "[(4, 'd'), (55, 'c'), (7, 'z')]"
            ]
          },
          "metadata": {},
          "execution_count": 6
        }
      ]
    },
    {
      "cell_type": "markdown",
      "source": [
        "Can \"unzip\" a list using this one strange trick!"
      ],
      "metadata": {
        "id": "T9A9A9PdHtdk"
      }
    },
    {
      "cell_type": "code",
      "source": [
        "pairs = [(\"a\",1), (\"z\", 2), (\"c\", 69), (\"b\", 22)]\n",
        "letters, numbers = zip(*pairs)\n",
        "print(letters)\n",
        "print(numbers)"
      ],
      "metadata": {
        "colab": {
          "base_uri": "https://localhost:8080/"
        },
        "id": "qFs2ueLJFWop",
        "outputId": "2fe77def-4b3d-4e65-8bba-eacdfc6c6c41"
      },
      "execution_count": 8,
      "outputs": [
        {
          "output_type": "stream",
          "name": "stdout",
          "text": [
            "('a', 'z', 'c', 'b')\n",
            "(1, 2, 69, 22)\n"
          ]
        }
      ]
    },
    {
      "cell_type": "markdown",
      "source": [
        "the * performs the *arugment unpacking* which uses the elements of the variable (**pairs** in this case) as individual arguments to **zip** "
      ],
      "metadata": {
        "id": "0GSWXdvPIDSU"
      }
    },
    {
      "cell_type": "code",
      "source": [
        "thirds = [(\"a\",1, 13), (\"z\", 2, 14), (\"c\", 69, 44), (\"b\", 22, 100)]\n",
        "one, two, three = zip(*thirds)\n",
        "print(one)\n",
        "print(two)\n",
        "print(three)"
      ],
      "metadata": {
        "colab": {
          "base_uri": "https://localhost:8080/"
        },
        "id": "fTLTfecvIaoF",
        "outputId": "e751985f-fe0e-43ec-e953-43ce6c7fe959"
      },
      "execution_count": 9,
      "outputs": [
        {
          "output_type": "stream",
          "name": "stdout",
          "text": [
            "('a', 'z', 'c', 'b')\n",
            "(1, 2, 69, 22)\n",
            "(13, 14, 44, 100)\n"
          ]
        }
      ]
    },
    {
      "cell_type": "markdown",
      "source": [
        "You can use argument unpacking with any function:"
      ],
      "metadata": {
        "id": "lP5o9dalIvNq"
      }
    },
    {
      "cell_type": "code",
      "source": [
        "def add(a,b):\n",
        "  return a + b\n",
        "\n",
        "add(3,5)"
      ],
      "metadata": {
        "colab": {
          "base_uri": "https://localhost:8080/"
        },
        "id": "3jmpqtLqFWrG",
        "outputId": "0a3f4f65-9a3f-45c8-ed45-19a7c431a919"
      },
      "execution_count": 10,
      "outputs": [
        {
          "output_type": "execute_result",
          "data": {
            "text/plain": [
              "8"
            ]
          },
          "metadata": {},
          "execution_count": 10
        }
      ]
    },
    {
      "cell_type": "markdown",
      "source": [
        "### args and kwargs !!!"
      ],
      "metadata": {
        "id": "UI528Y_eJLql"
      }
    },
    {
      "cell_type": "markdown",
      "source": [
        "To create higher-order function that takes as input some function, *f* and returns a new function for any input returns twice the value of *f*"
      ],
      "metadata": {
        "id": "nsDrXg_gJPMc"
      }
    },
    {
      "cell_type": "code",
      "source": [
        "def doubler(f):\n",
        "  # here we define a new function that keeps a reference to *f*\n",
        "  def g(x):\n",
        "    return 2 * f(x)\n",
        "\n",
        "    # And return that new function\n",
        "    return g"
      ],
      "metadata": {
        "id": "yoRZDiv-FW5S"
      },
      "execution_count": 19,
      "outputs": []
    },
    {
      "cell_type": "code",
      "source": [
        "def f1(x):\n",
        "  return x + 1\n",
        "\n",
        "\n",
        "g = doubler(f1)\n",
        "assert g(3) == 8"
      ],
      "metadata": {
        "colab": {
          "base_uri": "https://localhost:8080/",
          "height": 200
        },
        "id": "blGqn3j5JXLM",
        "outputId": "1eb909a1-5551-4c3d-c5fe-bf07ae69c099"
      },
      "execution_count": 20,
      "outputs": [
        {
          "output_type": "error",
          "ename": "TypeError",
          "evalue": "ignored",
          "traceback": [
            "\u001b[0;31m---------------------------------------------------------------------------\u001b[0m",
            "\u001b[0;31mTypeError\u001b[0m                                 Traceback (most recent call last)",
            "\u001b[0;32m<ipython-input-20-133e25dedab1>\u001b[0m in \u001b[0;36m<module>\u001b[0;34m()\u001b[0m\n\u001b[1;32m      4\u001b[0m \u001b[0;34m\u001b[0m\u001b[0m\n\u001b[1;32m      5\u001b[0m \u001b[0mg\u001b[0m \u001b[0;34m=\u001b[0m \u001b[0mdoubler\u001b[0m\u001b[0;34m(\u001b[0m\u001b[0mf1\u001b[0m\u001b[0;34m)\u001b[0m\u001b[0;34m\u001b[0m\u001b[0;34m\u001b[0m\u001b[0m\n\u001b[0;32m----> 6\u001b[0;31m \u001b[0;32massert\u001b[0m \u001b[0mg\u001b[0m\u001b[0;34m(\u001b[0m\u001b[0;36m3\u001b[0m\u001b[0;34m)\u001b[0m \u001b[0;34m==\u001b[0m \u001b[0;36m8\u001b[0m\u001b[0;34m\u001b[0m\u001b[0;34m\u001b[0m\u001b[0m\n\u001b[0m",
            "\u001b[0;31mTypeError\u001b[0m: 'NoneType' object is not callable"
          ]
        }
      ]
    },
    {
      "cell_type": "code",
      "source": [
        ""
      ],
      "metadata": {
        "id": "k6s9DsK7JXNd"
      },
      "execution_count": null,
      "outputs": []
    },
    {
      "cell_type": "code",
      "source": [
        ""
      ],
      "metadata": {
        "id": "giq4UWMoJXPo"
      },
      "execution_count": null,
      "outputs": []
    },
    {
      "cell_type": "code",
      "source": [
        ""
      ],
      "metadata": {
        "id": "2nHU0418JXSE"
      },
      "execution_count": null,
      "outputs": []
    },
    {
      "cell_type": "code",
      "source": [
        ""
      ],
      "metadata": {
        "id": "YWyMQUYNJXUH"
      },
      "execution_count": null,
      "outputs": []
    },
    {
      "cell_type": "code",
      "source": [
        ""
      ],
      "metadata": {
        "id": "o2ZgA0pwJXWF"
      },
      "execution_count": null,
      "outputs": []
    },
    {
      "cell_type": "code",
      "source": [
        ""
      ],
      "metadata": {
        "id": "umw6Qz_tJXYE"
      },
      "execution_count": null,
      "outputs": []
    },
    {
      "cell_type": "code",
      "source": [
        ""
      ],
      "metadata": {
        "id": "48_Q-RU-FW7Z"
      },
      "execution_count": null,
      "outputs": []
    }
  ]
}