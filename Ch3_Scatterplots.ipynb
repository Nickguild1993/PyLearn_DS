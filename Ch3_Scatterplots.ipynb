{
  "nbformat": 4,
  "nbformat_minor": 0,
  "metadata": {
    "colab": {
      "name": "Ch3_Scatterplots.ipynb",
      "provenance": [],
      "collapsed_sections": [],
      "authorship_tag": "ABX9TyOh7E1ra2k+3nBN/0UfzDk5",
      "include_colab_link": true
    },
    "kernelspec": {
      "name": "python3",
      "display_name": "Python 3"
    },
    "language_info": {
      "name": "python"
    }
  },
  "cells": [
    {
      "cell_type": "markdown",
      "metadata": {
        "id": "view-in-github",
        "colab_type": "text"
      },
      "source": [
        "<a href=\"https://colab.research.google.com/github/Nickguild1993/PyLearn_DS/blob/main/Ch3_Scatterplots.ipynb\" target=\"_parent\"><img src=\"https://colab.research.google.com/assets/colab-badge.svg\" alt=\"Open In Colab\"/></a>"
      ]
    },
    {
      "cell_type": "markdown",
      "source": [
        "Refreshing on scatterplots with matplotlib"
      ],
      "metadata": {
        "id": "gr6bt3pRDLWJ"
      }
    },
    {
      "cell_type": "code",
      "execution_count": 1,
      "metadata": {
        "id": "NTTD1Tj_DGC9"
      },
      "outputs": [],
      "source": [
        "# import libraries\n",
        "\n",
        "import pandas as pd\n",
        "import numpy as np\n",
        "import random\n",
        "from collections import Counter\n",
        "\n",
        "import matplotlib.pyplot as plt"
      ]
    },
    {
      "cell_type": "markdown",
      "source": [
        "### quickly going over zip and enumerate again to get it down"
      ],
      "metadata": {
        "id": "YgH7xbeKDbUb"
      }
    },
    {
      "cell_type": "markdown",
      "source": [
        "Zip()"
      ],
      "metadata": {
        "id": "QybEjPEWDeqr"
      }
    },
    {
      "cell_type": "code",
      "source": [
        "names = [\"Larry\", \"Steve\", \"Ron\", \"Charles\", \"Lucas\", \"Gorg\"]\n",
        "numbers = [1,2,3,4,5,6]\n",
        "integers = [8,12,16,20,24,30]\n",
        "\n",
        "pairs = zip(names, numbers)\n",
        "print(tuple(pairs))\n",
        "\n",
        "math = zip(integers, numbers)\n",
        "print(tuple(math))"
      ],
      "metadata": {
        "colab": {
          "base_uri": "https://localhost:8080/"
        },
        "id": "FuKJ9xWADZYi",
        "outputId": "9dcde8ed-4e4c-4915-c855-8594164743ce"
      },
      "execution_count": 5,
      "outputs": [
        {
          "output_type": "stream",
          "name": "stdout",
          "text": [
            "(('Larry', 1), ('Steve', 2), ('Ron', 3), ('Charles', 4), ('Lucas', 5), ('Gorg', 6))\n",
            "((8, 1), (12, 2), (16, 3), (20, 4), (24, 5), (30, 6))\n"
          ]
        }
      ]
    },
    {
      "cell_type": "code",
      "source": [
        "print([integer + number for integer, number in zip(numbers, integers)])"
      ],
      "metadata": {
        "colab": {
          "base_uri": "https://localhost:8080/"
        },
        "id": "Nsn1lAlhFkGr",
        "outputId": "74beff44-64f7-4c7d-dbcf-4ca2c5ebbd39"
      },
      "execution_count": 10,
      "outputs": [
        {
          "output_type": "stream",
          "name": "stdout",
          "text": [
            "[9, 14, 19, 24, 29, 36]\n"
          ]
        }
      ]
    },
    {
      "cell_type": "markdown",
      "source": [
        "enumerate() quickly"
      ],
      "metadata": {
        "id": "vbdK5EgeE6Qc"
      }
    },
    {
      "cell_type": "code",
      "source": [
        "print([name for name in enumerate(names)])\n",
        "\n",
        "print([index for index, _ in enumerate(names)]) # drops the item that corresponds to index\n",
        "\n",
        "print([item for _, item in enumerate(names)])"
      ],
      "metadata": {
        "colab": {
          "base_uri": "https://localhost:8080/"
        },
        "id": "CYpPWN7SE8RK",
        "outputId": "33e9168e-9613-402e-b834-a18064c7d3d3"
      },
      "execution_count": 11,
      "outputs": [
        {
          "output_type": "stream",
          "name": "stdout",
          "text": [
            "[(0, 'Larry'), (1, 'Steve'), (2, 'Ron'), (3, 'Charles'), (4, 'Lucas'), (5, 'Gorg')]\n",
            "[0, 1, 2, 3, 4, 5]\n",
            "['Larry', 'Steve', 'Ron', 'Charles', 'Lucas', 'Gorg']\n",
            "['R', 'o', 'n']\n"
          ]
        }
      ]
    },
    {
      "cell_type": "code",
      "source": [
        "print([item for _, item in enumerate(names[2])])\n",
        "\n",
        "print([index for index, _ in enumerate(names[2])])\n",
        "\n",
        "print([both for both in enumerate(names[2])])"
      ],
      "metadata": {
        "colab": {
          "base_uri": "https://localhost:8080/"
        },
        "id": "zUQ3yqUAGb-c",
        "outputId": "988baf2c-e2c5-464d-bdda-732ccd6fee24"
      },
      "execution_count": 17,
      "outputs": [
        {
          "output_type": "stream",
          "name": "stdout",
          "text": [
            "['R', 'o', 'n']\n",
            "[0, 1, 2]\n",
            "[(0, 'R'), (1, 'o'), (2, 'n')]\n"
          ]
        }
      ]
    },
    {
      "cell_type": "markdown",
      "source": [
        "### scatterplots"
      ],
      "metadata": {
        "id": "jvCLH9HnHpYv"
      }
    },
    {
      "cell_type": "markdown",
      "source": [
        "The right choice for visualizing the relationship between two paired sets of data."
      ],
      "metadata": {
        "id": "Q_s7rrlzHu99"
      }
    },
    {
      "cell_type": "code",
      "source": [
        "friends = [70, 54, 66, 82, 77, 59, 69, 81]\n",
        "minutes = [170, 175, 163, 180, 159, 188, 177, 169]\n",
        "labels = [\"a\", \"b\", \"c\", \"d\", \"e\", \"f\", \"g\", \"h\"]\n",
        "\n",
        "print(tuple(zip(minutes, labels))) # checking for same length"
      ],
      "metadata": {
        "colab": {
          "base_uri": "https://localhost:8080/"
        },
        "id": "iDVfjIlsHre9",
        "outputId": "a25202a1-bb2f-4af7-ff96-1a9676b495ca"
      },
      "execution_count": 20,
      "outputs": [
        {
          "output_type": "stream",
          "name": "stdout",
          "text": [
            "((170, 'a'), (175, 'b'), (163, 'c'), (180, 'd'), (159, 'e'), (188, 'f'), (177, 'g'), (169, 'h'))\n"
          ]
        }
      ]
    },
    {
      "cell_type": "code",
      "source": [
        "plt.figure(figsize=(10,8))\n",
        "\n",
        "scattershot = plt.scatter(friends, minutes, color= \"purple\")\n",
        "\n",
        "# labeling each point\n",
        "for label, friend_count, minute_count in zip(labels, friends, minutes):\n",
        "  plt.annotate(label,\n",
        "               xy=(friend_count, minute_count), # puts the label with its point\n",
        "               xytext = (5,-5), # buuuuut, slightly offset!\n",
        "               textcoords = \"offset points\")\n",
        "plt.title(\"Daily Minutes on the sites vs. Number of Friends\")\n",
        "plt.xlabel(\"Number of friends\")\n",
        "plt.ylabel(\"Minutes spent on the sites\")\n",
        "plt.show()"
      ],
      "metadata": {
        "colab": {
          "base_uri": "https://localhost:8080/",
          "height": 513
        },
        "id": "N6GKHaE2IjiS",
        "outputId": "20097e6d-eb55-401d-e372-939d62e872a4"
      },
      "execution_count": 23,
      "outputs": [
        {
          "output_type": "display_data",
          "data": {
            "text/plain": [
              "<Figure size 720x576 with 1 Axes>"
            ],
            "image/png": "[encoded data removed]"
          },
          "metadata": {
            "needs_background": "light"
          }
        }
      ]
    },
    {
      "cell_type": "markdown",
      "source": [
        "if scattering comparable values, you might get misleading picture if we let matplotlib default the scale"
      ],
      "metadata": {
        "id": "Irrq3SoiKCqK"
      }
    },
    {
      "cell_type": "code",
      "source": [
        "test_1_grades = [99, 90, 85, 97, 80]\n",
        "test_2_grades = [100, 85, 60, 90, 80]\n",
        "\n",
        "bad_scatter = plt.scatter(test_1_grades, test_2_grades, color = \"seagreen\")\n",
        "plt.title(\"Axes Aren't Comparable\")\n",
        "plt.xlabel(\"Test 1\")\n",
        "plt.ylabel(\"Test 2\")\n",
        "plt.show()"
      ],
      "metadata": {
        "colab": {
          "base_uri": "https://localhost:8080/",
          "height": 295
        },
        "id": "bdIzmN1PKJgh",
        "outputId": "2244a8b3-4fb0-413f-92f3-cca73166d417"
      },
      "execution_count": 24,
      "outputs": [
        {
          "output_type": "display_data",
          "data": {
            "text/plain": [
              "<Figure size 432x288 with 1 Axes>"
            ],
            "image/png": "[encoded data removed]"
          },
          "metadata": {
            "needs_background": "light"
          }
        }
      ]
    },
    {
      "cell_type": "markdown",
      "source": [
        "Calling plt.axis(\"equal\") more accurately shows that most of the variation occurs on test 2"
      ],
      "metadata": {
        "id": "vg_ceCywKmSp"
      }
    },
    {
      "cell_type": "code",
      "source": [
        "good_scatter = plt.scatter(test_1_grades, test_2_grades, color = \"crimson\")\n",
        "\n",
        "plt.axis(\"equal\") \n",
        "plt.title(\"Axes Are Comparable\")\n",
        "plt.xlabel(\"Test 1\")\n",
        "plt.ylabel(\"Test 2\")\n",
        "plt.show()"
      ],
      "metadata": {
        "colab": {
          "base_uri": "https://localhost:8080/",
          "height": 295
        },
        "id": "C4kZgt2aKu5D",
        "outputId": "12064784-1732-49d0-96ec-8945fcef776f"
      },
      "execution_count": 25,
      "outputs": [
        {
          "output_type": "display_data",
          "data": {
            "text/plain": [
              "<Figure size 432x288 with 1 Axes>"
            ],
            "image/png": "[encoded data removed]"
          },
          "metadata": {
            "needs_background": "light"
          }
        }
      ]
    }
  ]
}