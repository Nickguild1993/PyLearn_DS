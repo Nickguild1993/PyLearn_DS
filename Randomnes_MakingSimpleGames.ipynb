{
  "nbformat": 4,
  "nbformat_minor": 0,
  "metadata": {
    "colab": {
      "name": "Randomnes_MakingSimpleGames.ipynb",
      "provenance": [],
      "collapsed_sections": [],
      "authorship_tag": "ABX9TyOCZo1BksgTLJXrmEwH+PtF",
      "include_colab_link": true
    },
    "kernelspec": {
      "name": "python3",
      "display_name": "Python 3"
    },
    "language_info": {
      "name": "python"
    }
  },
  "cells": [
    {
      "cell_type": "markdown",
      "metadata": {
        "id": "view-in-github",
        "colab_type": "text"
      },
      "source": [
        "<a href=\"https://colab.research.google.com/github/Nickguild1993/PyLearn_DS/blob/main/Randomnes_MakingSimpleGames.ipynb\" target=\"_parent\"><img src=\"https://colab.research.google.com/assets/colab-badge.svg\" alt=\"Open In Colab\"/></a>"
      ]
    },
    {
      "cell_type": "markdown",
      "source": [
        "Using randomness to create simple games"
      ],
      "metadata": {
        "id": "dTG8aZCkPUso"
      }
    },
    {
      "cell_type": "code",
      "execution_count": 3,
      "metadata": {
        "id": "BVElWXqkPB1X"
      },
      "outputs": [],
      "source": [
        "# import libraries\n",
        "import pandas as pd\n",
        "import numpy as np\n",
        "from random import random\n",
        "import random"
      ]
    },
    {
      "cell_type": "code",
      "source": [
        "random.randint(1,6)"
      ],
      "metadata": {
        "colab": {
          "base_uri": "https://localhost:8080/"
        },
        "id": "5x5wBmiVPrr2",
        "outputId": "8e215023-686a-4c69-92c4-8284a893456c"
      },
      "execution_count": 13,
      "outputs": [
        {
          "output_type": "execute_result",
          "data": {
            "text/plain": [
              "3"
            ]
          },
          "metadata": {},
          "execution_count": 13
        }
      ]
    },
    {
      "cell_type": "code",
      "source": [
        "np.random.randint(1,6,10)"
      ],
      "metadata": {
        "colab": {
          "base_uri": "https://localhost:8080/"
        },
        "id": "SXBSd1MsP8uJ",
        "outputId": "52c74269-90bd-411c-e918-e7545a357dbc"
      },
      "execution_count": 15,
      "outputs": [
        {
          "output_type": "execute_result",
          "data": {
            "text/plain": [
              "array([2, 3, 4, 3, 5, 5, 3, 3, 4, 1])"
            ]
          },
          "metadata": {},
          "execution_count": 15
        }
      ]
    },
    {
      "cell_type": "code",
      "source": [
        "random.gauss(10, 2)"
      ],
      "metadata": {
        "colab": {
          "base_uri": "https://localhost:8080/"
        },
        "id": "ZlYlOCaMQJai",
        "outputId": "4ee59a92-7db2-4f72-c4fd-ea71ad436bd3"
      },
      "execution_count": 23,
      "outputs": [
        {
          "output_type": "execute_result",
          "data": {
            "text/plain": [
              "9.683692965975272"
            ]
          },
          "metadata": {},
          "execution_count": 23
        }
      ]
    },
    {
      "cell_type": "markdown",
      "source": [
        "#### Math Game"
      ],
      "metadata": {
        "id": "g4FUyY9OQvPp"
      }
    },
    {
      "cell_type": "markdown",
      "source": [
        "Creating a math game\n",
        "1. get rand int 1-10 (inclusive)\n",
        "2. get another from 1-10\n",
        "3. rompt user for the two ints multiplied is\n",
        "4. print if correct or not, if not correct, print correct answer"
      ],
      "metadata": {
        "id": "XR2nXpSYQZhY"
      }
    },
    {
      "cell_type": "code",
      "source": [
        "a = random.randint(1,10)\n",
        "b = random.randint(1,10)\n",
        "\n",
        "# pick = input(f'pick two numbers between 1 and 10.')\n",
        "pick = input(f'your numbers are {a, b}, press Enter')\n",
        "# print(f'first pick {a} second pick {b}')\n",
        "a = int(a)\n",
        "b = int(b)\n",
        "product = a * b\n",
        "answer = input(f'what is the product of the two numbers?')\n",
        "answer = int(answer)\n",
        "# print(f'{a * b}')\n",
        "if answer == product:\n",
        "  print(f\"correct, {a} times {b} is {answer}\")\n",
        "else:\n",
        "  print(f' incorrect, {a} times {b} is {product}')\n"
      ],
      "metadata": {
        "colab": {
          "base_uri": "https://localhost:8080/"
        },
        "id": "FEyzmjxqROgA",
        "outputId": "1608b073-19d4-42d7-bfd7-1d51de77747b"
      },
      "execution_count": 52,
      "outputs": [
        {
          "output_type": "stream",
          "name": "stdout",
          "text": [
            "your numbers are (8, 9), press Enter\n",
            "what is the product of the two numbers?72\n",
            "correct, 8 times 9 is 72\n"
          ]
        }
      ]
    },
    {
      "cell_type": "markdown",
      "source": [
        "#### Rock Paper Scissors Game"
      ],
      "metadata": {
        "id": "Mk0kxdp2QxCv"
      }
    },
    {
      "cell_type": "markdown",
      "source": [
        "Rock paper scissors\n",
        "\n",
        "1. Rock beats scissors\n",
        "2. scissors beat paper\n",
        "3. paper beats rock\n",
        "4. x == x -> tie"
      ],
      "metadata": {
        "id": "J4qNtENHQpB3"
      }
    },
    {
      "cell_type": "code",
      "source": [
        "print(\"Enter choice: 1:Rock, 2:Paper, 3: Scissor\")\n",
        "choice = input(\"choose 1/2/3:\")\n",
        "choice = int(choice)\n",
        "\n",
        "computer_choice = random.randint(1,3)\n",
        "computer_choice = int(computer_choice)\n",
        "print(f' computer chose {computer_choice}')\n",
        "if choice == 1 and computer_choice == 3:\n",
        "  print(\"player wins\")\n",
        "elif choice == 1 and computer_choice == 2:\n",
        "  print(\"computer wins\")\n",
        "elif choice == 1 and computer_choice ==1:\n",
        "  print(\"it's a tie\")\n",
        "elif choice == 2 and computer_choice == 1:\n",
        "  print(\"player wins\")\n",
        "elif choice == 2 and computer_choice == 3:\n",
        "  print(\"computer wins\")\n",
        "elif choice == 2 and computer_choice == 2:\n",
        "  print(\"it's a tie\")\n",
        "elif choice == 3 and computer_choice == 2:\n",
        "  print(\"player wins\")\n",
        "elif choice == 3 and computer_choice == 1:\n",
        "  print(\"computer wins\")\n",
        "elif choice == 3 and computer_choice == 3:\n",
        "  print(\"it's a tie\")\n"
      ],
      "metadata": {
        "colab": {
          "base_uri": "https://localhost:8080/"
        },
        "id": "e6Jhy5pXQnZZ",
        "outputId": "f52804d4-6a32-4973-c524-ac0a71b4b0ac"
      },
      "execution_count": 58,
      "outputs": [
        {
          "output_type": "stream",
          "name": "stdout",
          "text": [
            "Enter choice: 1:Rock, 2:Paper, 3: Scissor\n",
            "choose 1/2/3:2\n",
            " computer chose 3\n",
            "computer wins\n"
          ]
        }
      ]
    }
  ]
}