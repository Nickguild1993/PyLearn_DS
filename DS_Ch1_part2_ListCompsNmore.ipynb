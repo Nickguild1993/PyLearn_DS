{
  "nbformat": 4,
  "nbformat_minor": 0,
  "metadata": {
    "colab": {
      "name": "DS_Ch1_part2_ListCompsNmore.ipynb",
      "provenance": [],
      "collapsed_sections": [],
      "authorship_tag": "ABX9TyM26aCqssGSINesn2nW7lME",
      "include_colab_link": true
    },
    "kernelspec": {
      "name": "python3",
      "display_name": "Python 3"
    },
    "language_info": {
      "name": "python"
    }
  },
  "cells": [
    {
      "cell_type": "markdown",
      "metadata": {
        "id": "view-in-github",
        "colab_type": "text"
      },
      "source": [
        "<a href=\"https://colab.research.google.com/github/Nickguild1993/PyLearn_DS/blob/main/DS_Ch1_part2_ListCompsNmore.ipynb\" target=\"_parent\"><img src=\"https://colab.research.google.com/assets/colab-badge.svg\" alt=\"Open In Colab\"/></a>"
      ]
    },
    {
      "cell_type": "markdown",
      "source": [
        "Starts with List comps, then *assert* statements to test truthyness, then OOP stuff with _init_, _repr_ "
      ],
      "metadata": {
        "id": "7GXYnHZSmXdv"
      }
    },
    {
      "cell_type": "code",
      "execution_count": 1,
      "metadata": {
        "id": "V3r0a780ol3E"
      },
      "outputs": [],
      "source": [
        "# import dependencies\n",
        "\n",
        "import pandas as pd\n",
        "import numpy as np\n",
        "import random as rand"
      ]
    },
    {
      "cell_type": "markdown",
      "source": [
        "p2 is starting on pg 30 | list comps"
      ],
      "metadata": {
        "id": "gkxDK3Ovo2lz"
      }
    },
    {
      "cell_type": "markdown",
      "source": [
        "### list comprehensions"
      ],
      "metadata": {
        "id": "3Bf6w0Nvo6km"
      }
    },
    {
      "cell_type": "markdown",
      "source": [
        "Transforming a list into another list by choosing only certain elements, by transforming elements, or both."
      ],
      "metadata": {
        "id": "Rm_FFid6pE_o"
      }
    },
    {
      "cell_type": "code",
      "source": [
        "evens = [x for x in range(6) if x % 2 == 0]\n",
        "print(evens)\n",
        "\n",
        "squares = [x * x for x in range(7)]\n",
        "print(squares)\n",
        "\n",
        "even_squares = [x * x for x in evens]\n",
        "print(even_squares)"
      ],
      "metadata": {
        "colab": {
          "base_uri": "https://localhost:8080/"
        },
        "id": "-DI-8uR3o5uQ",
        "outputId": "192dea83-f4b9-4768-b25a-35dd2fdce35e"
      },
      "execution_count": 2,
      "outputs": [
        {
          "output_type": "stream",
          "name": "stdout",
          "text": [
            "[0, 2, 4]\n",
            "[0, 1, 4, 9, 16, 25, 36]\n",
            "[0, 4, 16]\n"
          ]
        }
      ]
    },
    {
      "cell_type": "markdown",
      "source": [
        "Can also turn lists into dictionaries or sets"
      ],
      "metadata": {
        "id": "8vbRoVNDp2UY"
      }
    },
    {
      "cell_type": "code",
      "source": [
        "square_dict = {x: x * x for x in range(7)} ### PRETTY COOL - note the curly brackets\n",
        "print(square_dict)"
      ],
      "metadata": {
        "colab": {
          "base_uri": "https://localhost:8080/"
        },
        "id": "qSABEgWyp00o",
        "outputId": "208f7895-9868-42de-a654-5f04589de38b"
      },
      "execution_count": 3,
      "outputs": [
        {
          "output_type": "stream",
          "name": "stdout",
          "text": [
            "{0: 0, 1: 1, 2: 4, 3: 9, 4: 16, 5: 25, 6: 36}\n"
          ]
        }
      ]
    },
    {
      "cell_type": "code",
      "source": [
        "square_set = {x * x for x in [3, -3]} # again. curly brackets.\n",
        "print(square_set)"
      ],
      "metadata": {
        "colab": {
          "base_uri": "https://localhost:8080/"
        },
        "id": "5kC9v87Hp025",
        "outputId": "a17f8fe9-5468-4b18-a068-7fc39e373d30"
      },
      "execution_count": 4,
      "outputs": [
        {
          "output_type": "stream",
          "name": "stdout",
          "text": [
            "{9}\n"
          ]
        }
      ]
    },
    {
      "cell_type": "markdown",
      "source": [
        "list comps can include **MULTIPLE *FOR* STATEMENTS** "
      ],
      "metadata": {
        "id": "ayjE0LAGqdEo"
      }
    },
    {
      "cell_type": "code",
      "source": [
        "pairs = [(x,y)\n",
        "        for x in range(4)\n",
        "        for y in range(4)] # prints 16 pairs 0,x | 1,x | 2,x | 3,x\n",
        "print(pairs)\n",
        "\n"
      ],
      "metadata": {
        "colab": {
          "base_uri": "https://localhost:8080/"
        },
        "id": "pmO659cbqibo",
        "outputId": "c9390f86-76b7-4ae5-f0fb-760e705efcb4"
      },
      "execution_count": 5,
      "outputs": [
        {
          "output_type": "stream",
          "name": "stdout",
          "text": [
            "[(0, 0), (0, 1), (0, 2), (0, 3), (1, 0), (1, 1), (1, 2), (1, 3), (2, 0), (2, 1), (2, 2), (2, 3), (3, 0), (3, 1), (3, 2), (3, 3)]\n"
          ]
        }
      ]
    },
    {
      "cell_type": "markdown",
      "source": [
        "Later *fors* can use the results of earlier ones:"
      ],
      "metadata": {
        "id": "x_uOMoTPrI-Q"
      }
    },
    {
      "cell_type": "code",
      "source": [
        "increasing_pairs = [(x,y)\n",
        "                    for x in range(4)\n",
        "                    for y in range(x + 1, 4)]\n",
        "print(increasing_pairs)\n"
      ],
      "metadata": {
        "colab": {
          "base_uri": "https://localhost:8080/"
        },
        "id": "X6MSDTRXrE8w",
        "outputId": "a5f6c5c6-076c-4f00-8bd8-75ee3e86a988"
      },
      "execution_count": null,
      "outputs": [
        {
          "output_type": "stream",
          "name": "stdout",
          "text": [
            "[(0, 1), (0, 2), (0, 3), (1, 2), (1, 3), (2, 3)]\n"
          ]
        }
      ]
    },
    {
      "cell_type": "markdown",
      "source": [
        "### Automated testing and assert"
      ],
      "metadata": {
        "id": "kRCdsXG5fXaj"
      }
    },
    {
      "cell_type": "markdown",
      "source": [
        "using *assert* statements to raise an *AssertionError* if the condition is *not* truthy"
      ],
      "metadata": {
        "id": "MA4mCsNGfdmw"
      }
    },
    {
      "cell_type": "code",
      "source": [
        "assert 1 + 1 == 2\n",
        "\n",
        "assert 3 * 3 == 12, \"should equal 9 but it didn't\"\n",
        "\n",
        "# check the error! shows the string!!!"
      ],
      "metadata": {
        "colab": {
          "base_uri": "https://localhost:8080/",
          "height": 200
        },
        "id": "S8P2bdBIfaYP",
        "outputId": "9683f09a-9344-4727-b2c1-fb22a1acd946"
      },
      "execution_count": 7,
      "outputs": [
        {
          "output_type": "error",
          "ename": "AssertionError",
          "evalue": "ignored",
          "traceback": [
            "\u001b[0;31m---------------------------------------------------------------------------\u001b[0m",
            "\u001b[0;31mAssertionError\u001b[0m                            Traceback (most recent call last)",
            "\u001b[0;32m<ipython-input-7-664e7edfd75e>\u001b[0m in \u001b[0;36m<module>\u001b[0;34m()\u001b[0m\n\u001b[1;32m      1\u001b[0m \u001b[0;32massert\u001b[0m \u001b[0;36m1\u001b[0m \u001b[0;34m+\u001b[0m \u001b[0;36m1\u001b[0m \u001b[0;34m==\u001b[0m \u001b[0;36m2\u001b[0m\u001b[0;34m\u001b[0m\u001b[0;34m\u001b[0m\u001b[0m\n\u001b[1;32m      2\u001b[0m \u001b[0;34m\u001b[0m\u001b[0m\n\u001b[0;32m----> 3\u001b[0;31m \u001b[0;32massert\u001b[0m \u001b[0;36m3\u001b[0m \u001b[0;34m*\u001b[0m \u001b[0;36m3\u001b[0m \u001b[0;34m==\u001b[0m \u001b[0;36m12\u001b[0m\u001b[0;34m,\u001b[0m \u001b[0;34m\"should equal 9 but it didn't\"\u001b[0m\u001b[0;34m\u001b[0m\u001b[0;34m\u001b[0m\u001b[0m\n\u001b[0m",
            "\u001b[0;31mAssertionError\u001b[0m: should equal 9 but it didn't"
          ]
        }
      ]
    },
    {
      "cell_type": "markdown",
      "source": [
        "### Object Oriented Programming"
      ],
      "metadata": {
        "id": "CxtO_Jp2gGNp"
      }
    },
    {
      "cell_type": "markdown",
      "source": [
        "Establshing a \"counting clicker\" can be used for counting how many people enter a building or w/e\n",
        "\n",
        "maintain a *count* can be *clicked* to increment the count, allows you to *read_count* and can be reset to *zero*"
      ],
      "metadata": {
        "id": "RimtqDmMgmqa"
      }
    },
    {
      "cell_type": "code",
      "source": [
        "# define a class use *class* keyword and a PascalCase (like camelcase but first letter *has* to be capitalized -> PascalCase vs camelCase)\n",
        "\n",
        "class CountingClicker():\n",
        "  '''A class can/should have a docstring, just like a fucntion'''\n"
      ],
      "metadata": {
        "id": "KLXCaeTVfabW"
      },
      "execution_count": 11,
      "outputs": []
    },
    {
      "cell_type": "markdown",
      "source": [
        "a class contains zero or more *MEMBER* functions.   By convention, each takes a first parameter, **SELF**, that refers to the particular class instance.  \n",
        "\n",
        "Normally, a class has a constructor, named *_init_* It takes whatever parameters you need to construct an instance of your class and does whatever setup you need:"
      ],
      "metadata": {
        "id": "7pZfXocak7c_"
      }
    },
    {
      "cell_type": "code",
      "source": [
        "def _init_(self, count=0):\n",
        "  self.count = count"
      ],
      "metadata": {
        "id": "vIXj8aGbfaeg"
      },
      "execution_count": 9,
      "outputs": []
    },
    {
      "cell_type": "code",
      "source": [
        "clicker1 = CountingClicker() # intialized to 0\n",
        "# clicker2 = CountingClicker(100) |||| # starts with count=100\n",
        "# clicker3 = CountingClicker(count=100) |||| # more expliect way of doing the above line\n"
      ],
      "metadata": {
        "id": "oMEIsT0qfahF"
      },
      "execution_count": 13,
      "outputs": []
    },
    {
      "cell_type": "code",
      "source": [
        "# __repr__ procudes the string represetnation of a class instance\n",
        "def __repr__(self):\n",
        "  return f'CountingClicker(count={self.count})'\n",
        "\n",
        "# Need to implement the public API of our class:\n",
        "def click(self, num_times = 1):\n",
        "  '''click the clicker some number of times.'''\n",
        "  self.count += num_times\n",
        "\n",
        "def read(self):\n",
        "  return self.count \n",
        "\n",
        "def reset(self):\n",
        "  self.count = 0\n"
      ],
      "metadata": {
        "id": "m-k0bRKynN7o"
      },
      "execution_count": 16,
      "outputs": []
    },
    {
      "cell_type": "markdown",
      "source": [
        "Using *assert* to write tests cases for our clicker"
      ],
      "metadata": {
        "id": "MTrLEV-PmWPB"
      }
    },
    {
      "cell_type": "code",
      "source": [
        "clicker = CountingClicker()\n",
        "assert clicker.read() == 0, \"clicker should start with count 0\"\n",
        "clicker.click()\n",
        "clicker.click()\n",
        "clicker.click()\n",
        "assert clicker.read() == 3, \"after two clicks, click should have count of 3\"\n",
        "clicker.reset() # reset it\n",
        "assert clicker.read() == 0, \"after resetm clicker should be back to 0\""
      ],
      "metadata": {
        "colab": {
          "base_uri": "https://localhost:8080/",
          "height": 235
        },
        "id": "Cer84ipwfajj",
        "outputId": "30e98e41-45fc-49c4-e74d-27eea75a323c"
      },
      "execution_count": 17,
      "outputs": [
        {
          "output_type": "error",
          "ename": "AttributeError",
          "evalue": "ignored",
          "traceback": [
            "\u001b[0;31m---------------------------------------------------------------------------\u001b[0m",
            "\u001b[0;31mAttributeError\u001b[0m                            Traceback (most recent call last)",
            "\u001b[0;32m<ipython-input-17-11f210367dd3>\u001b[0m in \u001b[0;36m<module>\u001b[0;34m()\u001b[0m\n\u001b[1;32m      1\u001b[0m \u001b[0mclicker\u001b[0m \u001b[0;34m=\u001b[0m \u001b[0mCountingClicker\u001b[0m\u001b[0;34m(\u001b[0m\u001b[0;34m)\u001b[0m\u001b[0;34m\u001b[0m\u001b[0;34m\u001b[0m\u001b[0m\n\u001b[0;32m----> 2\u001b[0;31m \u001b[0;32massert\u001b[0m \u001b[0mclicker\u001b[0m\u001b[0;34m.\u001b[0m\u001b[0mread\u001b[0m\u001b[0;34m(\u001b[0m\u001b[0;34m)\u001b[0m \u001b[0;34m==\u001b[0m \u001b[0;36m0\u001b[0m\u001b[0;34m,\u001b[0m \u001b[0;34m\"clicker should start with count 0\"\u001b[0m\u001b[0;34m\u001b[0m\u001b[0;34m\u001b[0m\u001b[0m\n\u001b[0m\u001b[1;32m      3\u001b[0m \u001b[0mclicker\u001b[0m\u001b[0;34m.\u001b[0m\u001b[0mclick\u001b[0m\u001b[0;34m(\u001b[0m\u001b[0;34m)\u001b[0m\u001b[0;34m\u001b[0m\u001b[0;34m\u001b[0m\u001b[0m\n\u001b[1;32m      4\u001b[0m \u001b[0mclicker\u001b[0m\u001b[0;34m.\u001b[0m\u001b[0mclick\u001b[0m\u001b[0;34m(\u001b[0m\u001b[0;34m)\u001b[0m\u001b[0;34m\u001b[0m\u001b[0;34m\u001b[0m\u001b[0m\n\u001b[1;32m      5\u001b[0m \u001b[0mclicker\u001b[0m\u001b[0;34m.\u001b[0m\u001b[0mclick\u001b[0m\u001b[0;34m(\u001b[0m\u001b[0;34m)\u001b[0m\u001b[0;34m\u001b[0m\u001b[0;34m\u001b[0m\u001b[0m\n",
            "\u001b[0;31mAttributeError\u001b[0m: 'CountingClicker' object has no attribute 'read'"
          ]
        }
      ]
    },
    {
      "cell_type": "markdown",
      "source": [
        ""
      ],
      "metadata": {
        "id": "ukCng1-YmNe8"
      }
    }
  ]
}