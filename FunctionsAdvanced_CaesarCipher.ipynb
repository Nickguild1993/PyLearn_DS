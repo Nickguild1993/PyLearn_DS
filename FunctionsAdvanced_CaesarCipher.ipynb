{
  "nbformat": 4,
  "nbformat_minor": 0,
  "metadata": {
    "colab": {
      "name": "FunctionsAdvanced_CaesarCipher.ipynb",
      "provenance": [],
      "authorship_tag": "ABX9TyPwAWp+Ppfq3pe006dmAyWB",
      "include_colab_link": true
    },
    "kernelspec": {
      "name": "python3",
      "display_name": "Python 3"
    },
    "language_info": {
      "name": "python"
    }
  },
  "cells": [
    {
      "cell_type": "markdown",
      "metadata": {
        "id": "view-in-github",
        "colab_type": "text"
      },
      "source": [
        "<a href=\"https://colab.research.google.com/github/Nickguild1993/PyLearn_DS/blob/main/FunctionsAdvanced_CaesarCipher.ipynb\" target=\"_parent\"><img src=\"https://colab.research.google.com/assets/colab-badge.svg\" alt=\"Open In Colab\"/></a>"
      ]
    },
    {
      "cell_type": "markdown",
      "source": [
        "Going over advanced function usage and creating a casearian cipher"
      ],
      "metadata": {
        "id": "l6uFK_rrkBg_"
      }
    },
    {
      "cell_type": "code",
      "execution_count": 1,
      "metadata": {
        "id": "kAZ4SmImj9pF"
      },
      "outputs": [],
      "source": [
        "# import libraries\n",
        "import pandas as pd \n",
        "import numpy as np\n",
        "import random"
      ]
    },
    {
      "cell_type": "code",
      "source": [
        "def my_func():\n",
        "  print(\"Asuh, world\")"
      ],
      "metadata": {
        "id": "CEfg_ZFckWIR"
      },
      "execution_count": 2,
      "outputs": []
    },
    {
      "cell_type": "code",
      "source": [
        "my_func()"
      ],
      "metadata": {
        "colab": {
          "base_uri": "https://localhost:8080/"
        },
        "id": "8PU3xku0ksYl",
        "outputId": "56da283a-9813-4fd1-8fcd-46263980eb5d"
      },
      "execution_count": 3,
      "outputs": [
        {
          "output_type": "stream",
          "name": "stdout",
          "text": [
            "Asuh, world\n"
          ]
        }
      ]
    },
    {
      "cell_type": "code",
      "source": [
        "def print_name(name):\n",
        "  print(f'Asuh {name}')\n",
        "\n",
        "print_name(\"Nick\")"
      ],
      "metadata": {
        "colab": {
          "base_uri": "https://localhost:8080/"
        },
        "id": "9-Px5KCqkyLl",
        "outputId": "d98a9e9f-fe2e-496a-bcc4-bd8e00009303"
      },
      "execution_count": 4,
      "outputs": [
        {
          "output_type": "stream",
          "name": "stdout",
          "text": [
            "Asuh Nick\n"
          ]
        }
      ]
    },
    {
      "cell_type": "code",
      "source": [
        "def print_age(name, age):\n",
        "  print(f'Hello {name}, you are {age} years old')\n",
        "print_age(\"Nick\", 29)"
      ],
      "metadata": {
        "colab": {
          "base_uri": "https://localhost:8080/"
        },
        "id": "vZgtgwBzlBt9",
        "outputId": "362eb7f4-5a61-47ed-dd1e-38d577008535"
      },
      "execution_count": 5,
      "outputs": [
        {
          "output_type": "stream",
          "name": "stdout",
          "text": [
            "Hello Nick, you are 29 years old\n"
          ]
        }
      ]
    },
    {
      "cell_type": "code",
      "source": [
        "def calculate_age(birth_year):\n",
        "  return 2022 - birth_year # anything after return doesn't print/iterate\n",
        "\n",
        "calculate_age(1993)"
      ],
      "metadata": {
        "colab": {
          "base_uri": "https://localhost:8080/"
        },
        "id": "ekLp_FgGkySt",
        "outputId": "b3cc9e03-9d19-4a2b-8cb8-12435b6ad5d2"
      },
      "execution_count": 6,
      "outputs": [
        {
          "output_type": "execute_result",
          "data": {
            "text/plain": [
              "29"
            ]
          },
          "metadata": {},
          "execution_count": 6
        }
      ]
    },
    {
      "cell_type": "markdown",
      "source": [
        "#### new things"
      ],
      "metadata": {
        "id": "AZxI3XSll73P"
      }
    },
    {
      "cell_type": "markdown",
      "source": [
        "  ord() returns the numeric for the inputed character\n",
        "\n",
        "\n",
        "  chr() returns the character for the inputed numeric"
      ],
      "metadata": {
        "id": "gCZBKj4umJjc"
      }
    },
    {
      "cell_type": "code",
      "source": [
        "print(ord(\"A\"))\n",
        "print(ord(\"C\"))"
      ],
      "metadata": {
        "colab": {
          "base_uri": "https://localhost:8080/"
        },
        "id": "j768oRoakyVg",
        "outputId": "d4926172-7bb8-44aa-b2b4-c14ce6b19b21"
      },
      "execution_count": 9,
      "outputs": [
        {
          "output_type": "stream",
          "name": "stdout",
          "text": [
            "65\n",
            "67\n"
          ]
        }
      ]
    },
    {
      "cell_type": "code",
      "source": [
        "print(chr(65))\n",
        "print(chr(67))"
      ],
      "metadata": {
        "colab": {
          "base_uri": "https://localhost:8080/"
        },
        "id": "foQOowF_kyYS",
        "outputId": "ea0d20bd-41f5-40e5-9218-ca83960b5ea3"
      },
      "execution_count": 10,
      "outputs": [
        {
          "output_type": "stream",
          "name": "stdout",
          "text": [
            "A\n",
            "C\n"
          ]
        }
      ]
    },
    {
      "cell_type": "code",
      "source": [
        "for c in range(65, 65 + 26):\n",
        "  print(f'{c} is {chr(c)}')"
      ],
      "metadata": {
        "colab": {
          "base_uri": "https://localhost:8080/"
        },
        "id": "NLhWVUT5kybM",
        "outputId": "28974975-e445-4e3c-8ebf-5eab7968b3b0"
      },
      "execution_count": 11,
      "outputs": [
        {
          "output_type": "stream",
          "name": "stdout",
          "text": [
            "65 is A\n",
            "66 is B\n",
            "67 is C\n",
            "68 is D\n",
            "69 is E\n",
            "70 is F\n",
            "71 is G\n",
            "72 is H\n",
            "73 is I\n",
            "74 is J\n",
            "75 is K\n",
            "76 is L\n",
            "77 is M\n",
            "78 is N\n",
            "79 is O\n",
            "80 is P\n",
            "81 is Q\n",
            "82 is R\n",
            "83 is S\n",
            "84 is T\n",
            "85 is U\n",
            "86 is V\n",
            "87 is W\n",
            "88 is X\n",
            "89 is Y\n",
            "90 is Z\n"
          ]
        }
      ]
    },
    {
      "cell_type": "code",
      "source": [
        "hours = 26\n",
        "hours % 24 # 24 goes into 26 once, with a remainder of 2"
      ],
      "metadata": {
        "colab": {
          "base_uri": "https://localhost:8080/"
        },
        "id": "Eq5ONB6gnIw0",
        "outputId": "547d0e9c-7051-42ff-9ae4-b687f8ad118b"
      },
      "execution_count": 15,
      "outputs": [
        {
          "output_type": "execute_result",
          "data": {
            "text/plain": [
              "2"
            ]
          },
          "metadata": {},
          "execution_count": 15
        }
      ]
    },
    {
      "cell_type": "code",
      "source": [
        "hours = 67\n",
        "hours % 24 # the output is the remainder after you divide the numerator by the denominator "
      ],
      "metadata": {
        "colab": {
          "base_uri": "https://localhost:8080/"
        },
        "id": "NSOC9hcmmx4P",
        "outputId": "d4454ff1-d1c6-4c1e-b793-a0309be24f42"
      },
      "execution_count": 16,
      "outputs": [
        {
          "output_type": "execute_result",
          "data": {
            "text/plain": [
              "19"
            ]
          },
          "metadata": {},
          "execution_count": 16
        }
      ]
    },
    {
      "cell_type": "code",
      "source": [
        "hours = 50\n",
        "(hours + 3) % 24 # hours + 3 = 53. 24 goes into 53 twice, with a remainder of 5!"
      ],
      "metadata": {
        "colab": {
          "base_uri": "https://localhost:8080/"
        },
        "id": "6_Se_gWtnQmr",
        "outputId": "02c27340-a516-487e-c31b-ad14cf3e5120"
      },
      "execution_count": 17,
      "outputs": [
        {
          "output_type": "execute_result",
          "data": {
            "text/plain": [
              "5"
            ]
          },
          "metadata": {},
          "execution_count": 17
        }
      ]
    },
    {
      "cell_type": "code",
      "source": [
        "def is_even(n):\n",
        "  if n %2 == 0:\n",
        "    print(\"even\")\n",
        "  else:\n",
        "    print(\"odd\")\n",
        "\n",
        "is_even(10)\n",
        "is_even(13)"
      ],
      "metadata": {
        "colab": {
          "base_uri": "https://localhost:8080/"
        },
        "id": "MxmVf63SoEcJ",
        "outputId": "8641ca38-3ca3-4226-8722-5e6118b70e96"
      },
      "execution_count": 19,
      "outputs": [
        {
          "output_type": "stream",
          "name": "stdout",
          "text": [
            "even\n",
            "odd\n"
          ]
        }
      ]
    },
    {
      "cell_type": "code",
      "source": [
        "for i in range(9):\n",
        "  print(i, end = \" \")\n",
        "  is_even(i)\n"
      ],
      "metadata": {
        "colab": {
          "base_uri": "https://localhost:8080/"
        },
        "id": "4_gzAWxLoWSY",
        "outputId": "2f419b3b-7a20-482f-9e53-d423cd6006c0"
      },
      "execution_count": 24,
      "outputs": [
        {
          "output_type": "stream",
          "name": "stdout",
          "text": [
            "0 even\n",
            "1 odd\n",
            "2 even\n",
            "3 odd\n",
            "4 even\n",
            "5 odd\n",
            "6 even\n",
            "7 odd\n",
            "8 even\n"
          ]
        }
      ]
    },
    {
      "cell_type": "markdown",
      "source": [
        "#### Cesearian Cipher"
      ],
      "metadata": {
        "id": "zJ8s0bLpowDA"
      }
    },
    {
      "cell_type": "markdown",
      "source": [
        "simple subsitution cipher, shifts the character by a fixed number.\n",
        "\n",
        "- implement helper function **encrypt_char(char, key)** to encrypt a single character, **char** with **key**.\n",
        "  - helpful to use ord() , chr(), %\n",
        "\n",
        "- implement *encrypt_message(message,key) which should use the helper function\n",
        "- implement similar functions for decryption"
      ],
      "metadata": {
        "id": "3el2tcc3ozHn"
      }
    },
    {
      "cell_type": "code",
      "source": [
        "for char in range(65, 65 + 26):\n",
        "  print(f' {char} is {chr(char)}', end = \" \")"
      ],
      "metadata": {
        "colab": {
          "base_uri": "https://localhost:8080/"
        },
        "id": "NWNcPPxsu-iG",
        "outputId": "93e9478c-e449-4172-ad44-dfae155c7bf2"
      },
      "execution_count": 27,
      "outputs": [
        {
          "output_type": "stream",
          "name": "stdout",
          "text": [
            " 65 is A  66 is B  67 is C  68 is D  69 is E  70 is F  71 is G  72 is H  73 is I  74 is J  75 is K  76 is L  77 is M  78 is N  79 is O  80 is P  81 is Q  82 is R  83 is S  84 is T  85 is U  86 is V  87 is W  88 is X  89 is Y  90 is Z "
          ]
        }
      ]
    },
    {
      "cell_type": "code",
      "source": [
        "print(ord(\"A\"))\n",
        "print(ord(\"Z\"))"
      ],
      "metadata": {
        "colab": {
          "base_uri": "https://localhost:8080/"
        },
        "id": "aHvDdRXYvbxm",
        "outputId": "d0e810bd-4a3c-4587-a217-4f9d92880299"
      },
      "execution_count": 29,
      "outputs": [
        {
          "output_type": "stream",
          "name": "stdout",
          "text": [
            "65\n",
            "90\n"
          ]
        }
      ]
    },
    {
      "cell_type": "code",
      "source": [
        "for char in range(65,65 + 26):\n",
        "  print(f'{char} is {chr(char + 1)}')\n",
        "\n",
        "char"
      ],
      "metadata": {
        "colab": {
          "base_uri": "https://localhost:8080/"
        },
        "id": "7lE6DKjIwbnu",
        "outputId": "7740d5e3-346d-43b8-9bec-1dc26505cd98"
      },
      "execution_count": 37,
      "outputs": [
        {
          "output_type": "stream",
          "name": "stdout",
          "text": [
            "65 is B\n",
            "66 is C\n",
            "67 is D\n",
            "68 is E\n",
            "69 is F\n",
            "70 is G\n",
            "71 is H\n",
            "72 is I\n",
            "73 is J\n",
            "74 is K\n",
            "75 is L\n",
            "76 is M\n",
            "77 is N\n",
            "78 is O\n",
            "79 is P\n",
            "80 is Q\n",
            "81 is R\n",
            "82 is S\n",
            "83 is T\n",
            "84 is U\n",
            "85 is V\n",
            "86 is W\n",
            "87 is X\n",
            "88 is Y\n",
            "89 is Z\n",
            "90 is [\n"
          ]
        },
        {
          "output_type": "execute_result",
          "data": {
            "text/plain": [
              "90"
            ]
          },
          "metadata": {},
          "execution_count": 37
        }
      ]
    },
    {
      "cell_type": "code",
      "source": [
        "test = [letter +1 for letter in range(ord(\"A\"))]\n",
        "print(test, end=\" \")                    "
      ],
      "metadata": {
        "colab": {
          "base_uri": "https://localhost:8080/"
        },
        "id": "QGqyzDUwwwgO",
        "outputId": "49fc908a-8f0a-45f6-d966-64aefcdcd0b6"
      },
      "execution_count": 43,
      "outputs": [
        {
          "output_type": "stream",
          "name": "stdout",
          "text": [
            "[1, 2, 3, 4, 5, 6, 7, 8, 9, 10, 11, 12, 13, 14, 15, 16, 17, 18, 19, 20, 21, 22, 23, 24, 25, 26, 27, 28, 29, 30, 31, 32, 33, 34, 35, 36, 37, 38, 39, 40, 41, 42, 43, 44, 45, 46, 47, 48, 49, 50, 51, 52, 53, 54, 55, 56, 57, 58, 59, 60, 61, 62, 63, 64, 65] "
          ]
        }
      ]
    },
    {
      "cell_type": "code",
      "source": [
        "letters = []\n",
        "\n",
        "for i in range(65,65 + 26):\n",
        "  letters.append(chr(i))\n",
        "print(letters)"
      ],
      "metadata": {
        "colab": {
          "base_uri": "https://localhost:8080/"
        },
        "id": "LENRda4szBOa",
        "outputId": "42427074-24f0-411a-e758-c7dfd5d49cf7"
      },
      "execution_count": 56,
      "outputs": [
        {
          "output_type": "stream",
          "name": "stdout",
          "text": [
            "['A', 'B', 'C', 'D', 'E', 'F', 'G', 'H', 'I', 'J', 'K', 'L', 'M', 'N', 'O', 'P', 'Q', 'R', 'S', 'T', 'U', 'V', 'W', 'X', 'Y', 'Z']\n"
          ]
        }
      ]
    },
    {
      "cell_type": "code",
      "source": [
        "numbers = []\n",
        "\n",
        "for n in range(65,65 +26):\n",
        "  numbers.append(n)\n"
      ],
      "metadata": {
        "id": "35lblGah0ATQ"
      },
      "execution_count": 52,
      "outputs": []
    },
    {
      "cell_type": "code",
      "source": [
        "encrypt_numbers = [n + 2 for n in numbers]\n",
        "\n",
        "zipped = zip(letters, encrypt_numbers)\n",
        "encrypt = list(zipped)\n",
        "print(encrypt, end = \" \")"
      ],
      "metadata": {
        "colab": {
          "base_uri": "https://localhost:8080/"
        },
        "id": "zLkhUPjn00PK",
        "outputId": "617b7bb8-d891-476e-9bea-43b01cf96045"
      },
      "execution_count": 65,
      "outputs": [
        {
          "output_type": "stream",
          "name": "stdout",
          "text": [
            "[('A', 67), ('B', 68), ('C', 69), ('D', 70), ('E', 71), ('F', 72), ('G', 73), ('H', 74), ('I', 75), ('J', 76), ('K', 77), ('L', 78), ('M', 79), ('N', 80), ('O', 81), ('P', 82), ('Q', 83), ('R', 84), ('S', 85), ('T', 86), ('U', 87), ('V', 88), ('W', 89), ('X', 90), ('Y', 91), ('Z', 92)] "
          ]
        }
      ]
    },
    {
      "cell_type": "code",
      "source": [
        "# decrypt_numbers = [n - 2 for n in numbers]\n",
        "\n",
        "zipped_1 = zip(letters, numbers)\n",
        "decrypt = list(zipped_1)\n",
        "print(decrypt, end = \" \")"
      ],
      "metadata": {
        "colab": {
          "base_uri": "https://localhost:8080/"
        },
        "id": "GwCOWYHY1T-Z",
        "outputId": "2322905e-ac2c-45cc-f0d2-34fb69afd1b1"
      },
      "execution_count": 64,
      "outputs": [
        {
          "output_type": "stream",
          "name": "stdout",
          "text": [
            "[('A', 65), ('B', 66), ('C', 67), ('D', 68), ('E', 69), ('F', 70), ('G', 71), ('H', 72), ('I', 73), ('J', 74), ('K', 75), ('L', 76), ('M', 77), ('N', 78), ('O', 79), ('P', 80), ('Q', 81), ('R', 82), ('S', 83), ('T', 84), ('U', 85), ('V', 86), ('W', 87), ('X', 88), ('Y', 89), ('Z', 90)] "
          ]
        }
      ]
    },
    {
      "cell_type": "code",
      "source": [
        "decrypt[1]"
      ],
      "metadata": {
        "colab": {
          "base_uri": "https://localhost:8080/"
        },
        "id": "AG4fBYwA2EiJ",
        "outputId": "005d9994-855d-4e0b-b32c-45d258d0a1d3"
      },
      "execution_count": 69,
      "outputs": [
        {
          "output_type": "execute_result",
          "data": {
            "text/plain": [
              "('B', 66)"
            ]
          },
          "metadata": {},
          "execution_count": 69
        }
      ]
    },
    {
      "cell_type": "code",
      "source": [
        "n = 1\n",
        "[x[n] for x in decrypt]"
      ],
      "metadata": {
        "colab": {
          "base_uri": "https://localhost:8080/"
        },
        "id": "nZLiUuS_2rhZ",
        "outputId": "171193c1-2e9f-48e8-9ec7-cd7e953cc0f5"
      },
      "execution_count": 70,
      "outputs": [
        {
          "output_type": "execute_result",
          "data": {
            "text/plain": [
              "[65,\n",
              " 66,\n",
              " 67,\n",
              " 68,\n",
              " 69,\n",
              " 70,\n",
              " 71,\n",
              " 72,\n",
              " 73,\n",
              " 74,\n",
              " 75,\n",
              " 76,\n",
              " 77,\n",
              " 78,\n",
              " 79,\n",
              " 80,\n",
              " 81,\n",
              " 82,\n",
              " 83,\n",
              " 84,\n",
              " 85,\n",
              " 86,\n",
              " 87,\n",
              " 88,\n",
              " 89,\n",
              " 90]"
            ]
          },
          "metadata": {},
          "execution_count": 70
        }
      ]
    },
    {
      "cell_type": "code",
      "source": [
        "def encrypt_char(char, key):\n",
        "  return chr(ord(\"A\") + (ord(char) - ord(\"A\") + key) % 26)"
      ],
      "metadata": {
        "id": "ZQdFhhl3qPc1"
      },
      "execution_count": 78,
      "outputs": []
    },
    {
      "cell_type": "code",
      "source": [
        "print(encrypt_char(\"X\", 3)) # shifts it 3 to the right\n",
        "print(encrypt_char(\"T\", 2)) # shifts 2 to the right"
      ],
      "metadata": {
        "colab": {
          "base_uri": "https://localhost:8080/"
        },
        "id": "gMnjakXE3g5k",
        "outputId": "c22b6330-9b2d-4a6f-8afb-1513f000f4a0"
      },
      "execution_count": 81,
      "outputs": [
        {
          "output_type": "stream",
          "name": "stdout",
          "text": [
            "A\n",
            "V\n"
          ]
        }
      ]
    },
    {
      "cell_type": "code",
      "source": [
        "def encrypt_message(message, key):\n",
        "  message = message.upper()\n",
        "  cipher = \" \"\n",
        "  for c in message:\n",
        "    if c in \" .,\":\n",
        "      cipher = cipher + c\n",
        "    else:\n",
        "      cipher = cipher + encrypt_char(c, 5)\n",
        "  return cipher"
      ],
      "metadata": {
        "id": "Zv0SAlhY6Fqy"
      },
      "execution_count": 104,
      "outputs": []
    },
    {
      "cell_type": "code",
      "source": [
        "encrypt_message(\"As The world burns\", 5)"
      ],
      "metadata": {
        "colab": {
          "base_uri": "https://localhost:8080/",
          "height": 35
        },
        "id": "Lg5Aew_s6hfi",
        "outputId": "d14cc1e9-ffd4-41f4-c23b-a4db1fca7b8e"
      },
      "execution_count": 105,
      "outputs": [
        {
          "output_type": "execute_result",
          "data": {
            "text/plain": [
              "' FX YMJ BTWQI GZWSX'"
            ],
            "application/vnd.google.colaboratory.intrinsic+json": {
              "type": "string"
            }
          },
          "metadata": {},
          "execution_count": 105
        }
      ]
    },
    {
      "cell_type": "code",
      "source": [
        "def decrypt_char(char, key):\n",
        "    return chr(ord(\"A\") + (ord(char) - ord(\"A\") + 26 - key) % 26)"
      ],
      "metadata": {
        "id": "4CnckvR58FZT"
      },
      "execution_count": 97,
      "outputs": []
    },
    {
      "cell_type": "code",
      "source": [
        "decrypt_char(\"A\", 3)"
      ],
      "metadata": {
        "colab": {
          "base_uri": "https://localhost:8080/",
          "height": 35
        },
        "id": "YAP16G_38bTC",
        "outputId": "3ea6c366-bdd4-4670-f513-33db11cec9e1"
      },
      "execution_count": 98,
      "outputs": [
        {
          "output_type": "execute_result",
          "data": {
            "text/plain": [
              "'X'"
            ],
            "application/vnd.google.colaboratory.intrinsic+json": {
              "type": "string"
            }
          },
          "metadata": {},
          "execution_count": 98
        }
      ]
    },
    {
      "cell_type": "code",
      "source": [
        "def decrypt_message(cipher, key):\n",
        "  message = \" \"\n",
        "  for c in cipher:\n",
        "    if c in \" .,\":\n",
        "      message = message + c\n",
        "    else:\n",
        "      message = message + decrypt_char(c, key)\n",
        "  return message\n"
      ],
      "metadata": {
        "id": "gVLrWsE3806l"
      },
      "execution_count": 102,
      "outputs": []
    },
    {
      "cell_type": "code",
      "source": [
        "decrypt_message(\"FX YMJ BTWQI GZWSX\", 5)"
      ],
      "metadata": {
        "colab": {
          "base_uri": "https://localhost:8080/",
          "height": 35
        },
        "id": "wiHAfRtH9ZfS",
        "outputId": "c25a2291-6827-4353-be0e-37dd39f395a5"
      },
      "execution_count": 106,
      "outputs": [
        {
          "output_type": "execute_result",
          "data": {
            "text/plain": [
              "' AS THE WORLD BURNS'"
            ],
            "application/vnd.google.colaboratory.intrinsic+json": {
              "type": "string"
            }
          },
          "metadata": {},
          "execution_count": 106
        }
      ]
    },
    {
      "cell_type": "markdown",
      "source": [
        "#### more concise version"
      ],
      "metadata": {
        "id": "v5O6idQzCLH5"
      }
    },
    {
      "cell_type": "code",
      "source": [
        "def decrypt_message_again(cipher,key):\n",
        "  return encrypt_message(cipher, 26 - key)"
      ],
      "metadata": {
        "id": "aiur-EA0COCg"
      },
      "execution_count": 107,
      "outputs": []
    },
    {
      "cell_type": "code",
      "source": [
        "decrypt_message_again(\"FX YMJ BTWQI GZWSX\", 5)"
      ],
      "metadata": {
        "colab": {
          "base_uri": "https://localhost:8080/",
          "height": 35
        },
        "id": "pEwG9GR3CVuw",
        "outputId": "098a1e06-b7f3-4f12-a7b2-aa9ff6136d85"
      },
      "execution_count": 108,
      "outputs": [
        {
          "output_type": "execute_result",
          "data": {
            "text/plain": [
              "' KC DRO GYBVN LEBXC'"
            ],
            "application/vnd.google.colaboratory.intrinsic+json": {
              "type": "string"
            }
          },
          "metadata": {},
          "execution_count": 108
        }
      ]
    }
  ]
}