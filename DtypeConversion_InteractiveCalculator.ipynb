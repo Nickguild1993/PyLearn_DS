{
  "nbformat": 4,
  "nbformat_minor": 0,
  "metadata": {
    "colab": {
      "name": "DtypeConversion_InteractiveCalculator.ipynb",
      "provenance": [],
      "collapsed_sections": [],
      "authorship_tag": "ABX9TyOI2DMl1TbBr3BZKdGAwd5F",
      "include_colab_link": true
    },
    "kernelspec": {
      "name": "python3",
      "display_name": "Python 3"
    },
    "language_info": {
      "name": "python"
    }
  },
  "cells": [
    {
      "cell_type": "markdown",
      "metadata": {
        "id": "view-in-github",
        "colab_type": "text"
      },
      "source": [
        "<a href=\"https://colab.research.google.com/github/Nickguild1993/PyLearn_DS/blob/main/DtypeConversion_InteractiveCalculator.ipynb\" target=\"_parent\"><img src=\"https://colab.research.google.com/assets/colab-badge.svg\" alt=\"Open In Colab\"/></a>"
      ]
    },
    {
      "cell_type": "markdown",
      "source": [
        "Data type conversion overview \n",
        "1. Formatted Strings\n",
        "2. Types that are !=\n",
        "3. convert them with int(), float(), str()"
      ],
      "metadata": {
        "id": "AKZKg6OtzKAx"
      }
    },
    {
      "cell_type": "code",
      "execution_count": 44,
      "metadata": {
        "id": "0BAMqriuroz6"
      },
      "outputs": [],
      "source": [
        "# import the basics\n",
        "\n",
        "import pandas as pd\n",
        "import numpy as np"
      ]
    },
    {
      "cell_type": "code",
      "source": [
        "name = input(\"What is your name?\")\n",
        "print(f'Hello {name}!')\n",
        "age = input(\"what is your birth year?\")\n",
        "print(f'you are acutally {age}?' )"
      ],
      "metadata": {
        "colab": {
          "base_uri": "https://localhost:8080/"
        },
        "id": "tBg-pmzOzTpZ",
        "outputId": "db8086a6-bf8f-4cba-a5ba-5ef4ed0ab970"
      },
      "execution_count": 4,
      "outputs": [
        {
          "output_type": "stream",
          "name": "stdout",
          "text": [
            "What is your name?Nick\n",
            "Hello Nick!\n",
            "what is your birth year?1993\n",
            "you are acutally 1993?\n"
          ]
        }
      ]
    },
    {
      "cell_type": "code",
      "source": [
        "# name = input(\"What is your name?\")\n",
        "# print(f'Hello {name}!')\n",
        "# age = input(\"what is your birth year?\")\n",
        "# print(f'you are {2022 - age}?' )\n",
        "\n",
        "# this doesn't work! \n",
        "# doesn't work b/c unsupported operator for int / string\n"
      ],
      "metadata": {
        "id": "nc-mqrt4zuPO"
      },
      "execution_count": 6,
      "outputs": []
    },
    {
      "cell_type": "code",
      "source": [
        "type(age) # that's why - it's a string!"
      ],
      "metadata": {
        "colab": {
          "base_uri": "https://localhost:8080/"
        },
        "id": "pS6JdpOp0o-L",
        "outputId": "b1781705-bc4c-4e2f-b050-b861f9cd31c3"
      },
      "execution_count": 7,
      "outputs": [
        {
          "output_type": "execute_result",
          "data": {
            "text/plain": [
              "str"
            ]
          },
          "metadata": {},
          "execution_count": 7
        }
      ]
    },
    {
      "cell_type": "code",
      "source": [
        "# int(age)\n",
        "\n",
        "name = input(\"What is your name?\")\n",
        "print(f'Hello {name}!')\n",
        "age = input(\"what is your birth year?\")\n",
        "age = int(age)\n",
        "print(f'you were born in {2022 - age}?' )\n"
      ],
      "metadata": {
        "colab": {
          "base_uri": "https://localhost:8080/"
        },
        "id": "S09PvTLE0ogt",
        "outputId": "2eee537b-846e-48f1-f723-22116a67522c"
      },
      "execution_count": 10,
      "outputs": [
        {
          "output_type": "stream",
          "name": "stdout",
          "text": [
            "What is your name?Nick\n",
            "Hello Nick!\n",
            "what is your birth year?1993\n",
            "you were born in 29?\n"
          ]
        }
      ]
    },
    {
      "cell_type": "markdown",
      "source": [
        "#### combining different data types"
      ],
      "metadata": {
        "id": "tyo0ysD_1za-"
      }
    },
    {
      "cell_type": "code",
      "source": [
        "s = \"These goddamn panckaes are gorgous\"\n",
        "i = 69\n",
        "\n",
        "# string + int won't work of course\n",
        "# but\n",
        "\n",
        "print(s + str(i))\n",
        "\n",
        "z = s + str(i)\n",
        "type(z)"
      ],
      "metadata": {
        "colab": {
          "base_uri": "https://localhost:8080/"
        },
        "id": "CwmEYgYr1Rpc",
        "outputId": "ca7da91f-f831-4a35-9e90-6524939282af"
      },
      "execution_count": 24,
      "outputs": [
        {
          "output_type": "stream",
          "name": "stdout",
          "text": [
            "These goddamn panckaes are gorgous69\n"
          ]
        },
        {
          "output_type": "execute_result",
          "data": {
            "text/plain": [
              "str"
            ]
          },
          "metadata": {},
          "execution_count": 24
        }
      ]
    },
    {
      "cell_type": "markdown",
      "source": [
        "#### Project: Interactive Calculator"
      ],
      "metadata": {
        "id": "BZDL1JDc2oYQ"
      }
    },
    {
      "cell_type": "markdown",
      "source": [
        "Goal: \n",
        "1. Multiply two numbers\n",
        "2. days since you were born\n",
        "3. tip calculator\n",
        "\n"
      ],
      "metadata": {
        "id": "b0iI0QJ826SE"
      }
    },
    {
      "cell_type": "code",
      "source": [
        "# input value from the user and keep it in var=a\n",
        "# input another value from the user and keep it in var = b\n",
        "# print the product of the two\n",
        "\n",
        "a = input(f'What is your first number?')\n",
        "print(f\"your first number is {a}.\")\n",
        "a = int(a)\n",
        "b = input(f' What is your second number, coward?')\n",
        "b = int(b)\n",
        "print(f'your second number is {b}.')\n",
        "print(f'the product of the two is {a * b}')\n"
      ],
      "metadata": {
        "colab": {
          "base_uri": "https://localhost:8080/"
        },
        "id": "O4iPpnB021DE",
        "outputId": "9a61e588-b53d-4c27-e8e7-0264bfd26a8c"
      },
      "execution_count": 27,
      "outputs": [
        {
          "output_type": "stream",
          "name": "stdout",
          "text": [
            "What is your first number?23\n",
            "your first number is 23.\n",
            " What is your second number, coward?54\n",
            "your second number is 54.\n",
            "the product of the two is 1242\n"
          ]
        }
      ]
    },
    {
      "cell_type": "code",
      "source": [
        "# input user age\n",
        "# convert years to int\n",
        "# calculate how many days, hours, minutes, and second the user is\n",
        "\n",
        "years = input(f\"How goddamn old are you?\")\n",
        "print(f'You are really {years} old? Wow.')\n",
        "years = int(years)\n",
        "days = years * 365\n",
        "hours = years * 365 * 24\n",
        "minutes = years * 365 * 24 * 60\n",
        "seconds = years * 365 * 24 * 60 * 60\n",
        "print(f'you are {days} days old, {hours} hours old, {minutes} minutes old, and {seconds} seconds old')"
      ],
      "metadata": {
        "colab": {
          "base_uri": "https://localhost:8080/"
        },
        "id": "2fQb_nks4SBP",
        "outputId": "a5b70b18-5002-42bc-ff31-eaf0ebfa7e0c"
      },
      "execution_count": 30,
      "outputs": [
        {
          "output_type": "stream",
          "name": "stdout",
          "text": [
            "How goddamn old are you?29\n",
            "You are really 29 old? Wow.\n",
            "you are 10585 days old, 254040 hours old, 15242400 minutes old, and 914544000 seconds old\n"
          ]
        }
      ]
    },
    {
      "cell_type": "markdown",
      "source": [
        "1. Create a tip calculator \n",
        "2. input price\n",
        "3. conver the price to an integer"
      ],
      "metadata": {
        "id": "XZCN7NwO5ufw"
      }
    },
    {
      "cell_type": "code",
      "source": [
        "def tip_calculator(tips):\n",
        "  return tips *1.085\n",
        "\n",
        "meal = input(f'How much was your meal?')\n",
        "print(f'my meal was {meal}.')\n",
        "meal = int(meal)\n",
        "print(tip_calculator(meal))"
      ],
      "metadata": {
        "colab": {
          "base_uri": "https://localhost:8080/"
        },
        "id": "HLOiaWRl5uAK",
        "outputId": "caa03c19-6763-4d6e-dbcf-c732d748f02a"
      },
      "execution_count": 32,
      "outputs": [
        {
          "output_type": "stream",
          "name": "stdout",
          "text": [
            "How much was your meal?56\n",
            "my meal was 56.\n",
            "60.76\n"
          ]
        }
      ]
    },
    {
      "cell_type": "code",
      "source": [
        "price = input(f'How much was your meal?')\n",
        "print(f'My meal was {price}.')\n",
        "price = int(price)\n",
        "tip = float(tip)\n",
        "tip = input(f'what percent would you like to tip?')\n",
        "print(f'I will do {tip} percent')\n",
        "tip = float(tip)\n",
        "total = (price * tip)\n",
        "total = round(total, 3)\n",
        "print(f'Your total is ${total}')"
      ],
      "metadata": {
        "colab": {
          "base_uri": "https://localhost:8080/"
        },
        "id": "EZuOmnr86yKR",
        "outputId": "3a8eec4f-a331-4264-aa5f-0c1cf5ca29b2"
      },
      "execution_count": 43,
      "outputs": [
        {
          "output_type": "stream",
          "name": "stdout",
          "text": [
            "How much was your meal?26\n",
            "My meal was 26.\n",
            "what percent would you like to tip?1.25\n",
            "I will do 1.25 percent\n",
            "Your total is $32.5\n"
          ]
        }
      ]
    }
  ]
}