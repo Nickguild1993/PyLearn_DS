{
  "nbformat": 4,
  "nbformat_minor": 0,
  "metadata": {
    "colab": {
      "name": "ListComprehensionAdvanced.ipynb",
      "provenance": [],
      "collapsed_sections": [],
      "authorship_tag": "ABX9TyNiCIwuvEhZBLVF/egnoNkf",
      "include_colab_link": true
    },
    "kernelspec": {
      "name": "python3",
      "display_name": "Python 3"
    },
    "language_info": {
      "name": "python"
    }
  },
  "cells": [
    {
      "cell_type": "markdown",
      "metadata": {
        "id": "view-in-github",
        "colab_type": "text"
      },
      "source": [
        "<a href=\"https://colab.research.google.com/github/Nickguild1993/PyLearn_DS/blob/main/ListComprehensionAdvanced.ipynb\" target=\"_parent\"><img src=\"https://colab.research.google.com/assets/colab-badge.svg\" alt=\"Open In Colab\"/></a>"
      ]
    },
    {
      "cell_type": "code",
      "execution_count": 1,
      "metadata": {
        "id": "6bpHT-OOeTjl"
      },
      "outputs": [],
      "source": [
        "import pandas as pd\n",
        "import numpy as np"
      ]
    },
    {
      "cell_type": "markdown",
      "source": [
        "#### list comprehension for filtering"
      ],
      "metadata": {
        "id": "UqqfJ9yZfvRu"
      }
    },
    {
      "cell_type": "code",
      "source": [
        "tempatures = [12,32,56,44,68,79,91,83,12]\n",
        "\n",
        "temps = [t for t in tempatures if 30 <= t < 55]\n",
        "print(temps)"
      ],
      "metadata": {
        "colab": {
          "base_uri": "https://localhost:8080/"
        },
        "id": "PgTx0Vvmfuwe",
        "outputId": "69db43be-f930-4805-d7b6-ac14564c258d"
      },
      "execution_count": 3,
      "outputs": [
        {
          "output_type": "stream",
          "name": "stdout",
          "text": [
            "[32, 44]\n"
          ]
        }
      ]
    },
    {
      "cell_type": "code",
      "source": [
        "numbers = [10,30,45,12,56,30,66,69,71,43,65,23,47,86,59]\n",
        "num = [number for number in numbers if 20 < number < 69]\n",
        "\n",
        "print(num)"
      ],
      "metadata": {
        "colab": {
          "base_uri": "https://localhost:8080/"
        },
        "id": "FGbAEHY8kM9P",
        "outputId": "34ceefd0-2416-4fc8-8cee-e4c199ecd6a2"
      },
      "execution_count": 4,
      "outputs": [
        {
          "output_type": "stream",
          "name": "stdout",
          "text": [
            "[30, 45, 56, 30, 66, 43, 65, 23, 47, 59]\n"
          ]
        }
      ]
    },
    {
      "cell_type": "code",
      "source": [
        "alphanumeric = [\"46\", \"n0w\", \"applefart\", \"76e\", \"gorg\", \"4ever\", \"lma0\"]\n",
        "\n",
        "a = [int(s) for s in alphanumeric if s.isdigit()]\n",
        "a"
      ],
      "metadata": {
        "colab": {
          "base_uri": "https://localhost:8080/"
        },
        "id": "w9hF4vA4koVU",
        "outputId": "89c3069e-46e2-467c-ae2a-4b19020742e4"
      },
      "execution_count": 5,
      "outputs": [
        {
          "output_type": "execute_result",
          "data": {
            "text/plain": [
              "[46]"
            ]
          },
          "metadata": {},
          "execution_count": 5
        }
      ]
    },
    {
      "cell_type": "markdown",
      "source": [
        "#### combining lists"
      ],
      "metadata": {
        "id": "ivgJggG1lZsZ"
      }
    },
    {
      "cell_type": "code",
      "source": [
        "colors = [\"blue\", \"purple\", \"green\", \"pink\"]\n",
        "models = [\"12\", \"12 mini\", \"14 pro\", \"14\"]\n",
        "\n",
        "b = [(model, color) for model in models for color in colors]\n",
        "b"
      ],
      "metadata": {
        "colab": {
          "base_uri": "https://localhost:8080/"
        },
        "id": "uefe9jgHlba-",
        "outputId": "d9fc2ef8-5b5b-4ea3-d0d5-fa35e1ad522c"
      },
      "execution_count": 6,
      "outputs": [
        {
          "output_type": "execute_result",
          "data": {
            "text/plain": [
              "[('12', 'blue'),\n",
              " ('12', 'purple'),\n",
              " ('12', 'green'),\n",
              " ('12', 'pink'),\n",
              " ('12 mini', 'blue'),\n",
              " ('12 mini', 'purple'),\n",
              " ('12 mini', 'green'),\n",
              " ('12 mini', 'pink'),\n",
              " ('14 pro', 'blue'),\n",
              " ('14 pro', 'purple'),\n",
              " ('14 pro', 'green'),\n",
              " ('14 pro', 'pink'),\n",
              " ('14', 'blue'),\n",
              " ('14', 'purple'),\n",
              " ('14', 'green'),\n",
              " ('14', 'pink')]"
            ]
          },
          "metadata": {},
          "execution_count": 6
        }
      ]
    },
    {
      "cell_type": "markdown",
      "source": [
        "#### Finding common elements"
      ],
      "metadata": {
        "id": "gMqLbkDKl1QY"
      }
    },
    {
      "cell_type": "code",
      "source": [
        "students_a = [\"brandon\", \"carlos\", \"lauren\", \"ashley\" , \"steve\", \"luke\", \"ron\", \"jackson\"]\n",
        "students_b = [\"lauren\", \"ashley\", \"megan\", \"alice\"]\n",
        "\n",
        "c = [student for student in students_a if student in students_b]\n",
        "print(c)"
      ],
      "metadata": {
        "colab": {
          "base_uri": "https://localhost:8080/"
        },
        "id": "Zeqa8aRNlbdt",
        "outputId": "b1d90d34-0a59-4743-8eb2-1dab7b117014"
      },
      "execution_count": 11,
      "outputs": [
        {
          "output_type": "stream",
          "name": "stdout",
          "text": [
            "['lauren', 'ashley']\n"
          ]
        }
      ]
    },
    {
      "cell_type": "code",
      "source": [
        "d = [34,56,12,14,16,69]\n",
        "e = [23,12,69,33,55,22,69]\n",
        "\n",
        "f = [number for number in d if number in e]\n",
        "f"
      ],
      "metadata": {
        "colab": {
          "base_uri": "https://localhost:8080/"
        },
        "id": "1YiKBDHClbju",
        "outputId": "0cb7230d-7c48-4483-c645-ad934640c4e8"
      },
      "execution_count": 13,
      "outputs": [
        {
          "output_type": "execute_result",
          "data": {
            "text/plain": [
              "[12, 69]"
            ]
          },
          "metadata": {},
          "execution_count": 13
        }
      ]
    },
    {
      "cell_type": "markdown",
      "source": [
        "#### combining elements with the same position"
      ],
      "metadata": {
        "id": "RDMiq4htm4hw"
      }
    },
    {
      "cell_type": "code",
      "source": [
        "names = [\"steve\", \"jackson\", \"ron\"]\n",
        "lasts = [\"scholz\", \"bowie\", \"bonilla\"]\n",
        "ages = [\"23\", 22, \"29\"]\n",
        "\n",
        "combo = [f' {name} {last} - {age}'for name, last, age in zip(names,lasts,ages)]\n",
        "print(combo)\n",
        "print(combo[1])"
      ],
      "metadata": {
        "colab": {
          "base_uri": "https://localhost:8080/"
        },
        "id": "cyYlchHLm8uI",
        "outputId": "e34609a1-0ec2-4a87-cad9-9e0e65dca206"
      },
      "execution_count": 21,
      "outputs": [
        {
          "output_type": "stream",
          "name": "stdout",
          "text": [
            "[' steve scholz - 23', ' jackson bowie - 22', ' ron bonilla - 29']\n",
            " jackson bowie - 22\n"
          ]
        }
      ]
    },
    {
      "cell_type": "markdown",
      "source": [
        "#### convert values"
      ],
      "metadata": {
        "id": "gDrjnQFHoAig"
      }
    },
    {
      "cell_type": "code",
      "source": [
        "def convert_to_dollars(eur):\n",
        "  return round(eur *1.19, 2)\n",
        "\n",
        "prices = [22.30, 12.00, 3.69, 69.42, 55.23]\n",
        "\n",
        "euros = [convert_to_dollars(eur) for eur in prices]\n",
        "print(euros)"
      ],
      "metadata": {
        "colab": {
          "base_uri": "https://localhost:8080/"
        },
        "id": "9DGqpnUNoB4_",
        "outputId": "7919aca7-8520-48d2-a73a-a81ef89f62a8"
      },
      "execution_count": 27,
      "outputs": [
        {
          "output_type": "stream",
          "name": "stdout",
          "text": [
            "[26.54, 14.28, 4.39, 82.61, 65.72]\n"
          ]
        }
      ]
    },
    {
      "cell_type": "code",
      "source": [
        "def convert_to_meters(feet):\n",
        "  return round(feet *3, 2)\n",
        "\n",
        "foots = [4,12,45,23,43,10]\n",
        "\n",
        "metric = [convert_to_meters(feet) for feet in foots]\n",
        "metric"
      ],
      "metadata": {
        "colab": {
          "base_uri": "https://localhost:8080/"
        },
        "id": "DNFj2NBLo56S",
        "outputId": "ac7c2b2e-622b-46e8-a23f-5d32ad0995ad"
      },
      "execution_count": 28,
      "outputs": [
        {
          "output_type": "execute_result",
          "data": {
            "text/plain": [
              "[12, 36, 135, 69, 129, 30]"
            ]
          },
          "metadata": {},
          "execution_count": 28
        }
      ]
    },
    {
      "cell_type": "markdown",
      "source": [
        "#### FREQUENCY COUNT"
      ],
      "metadata": {
        "id": "tJR9TUlWpS5N"
      }
    },
    {
      "cell_type": "code",
      "source": [
        "string = \"this is my rifle, there are many like it, but this one is mine.\"\n",
        "\n",
        "{c :string.count(c) for c in set(string)} # (c) key : value.count(c) for each c in set(variable)"
      ],
      "metadata": {
        "colab": {
          "base_uri": "https://localhost:8080/"
        },
        "id": "fgVLB6jjpVz3",
        "outputId": "1af6db4d-6386-4962-e9f9-238db96d8f54"
      },
      "execution_count": 29,
      "outputs": [
        {
          "output_type": "execute_result",
          "data": {
            "text/plain": [
              "{' ': 13,\n",
              " ',': 2,\n",
              " '.': 1,\n",
              " 'a': 2,\n",
              " 'b': 1,\n",
              " 'e': 7,\n",
              " 'f': 1,\n",
              " 'h': 3,\n",
              " 'i': 8,\n",
              " 'k': 1,\n",
              " 'l': 2,\n",
              " 'm': 3,\n",
              " 'n': 3,\n",
              " 'o': 1,\n",
              " 'r': 3,\n",
              " 's': 4,\n",
              " 't': 5,\n",
              " 'u': 1,\n",
              " 'y': 2}"
            ]
          },
          "metadata": {},
          "execution_count": 29
        }
      ]
    },
    {
      "cell_type": "markdown",
      "source": [
        "#### generators "
      ],
      "metadata": {
        "id": "f0qcvASlnefL"
      }
    },
    {
      "cell_type": "code",
      "source": [
        "def return_next():\n",
        "  for i in range(10):\n",
        "    yield i\n",
        "\n",
        "z = [i for i in return_next()]\n",
        "z"
      ],
      "metadata": {
        "colab": {
          "base_uri": "https://localhost:8080/"
        },
        "id": "29l6SiBfqaK2",
        "outputId": "e86f2863-481f-4101-c00c-aabab15b964f"
      },
      "execution_count": 31,
      "outputs": [
        {
          "output_type": "execute_result",
          "data": {
            "text/plain": [
              "[0, 1, 2, 3, 4, 5, 6, 7, 8, 9]"
            ]
          },
          "metadata": {},
          "execution_count": 31
        }
      ]
    }
  ]
}