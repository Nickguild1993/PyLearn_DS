{
  "nbformat": 4,
  "nbformat_minor": 0,
  "metadata": {
    "colab": {
      "name": "Ch4_LinearAlgebra_Numpy.ipynb",
      "provenance": [],
      "collapsed_sections": [],
      "authorship_tag": "ABX9TyOgng5LFfgNefDDi7P8sjHa",
      "include_colab_link": true
    },
    "kernelspec": {
      "name": "python3",
      "display_name": "Python 3"
    },
    "language_info": {
      "name": "python"
    }
  },
  "cells": [
    {
      "cell_type": "markdown",
      "metadata": {
        "id": "view-in-github",
        "colab_type": "text"
      },
      "source": [
        "<a href=\"https://colab.research.google.com/github/Nickguild1993/PyLearn_DS/blob/main/Ch4_LinearAlgebra_NumpyPart1.ipynb\" target=\"_parent\"><img src=\"https://colab.research.google.com/assets/colab-badge.svg\" alt=\"Open In Colab\"/></a>"
      ]
    },
    {
      "cell_type": "code",
      "execution_count": 14,
      "metadata": {
        "id": "TC40Z4YwOJLV"
      },
      "outputs": [],
      "source": [
        "# import libraries\n",
        "\n",
        "import pandas as pd\n",
        "import numpy as np\n",
        "import random \n",
        "from collections import Counter\n",
        "\n",
        "# importing List\n",
        "from typing import List"
      ]
    },
    {
      "cell_type": "code",
      "source": [
        "Vector = List[float]\n",
        "Vector"
      ],
      "metadata": {
        "colab": {
          "base_uri": "https://localhost:8080/"
        },
        "id": "TBbaql8LSDfu",
        "outputId": "b0e72af4-6f0c-49d8-a3bb-e9b478aea658"
      },
      "execution_count": 15,
      "outputs": [
        {
          "output_type": "execute_result",
          "data": {
            "text/plain": [
              "typing.List[float]"
            ]
          },
          "metadata": {},
          "execution_count": 15
        }
      ]
    },
    {
      "cell_type": "markdown",
      "source": [
        "### Creating vectors/matrices w/o Numpy"
      ],
      "metadata": {
        "id": "fJ_w1-rumTW2"
      }
    },
    {
      "cell_type": "code",
      "source": [
        "# creating vector and matrices W/O Numpy\n",
        "\n",
        "a = [1,3,5,7] # one dimensional -> vector\n",
        "print(a)\n",
        "\n",
        "A = [[1,2,4],\n",
        "     [3,6,8],\n",
        "     [6,1,4]]\n",
        "print(A)"
      ],
      "metadata": {
        "colab": {
          "base_uri": "https://localhost:8080/"
        },
        "id": "5ZnOUv1cV38M",
        "outputId": "b55c6b09-d32e-4678-8c3e-206edde19d97"
      },
      "execution_count": 17,
      "outputs": [
        {
          "output_type": "stream",
          "name": "stdout",
          "text": [
            "[1, 3, 5, 7]\n",
            "[[1, 2, 4], [3, 6, 8], [6, 1, 4]]\n"
          ]
        }
      ]
    },
    {
      "cell_type": "markdown",
      "source": [
        "### Using Numpy to create vectors and matrics"
      ],
      "metadata": {
        "id": "fKv9E2heXT11"
      }
    },
    {
      "cell_type": "code",
      "source": [
        "a = np.array([1,3,7,2])\n",
        "print(a)\n",
        "\n",
        "print(\"-----------------\")\n",
        "\n",
        "b = np.array([[2,3],\n",
        "             [4,6],\n",
        "              [3,9]]\n",
        "             )\n",
        "print(b)\n",
        "print(type(b))"
      ],
      "metadata": {
        "colab": {
          "base_uri": "https://localhost:8080/"
        },
        "id": "k8h8PIM8XMIe",
        "outputId": "b091f5d3-c59f-4ea0-bd2f-384cc3eefc90"
      },
      "execution_count": 20,
      "outputs": [
        {
          "output_type": "stream",
          "name": "stdout",
          "text": [
            "[1 3 7 2]\n",
            "-----------------\n",
            "[[2 3]\n",
            " [4 6]\n",
            " [3 9]]\n",
            "<class 'numpy.ndarray'>\n"
          ]
        }
      ]
    },
    {
      "cell_type": "markdown",
      "source": [
        "### indexing elements in a numpy array"
      ],
      "metadata": {
        "id": "1OKkrB-pnOYH"
      }
    },
    {
      "cell_type": "code",
      "source": [
        ""
      ],
      "metadata": {
        "id": "4OTxPkBtp9RS"
      },
      "execution_count": 33,
      "outputs": []
    },
    {
      "cell_type": "code",
      "source": [
        "a = np.random.randint(10,50,15)\n",
        "print(a)\n",
        "\n",
        "b = np.random.randint(20,100, 15)\n",
        "print(b)"
      ],
      "metadata": {
        "colab": {
          "base_uri": "https://localhost:8080/"
        },
        "id": "dgtyAzlZni3c",
        "outputId": "533f221a-c668-49e1-854f-91eb2bd0d6e3"
      },
      "execution_count": 36,
      "outputs": [
        {
          "output_type": "stream",
          "name": "stdout",
          "text": [
            "[20 12 39 40 27 13 29 26 16 18 19 13 23 15 42]\n",
            "[51 63 69 58 51 48 65 94 52 58 20 94 27 33 27]\n"
          ]
        }
      ]
    },
    {
      "cell_type": "code",
      "source": [
        "print(a[1])\n",
        "print(a[0:3])\n",
        "print(b[:1])"
      ],
      "metadata": {
        "colab": {
          "base_uri": "https://localhost:8080/"
        },
        "id": "VxGhWPBpmueV",
        "outputId": "e0d1550d-7327-4426-a8ad-f27df76bc247"
      },
      "execution_count": 35,
      "outputs": [
        {
          "output_type": "stream",
          "name": "stdout",
          "text": [
            "42\n",
            "[28 42 11]\n",
            "[71]\n"
          ]
        }
      ]
    },
    {
      "cell_type": "markdown",
      "source": [
        "### Creating Matrices"
      ],
      "metadata": {
        "id": "sdaHUh4BqIWo"
      }
    },
    {
      "cell_type": "code",
      "source": [
        "A = np.array([[1,2,3,4], [10,20,30,40], [100,200,300,400],[1000,2000,3000,4000], [10000,20000,30000,40000]])\n",
        "print(A)"
      ],
      "metadata": {
        "colab": {
          "base_uri": "https://localhost:8080/"
        },
        "id": "xz_H63GLqHx4",
        "outputId": "9c0a2b6b-55e5-4fb8-cf91-6d10cdaab485"
      },
      "execution_count": 45,
      "outputs": [
        {
          "output_type": "stream",
          "name": "stdout",
          "text": [
            "[[    1     2     3     4]\n",
            " [   10    20    30    40]\n",
            " [  100   200   300   400]\n",
            " [ 1000  2000  3000  4000]\n",
            " [10000 20000 30000 40000]]\n"
          ]
        }
      ]
    },
    {
      "cell_type": "code",
      "source": [
        "B = [value * 3 for value in A]\n",
        "B = np.array(B)\n",
        "print(B)"
      ],
      "metadata": {
        "colab": {
          "base_uri": "https://localhost:8080/"
        },
        "id": "TB1KvzgArufi",
        "outputId": "db80a220-9c0b-4d5c-b20b-f5eff37b9b4f"
      },
      "execution_count": 62,
      "outputs": [
        {
          "output_type": "stream",
          "name": "stdout",
          "text": [
            "[[     3      6      9     12]\n",
            " [    30     60     90    120]\n",
            " [   300    600    900   1200]\n",
            " [  3000   6000   9000  12000]\n",
            " [ 30000  60000  90000 120000]]\n"
          ]
        }
      ]
    },
    {
      "cell_type": "code",
      "source": [
        "print(\"Dimensions of the matrix:\", A.shape)\n",
        "print(\"The number of rows in the matrix is:\", A.shape[0])\n",
        "print(\"The number of columns in the matrix is:\", A.shape[1])"
      ],
      "metadata": {
        "colab": {
          "base_uri": "https://localhost:8080/"
        },
        "id": "y5q8sJgXqupx",
        "outputId": "f31fbc35-4e90-47c3-a712-dd8e4b1b77c2"
      },
      "execution_count": 47,
      "outputs": [
        {
          "output_type": "stream",
          "name": "stdout",
          "text": [
            "Dimensions of the matrix: (5, 4)\n",
            "The number of rows in the matrix is: 5\n",
            "The number of columns in the matrix is: 4\n"
          ]
        }
      ]
    },
    {
      "cell_type": "markdown",
      "source": [
        "Rows and Columns are indexed, so they start at 0!"
      ],
      "metadata": {
        "id": "gKmxK6DfsnCV"
      }
    },
    {
      "cell_type": "code",
      "source": [
        "print(A[2,3])\n",
        "print(B[1,1])\n",
        "print(B[1:3])"
      ],
      "metadata": {
        "colab": {
          "base_uri": "https://localhost:8080/"
        },
        "id": "JQsDD1airWii",
        "outputId": "ae7b027d-3736-4988-ad48-5ff4f73f1e0c"
      },
      "execution_count": 65,
      "outputs": [
        {
          "output_type": "stream",
          "name": "stdout",
          "text": [
            "400\n",
            "60\n",
            "[[  30   60   90  120]\n",
            " [ 300  600  900 1200]]\n"
          ]
        }
      ]
    },
    {
      "cell_type": "markdown",
      "source": [
        "Extracting a submatrix from matrix"
      ],
      "metadata": {
        "id": "s0SMMVn_s56O"
      }
    },
    {
      "cell_type": "code",
      "source": [
        "C = A[1:3]\n",
        "print(C)"
      ],
      "metadata": {
        "colab": {
          "base_uri": "https://localhost:8080/"
        },
        "id": "nASYSyQqs-OW",
        "outputId": "1e7e1327-ec9b-4553-f263-f221dc168444"
      },
      "execution_count": 68,
      "outputs": [
        {
          "output_type": "stream",
          "name": "stdout",
          "text": [
            "[[ 10  20  30  40]\n",
            " [100 200 300 400]]\n"
          ]
        }
      ]
    },
    {
      "cell_type": "markdown",
      "source": [
        "Modifying elements within an array"
      ],
      "metadata": {
        "id": "gy645wC6tJEn"
      }
    },
    {
      "cell_type": "code",
      "source": [
        "print(C[1,2])\n",
        "print(\"-----modify to new integer-----\")\n",
        "C[1,2] = 69\n",
        "print(C[1,2])"
      ],
      "metadata": {
        "colab": {
          "base_uri": "https://localhost:8080/"
        },
        "id": "IiazJUaws-SW",
        "outputId": "24b9aec2-7bbe-429a-d7d1-8a2d0b01236b"
      },
      "execution_count": 70,
      "outputs": [
        {
          "output_type": "stream",
          "name": "stdout",
          "text": [
            "69\n",
            "-----modify to new integer-----\n",
            "69\n"
          ]
        }
      ]
    },
    {
      "cell_type": "markdown",
      "source": [
        "### creating special matrices"
      ],
      "metadata": {
        "id": "bsKyUGCptole"
      }
    },
    {
      "cell_type": "code",
      "source": [
        "I = np.eye(2)\n",
        "print(I)\n",
        "print(\"---------\")\n",
        "V = np.eye(5)\n",
        "print(V)"
      ],
      "metadata": {
        "colab": {
          "base_uri": "https://localhost:8080/"
        },
        "id": "KjcI-3PVs-Un",
        "outputId": "c33f9be3-a454-4a28-ed47-1199834c9e65"
      },
      "execution_count": 73,
      "outputs": [
        {
          "output_type": "stream",
          "name": "stdout",
          "text": [
            "[[1. 0.]\n",
            " [0. 1.]]\n",
            "---------\n",
            "[[1. 0. 0. 0. 0.]\n",
            " [0. 1. 0. 0. 0.]\n",
            " [0. 0. 1. 0. 0.]\n",
            " [0. 0. 0. 1. 0.]\n",
            " [0. 0. 0. 0. 1.]]\n"
          ]
        }
      ]
    },
    {
      "cell_type": "code",
      "source": [
        "Y = np.zeros((5,4))\n",
        "print(\"Creating a matrix of zeroes with Row x Column arguments:\")\n",
        "print(Y)\n"
      ],
      "metadata": {
        "colab": {
          "base_uri": "https://localhost:8080/"
        },
        "id": "gXhDUtAKs-Wt",
        "outputId": "df07fd84-67f7-4037-9a53-73a6e3d215ae"
      },
      "execution_count": 76,
      "outputs": [
        {
          "output_type": "stream",
          "name": "stdout",
          "text": [
            "Creating a matrix of zeroes with Row x Column arguments:\n",
            "[[0. 0. 0. 0.]\n",
            " [0. 0. 0. 0.]\n",
            " [0. 0. 0. 0.]\n",
            " [0. 0. 0. 0.]\n",
            " [0. 0. 0. 0.]]\n"
          ]
        }
      ]
    },
    {
      "cell_type": "code",
      "source": [
        "Testing = [value + 2 for value in Y]\n",
        "Testing = np.array(Testing)\n",
        "print(Testing)"
      ],
      "metadata": {
        "colab": {
          "base_uri": "https://localhost:8080/"
        },
        "id": "GTuLilKfuh2h",
        "outputId": "f87d7f32-d27f-4c4b-fbb2-278e690d743a"
      },
      "execution_count": 81,
      "outputs": [
        {
          "output_type": "stream",
          "name": "stdout",
          "text": [
            "[[2. 2. 2. 2.]\n",
            " [2. 2. 2. 2.]\n",
            " [2. 2. 2. 2.]\n",
            " [2. 2. 2. 2.]\n",
            " [2. 2. 2. 2.]]\n"
          ]
        }
      ]
    },
    {
      "cell_type": "code",
      "source": [
        "# you can create multiple dimensional arrays the same way\n",
        "Z = np.zeros((3,3,3))\n",
        "print(Z)"
      ],
      "metadata": {
        "colab": {
          "base_uri": "https://localhost:8080/"
        },
        "id": "7t2ORvm9s42z",
        "outputId": "b95d8795-293c-4265-d6a6-a0147690e4bb"
      },
      "execution_count": 78,
      "outputs": [
        {
          "output_type": "stream",
          "name": "stdout",
          "text": [
            "[[[0. 0. 0.]\n",
            "  [0. 0. 0.]\n",
            "  [0. 0. 0.]]\n",
            "\n",
            " [[0. 0. 0.]\n",
            "  [0. 0. 0.]\n",
            "  [0. 0. 0.]]\n",
            "\n",
            " [[0. 0. 0.]\n",
            "  [0. 0. 0.]\n",
            "  [0. 0. 0.]]]\n"
          ]
        }
      ]
    },
    {
      "cell_type": "markdown",
      "source": [
        "Creating a matrix filled with 1s"
      ],
      "metadata": {
        "id": "Vy26P5j0vAJQ"
      }
    },
    {
      "cell_type": "code",
      "source": [
        "A = np.ones((4,2))\n",
        "print(A)"
      ],
      "metadata": {
        "colab": {
          "base_uri": "https://localhost:8080/"
        },
        "id": "nKF32VnHvB6a",
        "outputId": "67d48fc9-33f6-40b9-e345-debef33df05c"
      },
      "execution_count": 82,
      "outputs": [
        {
          "output_type": "stream",
          "name": "stdout",
          "text": [
            "[[1. 1.]\n",
            " [1. 1.]\n",
            " [1. 1.]\n",
            " [1. 1.]]\n"
          ]
        }
      ]
    },
    {
      "cell_type": "markdown",
      "source": [
        "Using np.full() to create a designed matrix with x values"
      ],
      "metadata": {
        "id": "FIznat8Owg8M"
      }
    },
    {
      "cell_type": "code",
      "source": [
        "C = np.full((3,3), 5)\n",
        "print(C)"
      ],
      "metadata": {
        "colab": {
          "base_uri": "https://localhost:8080/"
        },
        "id": "oW6G1b-FvS-q",
        "outputId": "8162d334-b037-42df-c461-38d38eafc684"
      },
      "execution_count": 83,
      "outputs": [
        {
          "output_type": "stream",
          "name": "stdout",
          "text": [
            "[[5 5 5]\n",
            " [5 5 5]\n",
            " [5 5 5]]\n"
          ]
        }
      ]
    },
    {
      "cell_type": "markdown",
      "source": [
        "### creating a randomized matrix"
      ],
      "metadata": {
        "id": "nwIkq5L9wnOq"
      }
    },
    {
      "cell_type": "code",
      "source": [
        "X = np.random.random((4,3))\n",
        "print(\"Creates a 4 x 3 matrix with floats\")\n",
        "print(\"-------------\")\n",
        "print(X)"
      ],
      "metadata": {
        "colab": {
          "base_uri": "https://localhost:8080/"
        },
        "id": "hjszuhH3wpkl",
        "outputId": "54f93cac-d8bd-4045-8da5-b36c4aa27d4e"
      },
      "execution_count": 86,
      "outputs": [
        {
          "output_type": "stream",
          "name": "stdout",
          "text": [
            "Creates a 4 x 3 matrix with floats\n",
            "-------------\n",
            "[[0.67853556 0.68841948 0.11601755]\n",
            " [0.28595477 0.77267866 0.09417859]\n",
            " [0.37052653 0.42265343 0.11579536]\n",
            " [0.38186121 0.35991253 0.85593579]]\n"
          ]
        }
      ]
    },
    {
      "cell_type": "markdown",
      "source": [
        "$$Var(X) = E(X^2) - E^2(X) = \\int_{0}^1 x^2 \\ dx - \\frac{1}{4} = \\frac{1}{3} - \\frac{1}{4} = \\frac{1}{12} $$"
      ],
      "metadata": {
        "id": "T42Dwm-Lxq_Y"
      }
    },
    {
      "cell_type": "markdown",
      "source": [
        "### Identifying / working with variables in NumPy"
      ],
      "metadata": {
        "id": "hySc534PzRQK"
      }
    },
    {
      "cell_type": "code",
      "source": [
        "print(B)"
      ],
      "metadata": {
        "colab": {
          "base_uri": "https://localhost:8080/"
        },
        "id": "U_nG9Gjyzxkf",
        "outputId": "97ab085b-69c2-4c70-d6f5-770f587e0d03"
      },
      "execution_count": 89,
      "outputs": [
        {
          "output_type": "stream",
          "name": "stdout",
          "text": [
            "[[     3      6      9     12]\n",
            " [    30     60     90    120]\n",
            " [   300    600    900   1200]\n",
            " [  3000   6000   9000  12000]\n",
            " [ 30000  60000  90000 120000]]\n"
          ]
        }
      ]
    },
    {
      "cell_type": "code",
      "source": [
        "# different than doing it with ints/floats/strings etc\n",
        "B.dtype"
      ],
      "metadata": {
        "colab": {
          "base_uri": "https://localhost:8080/"
        },
        "id": "Fi-QoKEOwpyC",
        "outputId": "0912ecbb-8a55-4d95-d489-67bdbec0c00c"
      },
      "execution_count": 90,
      "outputs": [
        {
          "output_type": "execute_result",
          "data": {
            "text/plain": [
              "dtype('int64')"
            ]
          },
          "metadata": {},
          "execution_count": 90
        }
      ]
    },
    {
      "cell_type": "markdown",
      "source": [
        "### Creatin a random array of integers with NumPy"
      ],
      "metadata": {
        "id": "27gmi9y-04vC"
      }
    },
    {
      "cell_type": "code",
      "source": [
        "T = np.random.randint(15, size =(4,3))\n",
        "print(T)"
      ],
      "metadata": {
        "colab": {
          "base_uri": "https://localhost:8080/"
        },
        "id": "WlUrpgXnwp0E",
        "outputId": "dded5c2f-4d63-42e0-b8e4-19c1d97ec1e6"
      },
      "execution_count": 106,
      "outputs": [
        {
          "output_type": "stream",
          "name": "stdout",
          "text": [
            "[[ 9  5  7]\n",
            " [13 13  6]\n",
            " [ 0 12  7]\n",
            " [ 8  6  0]]\n"
          ]
        }
      ]
    },
    {
      "cell_type": "code",
      "source": [
        "T = [value * 1 for value in T]\n",
        "T= np.array(T)\n",
        "print(T)"
      ],
      "metadata": {
        "colab": {
          "base_uri": "https://localhost:8080/"
        },
        "id": "TotQqRK2wp52",
        "outputId": "c170822d-d8ef-404c-b4b9-ff7a12c4f39f"
      },
      "execution_count": 107,
      "outputs": [
        {
          "output_type": "stream",
          "name": "stdout",
          "text": [
            "[[ 9  5  7]\n",
            " [13 13  6]\n",
            " [ 0 12  7]\n",
            " [ 8  6  0]]\n"
          ]
        }
      ]
    },
    {
      "cell_type": "code",
      "source": [
        "V = [value * 3 for value in T]\n",
        "V = np.array(V)\n",
        "print(V)"
      ],
      "metadata": {
        "colab": {
          "base_uri": "https://localhost:8080/"
        },
        "id": "a5WlqSXU1ZwS",
        "outputId": "7bca4ed0-28ba-494b-d0f5-5b2bffd8f58e"
      },
      "execution_count": 109,
      "outputs": [
        {
          "output_type": "stream",
          "name": "stdout",
          "text": [
            "[[27 15 21]\n",
            " [39 39 18]\n",
            " [ 0 36 21]\n",
            " [24 18  0]]\n"
          ]
        }
      ]
    },
    {
      "cell_type": "code",
      "source": [
        "import matplotlib.pyplot as plt"
      ],
      "metadata": {
        "id": "slSGLM661R-x"
      },
      "execution_count": 100,
      "outputs": []
    },
    {
      "cell_type": "code",
      "source": [
        "plt.scatter(T,V, color = \"purple\")\n",
        "plt.axis(\"equal\")\n",
        "plt.show()"
      ],
      "metadata": {
        "colab": {
          "base_uri": "https://localhost:8080/",
          "height": 265
        },
        "id": "B7PzmP5V1XR6",
        "outputId": "57c8abb7-76f0-420b-ac4c-e310beff2ddc"
      },
      "execution_count": 110,
      "outputs": [
        {
          "output_type": "display_data",
          "data": {
            "text/plain": [
              "<Figure size 432x288 with 1 Axes>"
            ],
            "image/png": "[encoded data removed]"
          },
          "metadata": {
            "needs_background": "light"
          }
        }
      ]
    },
    {
      "cell_type": "markdown",
      "source": [
        ""
      ],
      "metadata": {
        "id": "GQvA31oQwmKF"
      }
    }
  ]
}