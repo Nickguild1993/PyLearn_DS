{
  "nbformat": 4,
  "nbformat_minor": 0,
  "metadata": {
    "colab": {
      "name": "DS_Ch1_FuncListTupleDict.ipynb",
      "provenance": [],
      "collapsed_sections": [],
      "authorship_tag": "ABX9TyMmeqkzA8YEi6q9V+mEdbIO",
      "include_colab_link": true
    },
    "kernelspec": {
      "name": "python3",
      "display_name": "Python 3"
    },
    "language_info": {
      "name": "python"
    }
  },
  "cells": [
    {
      "cell_type": "markdown",
      "metadata": {
        "id": "view-in-github",
        "colab_type": "text"
      },
      "source": [
        "<a href=\"https://colab.research.google.com/github/Nickguild1993/PyLearn_DS/blob/main/DS_Ch1_FuncListTupleDict.ipynb\" target=\"_parent\"><img src=\"https://colab.research.google.com/assets/colab-badge.svg\" alt=\"Open In Colab\"/></a>"
      ]
    },
    {
      "cell_type": "code",
      "execution_count": 1,
      "metadata": {
        "id": "0vHtaS9SRGuT"
      },
      "outputs": [],
      "source": [
        "# import dependencies \n",
        "\n",
        "import pandas as pd\n",
        "import numpy as np\n",
        "# import this\n"
      ]
    },
    {
      "cell_type": "code",
      "source": [
        "def double(x):\n",
        "  return x * 2\n",
        "\n",
        "print(double(34.710))\n",
        "\n",
        "def apply_to_one(f):\n",
        "  return f(1)\n",
        "\n",
        "my_double = double # refers to the previously defined function\n",
        "x = apply_to_one(my_double) # equals 2\n"
      ],
      "metadata": {
        "id": "Usqc1FOPRPqY",
        "colab": {
          "base_uri": "https://localhost:8080/"
        },
        "outputId": "ca5f902b-9997-4c4d-f6e0-da84b4d6745a"
      },
      "execution_count": 7,
      "outputs": [
        {
          "output_type": "stream",
          "name": "stdout",
          "text": [
            "69.42\n"
          ]
        }
      ]
    },
    {
      "cell_type": "code",
      "source": [
        "\n",
        "x = 1\n",
        "# lambda functions\n",
        "y = apply_to_one(lambda x: x + 4) # equals 5\n",
        "y"
      ],
      "metadata": {
        "id": "MTZKId6WXFXy",
        "colab": {
          "base_uri": "https://localhost:8080/"
        },
        "outputId": "a15f89ac-d704-49bd-9397-4010e40f99d7"
      },
      "execution_count": 10,
      "outputs": [
        {
          "output_type": "execute_result",
          "data": {
            "text/plain": [
              "5"
            ]
          },
          "metadata": {},
          "execution_count": 10
        }
      ]
    },
    {
      "cell_type": "code",
      "source": [
        "first_name = \"Herbert\"\n",
        "last_name = \"Gerbert\"\n",
        "\n",
        "full_name = first_name + \" \" + last_name\n",
        "print(full_name)\n",
        "\n",
        "full_name_dos = f'{first_name} {last_name}'\n",
        "print(full_name_dos)"
      ],
      "metadata": {
        "id": "4I1nkSEVRPtT",
        "colab": {
          "base_uri": "https://localhost:8080/"
        },
        "outputId": "8f516893-e835-4631-91cf-a3bfc4afb328"
      },
      "execution_count": 14,
      "outputs": [
        {
          "output_type": "stream",
          "name": "stdout",
          "text": [
            "Herbert Gerbert\n",
            "Herbert Gerbert\n"
          ]
        }
      ]
    },
    {
      "cell_type": "code",
      "source": [
        "x = [0,1,2,3,4,5,6,7,8,9,15]\n",
        "\n",
        "print(x[:3])\n",
        "\n",
        "print(x[-1])\n",
        "\n",
        "print(x[2:4]) #  the slice i:j -> i is inclusive, j is not. id est. 2 is inclusive, 4 is not.\n"
      ],
      "metadata": {
        "id": "2tWjS2SORPvp",
        "colab": {
          "base_uri": "https://localhost:8080/"
        },
        "outputId": "6e8cbe96-f48a-43bb-dfbf-cf3be3794c2d"
      },
      "execution_count": 15,
      "outputs": [
        {
          "output_type": "stream",
          "name": "stdout",
          "text": [
            "[0, 1, 2]\n",
            "15\n",
            "[2, 3]\n"
          ]
        }
      ]
    },
    {
      "cell_type": "code",
      "source": [
        "# using Stride (haven't used before)\n",
        "\n",
        "every_third = x[::3]\n",
        "print(every_third)\n",
        "\n",
        "five_to_three = x[5:2:-1]\n",
        "print(five_to_three)"
      ],
      "metadata": {
        "id": "DrtBXNcvRPyY",
        "colab": {
          "base_uri": "https://localhost:8080/"
        },
        "outputId": "c27b47f3-0fb0-4f20-9c5b-2bbe3575fb81"
      },
      "execution_count": 16,
      "outputs": [
        {
          "output_type": "stream",
          "name": "stdout",
          "text": [
            "[0, 3, 6, 9]\n",
            "[5, 4, 3]\n"
          ]
        }
      ]
    },
    {
      "cell_type": "code",
      "source": [
        "x = [0,1,2,3,4,5,6,7,8,9,15]\n",
        "\n",
        "# MEMBERSHIP CHECK\n",
        "\n",
        "print(2 in [1,2,3])\n",
        "\n",
        "print(4 in [3,2,8])"
      ],
      "metadata": {
        "id": "gbBYKHhtRQA6",
        "colab": {
          "base_uri": "https://localhost:8080/"
        },
        "outputId": "e8a1d48a-9dec-4b05-9907-0dce2de4be5e"
      },
      "execution_count": 17,
      "outputs": [
        {
          "output_type": "stream",
          "name": "stdout",
          "text": [
            "True\n",
            "False\n"
          ]
        }
      ]
    },
    {
      "cell_type": "markdown",
      "source": [
        "concatenate lists"
      ],
      "metadata": {
        "id": "4z_xCPV5v66q"
      }
    },
    {
      "cell_type": "code",
      "source": [
        "y = [4,5,6]\n",
        "\n",
        "y.extend([8,8,9]) # extend does it in place, altering the list globally\n",
        "\n",
        "print(y)"
      ],
      "metadata": {
        "id": "tJjRXpJgRQMS",
        "colab": {
          "base_uri": "https://localhost:8080/"
        },
        "outputId": "5146ad71-6021-4729-8bf3-6914ce2aff7a"
      },
      "execution_count": 18,
      "outputs": [
        {
          "output_type": "stream",
          "name": "stdout",
          "text": [
            "[4, 5, 6, 8, 8, 9]\n"
          ]
        }
      ]
    },
    {
      "cell_type": "code",
      "source": [
        "# if you don't want to modify the list\n",
        "\n",
        "x = [4,5,6]\n",
        "p = x + [8,8,9]\n",
        "print(p)"
      ],
      "metadata": {
        "id": "-NCAvz0CRQz9",
        "colab": {
          "base_uri": "https://localhost:8080/"
        },
        "outputId": "aee39f76-c9dd-4587-d145-9207f627202b"
      },
      "execution_count": 19,
      "outputs": [
        {
          "output_type": "stream",
          "name": "stdout",
          "text": [
            "[4, 5, 6, 8, 8, 9]\n"
          ]
        }
      ]
    },
    {
      "cell_type": "markdown",
      "source": [
        "appending a list one a time"
      ],
      "metadata": {
        "id": "RB-5PFgrwXaJ"
      }
    },
    {
      "cell_type": "code",
      "source": [
        "u = [3,4,5]\n",
        "u.append(0)\n",
        "print(u)\n",
        "\n",
        "y = u[-1]\n",
        "print(y)\n",
        "\n",
        "z = len(u)\n",
        "print(z)"
      ],
      "metadata": {
        "colab": {
          "base_uri": "https://localhost:8080/"
        },
        "id": "Urx3RGokwZXm",
        "outputId": "2162f0f9-962f-4aeb-829b-031d0c4fac06"
      },
      "execution_count": 20,
      "outputs": [
        {
          "output_type": "stream",
          "name": "stdout",
          "text": [
            "[3, 4, 5, 0]\n",
            "0\n",
            "4\n"
          ]
        }
      ]
    },
    {
      "cell_type": "code",
      "source": [
        "e,g = [5,15]\n",
        "\n",
        "print(e)\n",
        "\n",
        "print(g)"
      ],
      "metadata": {
        "colab": {
          "base_uri": "https://localhost:8080/"
        },
        "id": "KCYaRYYmwZZ5",
        "outputId": "5e8c234d-2f39-4cb0-8cb2-6ba920052a5f"
      },
      "execution_count": 21,
      "outputs": [
        {
          "output_type": "stream",
          "name": "stdout",
          "text": [
            "5\n",
            "15\n"
          ]
        }
      ]
    },
    {
      "cell_type": "markdown",
      "source": [
        "Tuples"
      ],
      "metadata": {
        "id": "TiXEQ1Ckw-UZ"
      }
    },
    {
      "cell_type": "code",
      "source": [
        "my_tuple = (69,420)\n",
        "\n",
        "def sum_and_product(x,y):\n",
        "  return(x +y) + (x * y)\n",
        "\n",
        "sum_and_product(5,6)"
      ],
      "metadata": {
        "colab": {
          "base_uri": "https://localhost:8080/"
        },
        "id": "OJb8APqJwZb5",
        "outputId": "651e96da-a77d-4701-af69-8d7fd756b290"
      },
      "execution_count": 22,
      "outputs": [
        {
          "output_type": "execute_result",
          "data": {
            "text/plain": [
              "41"
            ]
          },
          "metadata": {},
          "execution_count": 22
        }
      ]
    },
    {
      "cell_type": "markdown",
      "source": [
        "Dictionaries"
      ],
      "metadata": {
        "id": "3MXEYtIg2epV"
      }
    },
    {
      "cell_type": "code",
      "source": [
        "# keys and value pairs\n",
        "\n",
        "empty_dict = {}\n",
        "\n",
        "grades = {\"Herbert\" : 69, \"Larry\" : 89, \"Peter\" : 78}\n",
        "\n",
        "print(grades[\"Herbert\"])\n",
        "print(\"Niceeeeeeeee\")"
      ],
      "metadata": {
        "colab": {
          "base_uri": "https://localhost:8080/"
        },
        "id": "C8Vm9pLewZd6",
        "outputId": "d82767ca-c12e-45ac-e592-1f95e0593204"
      },
      "execution_count": 23,
      "outputs": [
        {
          "output_type": "stream",
          "name": "stdout",
          "text": [
            "69\n",
            "Niceeeeeeeee\n"
          ]
        }
      ]
    },
    {
      "cell_type": "code",
      "source": [
        "# membership check for Dictionaries | faster than lists!\n",
        "\n",
        "Larry_grades = \"Larry\" in grades\n",
        "print(Larry_grades)\n",
        "\n",
        "timmy_grades = \"Timmy\" in grades\n",
        "print(timmy_grades)"
      ],
      "metadata": {
        "colab": {
          "base_uri": "https://localhost:8080/"
        },
        "id": "MdGTJMX92_h9",
        "outputId": "35896f7b-ee99-4387-a73d-5f6946d2b31e"
      },
      "execution_count": 24,
      "outputs": [
        {
          "output_type": "stream",
          "name": "stdout",
          "text": [
            "True\n",
            "False\n"
          ]
        }
      ]
    },
    {
      "cell_type": "code",
      "source": [
        "# Changing a key/value pair or adding new one\n",
        "\n",
        "grades[\"Peter\"] = 99\n",
        "print(grades)\n",
        "\n",
        "grades[\"Lauren\"] = 69\n",
        "print(grades)"
      ],
      "metadata": {
        "colab": {
          "base_uri": "https://localhost:8080/"
        },
        "id": "0TnAKxod3bd2",
        "outputId": "63a1f740-3cad-43ea-9b72-52eba653fab2"
      },
      "execution_count": 25,
      "outputs": [
        {
          "output_type": "stream",
          "name": "stdout",
          "text": [
            "{'Herbert': 69, 'Larry': 89, 'Peter': 99}\n",
            "{'Herbert': 69, 'Larry': 89, 'Peter': 99, 'Lauren': 69}\n"
          ]
        }
      ]
    },
    {
      "cell_type": "markdown",
      "source": [
        "### importing defaultdict"
      ],
      "metadata": {
        "id": "Qi7ZMpfA4GNO"
      }
    },
    {
      "cell_type": "code",
      "source": [
        "from collections import defaultdict"
      ],
      "metadata": {
        "id": "0i913DiM4I4y"
      },
      "execution_count": 26,
      "outputs": []
    },
    {
      "cell_type": "code",
      "source": [
        "dd_list = defaultdict(list) # list() produces an empty list\n",
        "dd_list[2].append(1)\n",
        "\n",
        "print(dd_list)\n",
        "\n",
        "\n",
        "dd_dict = defaultdict(dict)\n",
        "dd_dict[\"Lebron\"][\"Team\"] = \"Lakers\"\n",
        "\n",
        "print(dd_dict)"
      ],
      "metadata": {
        "colab": {
          "base_uri": "https://localhost:8080/"
        },
        "id": "daOSFHkP4I6_",
        "outputId": "fca5c59e-ea96-4150-d784-3939f7b5c36a"
      },
      "execution_count": 27,
      "outputs": [
        {
          "output_type": "stream",
          "name": "stdout",
          "text": [
            "defaultdict(<class 'list'>, {2: [1]})\n",
            "defaultdict(<class 'dict'>, {'Lebron': {'Team': 'Lakers'}})\n"
          ]
        }
      ]
    },
    {
      "cell_type": "code",
      "source": [
        "dd_pair = defaultdict(lambda: [0,0])\n",
        "dd_pair[2][1] = 1\n",
        "print(dd_pair)"
      ],
      "metadata": {
        "id": "I-a90Gy24I9Q",
        "colab": {
          "base_uri": "https://localhost:8080/"
        },
        "outputId": "5e0a5367-fd53-4bc7-c916-8a66e840ad63"
      },
      "execution_count": 28,
      "outputs": [
        {
          "output_type": "stream",
          "name": "stdout",
          "text": [
            "defaultdict(<function <lambda> at 0x7fb9b102a170>, {2: [0, 1]})\n"
          ]
        }
      ]
    },
    {
      "cell_type": "markdown",
      "source": [
        "### importing counter "
      ],
      "metadata": {
        "id": "4KN_Q6n54CzI"
      }
    },
    {
      "cell_type": "code",
      "source": [
        "# A counter turns a sequence of values into a defualtdict(int) like object mapping keys to count\n",
        "\n",
        "# gotta ! pip install ole boy"
      ],
      "metadata": {
        "id": "DAE2bXq04EbR"
      },
      "execution_count": null,
      "outputs": []
    },
    {
      "cell_type": "code",
      "source": [
        "! pip install counter"
      ],
      "metadata": {
        "colab": {
          "base_uri": "https://localhost:8080/"
        },
        "id": "-2u1MEGX4KUa",
        "outputId": "e4a77b2a-b578-49a7-cf4d-0214b055d5c7"
      },
      "execution_count": null,
      "outputs": [
        {
          "output_type": "stream",
          "name": "stdout",
          "text": [
            "Collecting counter\n",
            "  Downloading Counter-1.0.0.tar.gz (5.2 kB)\n",
            "Building wheels for collected packages: counter\n",
            "  Building wheel for counter (setup.py) ... \u001b[?25l\u001b[?25hdone\n",
            "  Created wheel for counter: filename=Counter-1.0.0-py3-none-any.whl size=5411 sha256=3a0a85216250ac9cca4db001817de9abf5290129328c9452f9c20f97bf250bd6\n",
            "  Stored in directory: /root/.cache/pip/wheels/f9/15/75/7a0462a00beb08e391f5da370ca409b56781d2501dba083fa3\n",
            "Successfully built counter\n",
            "Installing collected packages: counter\n",
            "Successfully installed counter-1.0.0\n"
          ]
        }
      ]
    },
    {
      "cell_type": "code",
      "source": [
        "from collections import Counter"
      ],
      "metadata": {
        "id": "e7CrMa_F5Yz0"
      },
      "execution_count": 29,
      "outputs": []
    },
    {
      "cell_type": "code",
      "source": [
        "c = Counter([0,1,2,3,0]) # c is (basically) {0:2, 1:1, 2:1, 3:1,}\n",
        "print(c)"
      ],
      "metadata": {
        "colab": {
          "base_uri": "https://localhost:8080/"
        },
        "id": "cur_idnD4Z9n",
        "outputId": "fb834450-3106-4fbc-fd56-090922c0292b"
      },
      "execution_count": 30,
      "outputs": [
        {
          "output_type": "stream",
          "name": "stdout",
          "text": [
            "Counter({0: 2, 1: 1, 2: 1, 3: 1})\n"
          ]
        }
      ]
    },
    {
      "cell_type": "code",
      "source": [
        "list_test = [3,3,3,2,4,5,6,6,6,8,7,9,15]\n",
        "\n",
        "cCount = Counter(list_test)\n",
        "print(cCount)"
      ],
      "metadata": {
        "colab": {
          "base_uri": "https://localhost:8080/"
        },
        "id": "v-fdImFif9gT",
        "outputId": "6bb7b0db-7104-4161-d7be-9664a676d0bb"
      },
      "execution_count": 31,
      "outputs": [
        {
          "output_type": "stream",
          "name": "stdout",
          "text": [
            "Counter({3: 3, 6: 3, 2: 1, 4: 1, 5: 1, 8: 1, 7: 1, 9: 1, 15: 1})\n"
          ]
        }
      ]
    },
    {
      "cell_type": "code",
      "source": [
        "word_string = \"HellishexistenceHeart\"\n",
        "#### COUNTER IS CASE SENSITIVE!!!\n",
        "counter = {}\n",
        "\n",
        "for letter in word_string:\n",
        "  if letter not in counter:\n",
        "    counter[letter] = 0\n",
        "    counter[letter] += 1\n",
        "\n",
        "counter\n"
      ],
      "metadata": {
        "colab": {
          "base_uri": "https://localhost:8080/"
        },
        "id": "-5n8pGig5kjq",
        "outputId": "0491cbae-df3d-4b87-e4f9-4066bd9fa8c5"
      },
      "execution_count": 32,
      "outputs": [
        {
          "output_type": "execute_result",
          "data": {
            "text/plain": [
              "{'H': 1,\n",
              " 'a': 1,\n",
              " 'c': 1,\n",
              " 'e': 1,\n",
              " 'h': 1,\n",
              " 'i': 1,\n",
              " 'l': 1,\n",
              " 'n': 1,\n",
              " 'r': 1,\n",
              " 's': 1,\n",
              " 't': 1,\n",
              " 'x': 1}"
            ]
          },
          "metadata": {},
          "execution_count": 32
        }
      ]
    },
    {
      "cell_type": "markdown",
      "source": [
        "Counter also has a ** most_common ** method which is useful for determining the x amount of most occuring strings in a list"
      ],
      "metadata": {
        "id": "1drPTKdp6-SK"
      }
    },
    {
      "cell_type": "code",
      "source": [
        "# gorg = [\"gorg, heart\", \"gorg\", \"larry\", \"larry\", \"larry\", \"fart\", \"help\", \"help\" , \"Terry\", \"Herbert\", \"larry\", \"seth\"]\n",
        "\n",
        "# words = Counter(gorg)\n",
        "\n",
        "# for words, count in gorg.most_common(3):\n",
        "#   print(words, count)"
      ],
      "metadata": {
        "id": "3P6PlxTN7OIz"
      },
      "execution_count": 33,
      "outputs": []
    },
    {
      "cell_type": "markdown",
      "source": [
        "#### Sets!  useful data structure which represent a collection of distinct elements.  can define a SET by listing its elements between curly braces:"
      ],
      "metadata": {
        "id": "HYcRHvr08TD6"
      }
    },
    {
      "cell_type": "code",
      "source": [
        "primes_below_20 = {2,3,5,7,11,13,17,19}"
      ],
      "metadata": {
        "id": "kRtP8OwP8QUj"
      },
      "execution_count": 34,
      "outputs": []
    },
    {
      "cell_type": "markdown",
      "source": [
        "important to note that set() DOES NOT WORK for empty sets. as {} already is uh, an empty dict. in that case you'll have to do the following:"
      ],
      "metadata": {
        "id": "Re70qNwF8vyg"
      }
    },
    {
      "cell_type": "code",
      "source": [
        "s = set()\n",
        "s.add(2)\n",
        "s.add(3)\n",
        "s.add(69)\n",
        "x = len(s)\n",
        "print(x)\n",
        "yz = 2 in s\n",
        "print(yz)\n",
        "xp = 53 in s\n",
        "print(xp)"
      ],
      "metadata": {
        "colab": {
          "base_uri": "https://localhost:8080/"
        },
        "id": "xo0pykA_68MU",
        "outputId": "0eb3edab-7df4-4f27-9e49-e7de4bb96ab0"
      },
      "execution_count": 35,
      "outputs": [
        {
          "output_type": "stream",
          "name": "stdout",
          "text": [
            "3\n",
            "True\n",
            "False\n"
          ]
        }
      ]
    },
    {
      "cell_type": "code",
      "source": [
        "y = 2 in s\n",
        "z = 4 in s\n",
        "print(y, z)"
      ],
      "metadata": {
        "colab": {
          "base_uri": "https://localhost:8080/"
        },
        "id": "S-tCM2p39OhS",
        "outputId": "654910d9-c5fe-46b7-aa77-6b2dd35510f8"
      },
      "execution_count": 36,
      "outputs": [
        {
          "output_type": "stream",
          "name": "stdout",
          "text": [
            "True False\n"
          ]
        }
      ]
    },
    {
      "cell_type": "markdown",
      "source": [
        "Use SETS() for two main reasons: 1) keyword \"in\" is a very fast operation on sets.  If we have a large collection of items that we want to use for a membership test, a set is more appropriate than a list."
      ],
      "metadata": {
        "id": "imp7lJgz9jJp"
      }
    },
    {
      "cell_type": "code",
      "source": [
        "stopwords_list = [\"a\", \"an\", \"gorg\", \"space\"]\n",
        "\n",
        "# 'zip' in a stopwords_list # FALSO, but, have to check every element. not at all efficient if that list is long.\n",
        "\n",
        "# instead, we do this\n",
        "stopwords_set = set(stopwords_list)\n",
        "\"zip\" in stopwords_set"
      ],
      "metadata": {
        "colab": {
          "base_uri": "https://localhost:8080/"
        },
        "id": "M9HUPvP_9idp",
        "outputId": "370532e9-2368-477d-fa5a-096751f273e3"
      },
      "execution_count": 38,
      "outputs": [
        {
          "output_type": "execute_result",
          "data": {
            "text/plain": [
              "False"
            ]
          },
          "metadata": {},
          "execution_count": 38
        }
      ]
    },
    {
      "cell_type": "markdown",
      "source": [
        "The Second reason that we use SET() is to the find the *distinct* items in a collection:"
      ],
      "metadata": {
        "id": "75gotUL2_O9b"
      }
    },
    {
      "cell_type": "code",
      "source": [
        "item_list = [1,2,3,1,2,3,4]\n",
        "\n",
        "num_items = len(item_list)\n",
        "print(num_items)\n",
        "\n",
        "item_set = set(item_list)\n",
        "print(item_set)\n",
        "\n",
        "num_distinct_item = len(item_set)\n",
        "print(num_distinct_item)\n",
        "\n",
        "distinct_item_list = list(item_set)\n",
        "print(distinct_item_list)\n"
      ],
      "metadata": {
        "colab": {
          "base_uri": "https://localhost:8080/"
        },
        "id": "flNTkkVihoyZ",
        "outputId": "08798bef-d844-4d32-a30a-b3d2e8682ed2"
      },
      "execution_count": 39,
      "outputs": [
        {
          "output_type": "stream",
          "name": "stdout",
          "text": [
            "7\n",
            "{1, 2, 3, 4}\n",
            "4\n",
            "[1, 2, 3, 4]\n"
          ]
        }
      ]
    },
    {
      "cell_type": "markdown",
      "source": [
        "### CONTROL FLOW - conditionals"
      ],
      "metadata": {
        "id": "ixNXGyB8iTXc"
      }
    },
    {
      "cell_type": "code",
      "source": [
        "gg = 3\n",
        "if gg > 2:\n",
        "  print(\"you goddamn fool\")\n",
        "else: \"nope you imbicile\"\n"
      ],
      "metadata": {
        "colab": {
          "base_uri": "https://localhost:8080/"
        },
        "id": "s3aXh-rKiVnr",
        "outputId": "9369dc79-6310-4918-af66-202803e95937"
      },
      "execution_count": 47,
      "outputs": [
        {
          "output_type": "stream",
          "name": "stdout",
          "text": [
            "you goddamn fool\n"
          ]
        }
      ]
    },
    {
      "cell_type": "code",
      "source": [
        "# Ternary IF THEN ELSE \n",
        "\n",
        "parity = \"even\" if x % 2 == 0 else \"odd fucking number\""
      ],
      "metadata": {
        "colab": {
          "base_uri": "https://localhost:8080/",
          "height": 200
        },
        "id": "br7WgI4ZiVvZ",
        "outputId": "9a7709fb-3363-4662-ff0b-ff08f1efa739"
      },
      "execution_count": 51,
      "outputs": [
        {
          "output_type": "error",
          "ename": "TypeError",
          "evalue": "ignored",
          "traceback": [
            "\u001b[0;31m---------------------------------------------------------------------------\u001b[0m",
            "\u001b[0;31mTypeError\u001b[0m                                 Traceback (most recent call last)",
            "\u001b[0;32m<ipython-input-51-d4194db5865f>\u001b[0m in \u001b[0;36m<module>\u001b[0;34m()\u001b[0m\n\u001b[1;32m      2\u001b[0m \u001b[0;34m\u001b[0m\u001b[0m\n\u001b[1;32m      3\u001b[0m \u001b[0mparity\u001b[0m \u001b[0;34m=\u001b[0m \u001b[0;34m\"even\"\u001b[0m \u001b[0;32mif\u001b[0m \u001b[0mx\u001b[0m \u001b[0;34m%\u001b[0m \u001b[0;36m2\u001b[0m \u001b[0;34m==\u001b[0m \u001b[0;36m0\u001b[0m \u001b[0;32melse\u001b[0m \u001b[0;34m\"odd fucking number\"\u001b[0m\u001b[0;34m\u001b[0m\u001b[0;34m\u001b[0m\u001b[0m\n\u001b[0;32m----> 4\u001b[0;31m \u001b[0mparity\u001b[0m\u001b[0;34m(\u001b[0m\u001b[0;36m5\u001b[0m\u001b[0;34m)\u001b[0m\u001b[0;34m\u001b[0m\u001b[0;34m\u001b[0m\u001b[0m\n\u001b[0m",
            "\u001b[0;31mTypeError\u001b[0m: 'str' object is not callable"
          ]
        }
      ]
    },
    {
      "cell_type": "code",
      "source": [
        "for x in range(5):\n",
        "  print(f'{x} is less than 5')\n"
      ],
      "metadata": {
        "colab": {
          "base_uri": "https://localhost:8080/"
        },
        "id": "Lz60lgpviVx_",
        "outputId": "a40803ec-d109-4e03-b4f7-50cccde18403"
      },
      "execution_count": 54,
      "outputs": [
        {
          "output_type": "stream",
          "name": "stdout",
          "text": [
            "0 is less than 5\n",
            "1 is less than 5\n",
            "2 is less than 5\n",
            "3 is less than 5\n",
            "4 is less than 5\n"
          ]
        }
      ]
    },
    {
      "cell_type": "markdown",
      "source": [
        "if more complex logic is needed, can use CONTINUE and BREAK"
      ],
      "metadata": {
        "id": "9cXg4xWlkQLB"
      }
    },
    {
      "cell_type": "code",
      "source": [
        "for x in range(30):\n",
        "  if x == 3:\n",
        "    continue # go immediately to next iteration // the \"3\" doesn't matter\n",
        "  if x == 7:\n",
        "    break  # quits the loop\n",
        "  print(x)"
      ],
      "metadata": {
        "colab": {
          "base_uri": "https://localhost:8080/"
        },
        "id": "H1PfkYGziV0U",
        "outputId": "ce05f9f5-57c5-43ba-b5bf-e0b893dccb9b"
      },
      "execution_count": 57,
      "outputs": [
        {
          "output_type": "stream",
          "name": "stdout",
          "text": [
            "0\n",
            "1\n",
            "2\n",
            "3\n",
            "4\n",
            "5\n",
            "6\n"
          ]
        }
      ]
    },
    {
      "cell_type": "markdown",
      "source": [
        "### truthiness"
      ],
      "metadata": {
        "id": "2PRrD2I4kzOY"
      }
    },
    {
      "cell_type": "code",
      "source": [
        "one_is_less_2 = 1 < 2\n",
        "print(one_is_less_2)\n",
        "\n",
        "five_greater_six = 5 > 6\n",
        "print(five_greater_six)"
      ],
      "metadata": {
        "colab": {
          "base_uri": "https://localhost:8080/"
        },
        "id": "eVs1IsR5kykJ",
        "outputId": "539e6a5a-6cb5-4040-d3d2-1a76f7a72a7f"
      },
      "execution_count": 58,
      "outputs": [
        {
          "output_type": "stream",
          "name": "stdout",
          "text": [
            "True\n",
            "False\n"
          ]
        }
      ]
    },
    {
      "cell_type": "markdown",
      "source": [
        "Python uses value NONE to indicate a nonexistent value"
      ],
      "metadata": {
        "id": "u0K-9dnulFUB"
      }
    },
    {
      "cell_type": "code",
      "source": [
        "f = None\n",
        "assert f is None"
      ],
      "metadata": {
        "id": "9KB4yZ7-iV2j"
      },
      "execution_count": 61,
      "outputs": []
    },
    {
      "cell_type": "markdown",
      "source": [
        "Python all() function returns TRUE *IF* all elements are \"truthy\" // for an any() function, returns TRUE when at least one is \"truthy\""
      ],
      "metadata": {
        "id": "tCHoxpsxlwvL"
      }
    },
    {
      "cell_type": "code",
      "source": [
        "all([True,1,{3}]) # all three are true "
      ],
      "metadata": {
        "colab": {
          "base_uri": "https://localhost:8080/"
        },
        "id": "t71o1kJ8iV4g",
        "outputId": "698a14ce-5601-49cd-ddcc-4a71da824596"
      },
      "execution_count": 62,
      "outputs": [
        {
          "output_type": "execute_result",
          "data": {
            "text/plain": [
              "True"
            ]
          },
          "metadata": {},
          "execution_count": 62
        }
      ]
    },
    {
      "cell_type": "code",
      "source": [
        "any([False, 0, {5}]) # {5} is a non empty dict, ergo, any true"
      ],
      "metadata": {
        "colab": {
          "base_uri": "https://localhost:8080/"
        },
        "id": "aZT1nFsUl_FF",
        "outputId": "31162fd8-a91f-4069-f637-8b3f821426a2"
      },
      "execution_count": 63,
      "outputs": [
        {
          "output_type": "execute_result",
          "data": {
            "text/plain": [
              "True"
            ]
          },
          "metadata": {},
          "execution_count": 63
        }
      ]
    },
    {
      "cell_type": "code",
      "source": [
        "all([False,2,{69}]) # False is false, brah"
      ],
      "metadata": {
        "colab": {
          "base_uri": "https://localhost:8080/"
        },
        "id": "T7unrEXJmUs1",
        "outputId": "8c79bcff-2a5c-4c05-a373-ec6e46a204e3"
      },
      "execution_count": 66,
      "outputs": [
        {
          "output_type": "execute_result",
          "data": {
            "text/plain": [
              "False"
            ]
          },
          "metadata": {},
          "execution_count": 66
        }
      ]
    },
    {
      "cell_type": "markdown",
      "source": [
        "### SORTING "
      ],
      "metadata": {
        "id": "NiMAhf0umkiU"
      }
    },
    {
      "cell_type": "markdown",
      "source": [
        "Every python list as a sort() method that sorts in place. If you don't want to mess up the list, can you *sorted* function which returns a new list."
      ],
      "metadata": {
        "id": "DYUmoz6PmnTq"
      }
    },
    {
      "cell_type": "code",
      "source": [
        "derp = [5,2,7,8,1,2,69,33]\n",
        "derp.sort() # default is smallest to largest\n",
        "derp"
      ],
      "metadata": {
        "colab": {
          "base_uri": "https://localhost:8080/"
        },
        "id": "HKakpgcFl_He",
        "outputId": "59384196-c47e-4baf-c0ca-f55774d30a6a"
      },
      "execution_count": 71,
      "outputs": [
        {
          "output_type": "execute_result",
          "data": {
            "text/plain": [
              "[1, 2, 2, 5, 7, 8, 33, 69]"
            ]
          },
          "metadata": {},
          "execution_count": 71
        }
      ]
    },
    {
      "cell_type": "code",
      "source": [
        "larping = [\"z\", \"a\", \"g\", \"b\", \"s\"]\n",
        "larp_sorting = sorted(larping)\n",
        "larp_sorting\n"
      ],
      "metadata": {
        "colab": {
          "base_uri": "https://localhost:8080/"
        },
        "id": "OnNg0Vf7l_Jr",
        "outputId": "15832057-a4e6-4a30-99c4-f4083aebd05b"
      },
      "execution_count": 72,
      "outputs": [
        {
          "output_type": "execute_result",
          "data": {
            "text/plain": [
              "['a', 'b', 'g', 's', 'z']"
            ]
          },
          "metadata": {},
          "execution_count": 72
        }
      ]
    },
    {
      "cell_type": "code",
      "source": [
        "# using reverse = True parameter & compare the results ofa function that you specify with *key:*\n",
        "\n",
        "derp = sorted([-5,-3,2,-69, 420, 57], key= abs, reverse=True) # abs = absolute value\n",
        "derp"
      ],
      "metadata": {
        "colab": {
          "base_uri": "https://localhost:8080/"
        },
        "id": "2777zSLKniO_",
        "outputId": "003bb919-7f36-4ee3-c60c-73ac130914a5"
      },
      "execution_count": 73,
      "outputs": [
        {
          "output_type": "execute_result",
          "data": {
            "text/plain": [
              "[420, -69, 57, -5, -3, 2]"
            ]
          },
          "metadata": {},
          "execution_count": 73
        }
      ]
    },
    {
      "cell_type": "markdown",
      "source": [
        "### STARTING LIST COMPS IN NEW NOTEBOOK!!! pg 30"
      ],
      "metadata": {
        "id": "KSUyin2CoDDG"
      }
    }
  ]
}