{
  "nbformat": 4,
  "nbformat_minor": 0,
  "metadata": {
    "colab": {
      "name": "Ch3_Enumeriate_LineCharts.ipynb",
      "provenance": [],
      "authorship_tag": "ABX9TyMW93P8S0ZMpJRnfUL/nhIs",
      "include_colab_link": true
    },
    "kernelspec": {
      "name": "python3",
      "display_name": "Python 3"
    },
    "language_info": {
      "name": "python"
    }
  },
  "cells": [
    {
      "cell_type": "markdown",
      "metadata": {
        "id": "view-in-github",
        "colab_type": "text"
      },
      "source": [
        "<a href=\"https://colab.research.google.com/github/Nickguild1993/PyLearn_DS/blob/main/Ch3_Enumeriate_LineCharts.ipynb\" target=\"_parent\"><img src=\"https://colab.research.google.com/assets/colab-badge.svg\" alt=\"Open In Colab\"/></a>"
      ]
    },
    {
      "cell_type": "markdown",
      "source": [
        "Going over zip(), enumerate(), and then line charts"
      ],
      "metadata": {
        "id": "TzpNm8Q_4P-2"
      }
    },
    {
      "cell_type": "code",
      "execution_count": 2,
      "metadata": {
        "id": "uQEqBB3J4JPC"
      },
      "outputs": [],
      "source": [
        "# import dependencies\n",
        "\n",
        "import pandas as pd\n",
        "import numpy as np\n",
        "import random\n",
        "from collections import Counter\n",
        "\n",
        "# visuals\n",
        "import matplotlib.pyplot as plt"
      ]
    },
    {
      "cell_type": "markdown",
      "source": [
        "### zip() workthrough"
      ],
      "metadata": {
        "id": "SuLuwdmA4gEm"
      }
    },
    {
      "cell_type": "code",
      "source": [
        "evens = [10, 20, 50, 62, 88, 94]\n",
        "odds = [1, 3, 5, 7, 9]\n",
        "\n",
        "combo = [x + y for x, y in zip(evens, odds)]\n",
        "print(combo)\n",
        "\n",
        "minus = [x - y for x, y in zip(evens, odds)]\n",
        "print(minus)\n",
        "\n",
        "multiply = [x * y for x, y in zip(evens, odds)]\n",
        "print(multiply)\n",
        "\n",
        "zipped = zip(evens, odds)\n",
        "print(tuple(zipped))"
      ],
      "metadata": {
        "colab": {
          "base_uri": "https://localhost:8080/"
        },
        "id": "8P8wkH4G4jL6",
        "outputId": "00118ede-7783-4735-8bf6-734af5f364d7"
      },
      "execution_count": 3,
      "outputs": [
        {
          "output_type": "stream",
          "name": "stdout",
          "text": [
            "[11, 23, 55, 69, 97]\n",
            "[9, 17, 45, 55, 79]\n",
            "[10, 60, 250, 434, 792]\n",
            "((10, 1), (20, 3), (50, 5), (62, 7), (88, 9))\n"
          ]
        }
      ]
    },
    {
      "cell_type": "markdown",
      "source": [
        "### Enumerate refresher"
      ],
      "metadata": {
        "id": "Vo3LfzV-xS0h"
      }
    },
    {
      "cell_type": "markdown",
      "source": [
        "Used to return of sequence of (index, item) in a tuple."
      ],
      "metadata": {
        "id": "Wi8g_R7mxVv_"
      }
    },
    {
      "cell_type": "code",
      "source": [
        "folks = [\"Barry\", \"Archer\", \"Monica\", \"David\", \"Susan\"]\n",
        "\n",
        "list(enumerate(folks))"
      ],
      "metadata": {
        "id": "_UV13iUHBKX_",
        "colab": {
          "base_uri": "https://localhost:8080/"
        },
        "outputId": "fc15006a-c0a7-4aad-8463-61479f88e713"
      },
      "execution_count": 1,
      "outputs": [
        {
          "output_type": "execute_result",
          "data": {
            "text/plain": [
              "[(0, 'Barry'), (1, 'Archer'), (2, 'Monica'), (3, 'David'), (4, 'Susan')]"
            ]
          },
          "metadata": {},
          "execution_count": 1
        }
      ]
    },
    {
      "cell_type": "markdown",
      "source": [
        "Use enumrate() in a for loop to get an item and its index"
      ],
      "metadata": {
        "id": "FAv-bGgQxvdN"
      }
    },
    {
      "cell_type": "code",
      "source": [
        "for index, folk in enumerate(folks):\n",
        "  print(index, folk)"
      ],
      "metadata": {
        "colab": {
          "base_uri": "https://localhost:8080/"
        },
        "id": "HbX5J-YmxuY_",
        "outputId": "f01102f3-968e-4692-b24d-db6a3f215cbd"
      },
      "execution_count": 4,
      "outputs": [
        {
          "output_type": "stream",
          "name": "stdout",
          "text": [
            "0 Barry\n",
            "1 Archer\n",
            "2 Monica\n",
            "3 David\n",
            "4 Susan\n"
          ]
        }
      ]
    },
    {
      "cell_type": "markdown",
      "source": [
        "Use case: store index positions of duplicate items"
      ],
      "metadata": {
        "id": "VQhCzKqPybY-"
      }
    },
    {
      "cell_type": "code",
      "source": [
        "folks = [\"Barry\", \"Archer\", \"Monica\", \"David\", \"Susan\",\n",
        "         \"Susan\", \"Archer\", \"David\", \"David\", \"Barry\",\n",
        "         \"Barry\", \"David\", \"Archer\", \"Monica\", \"Susan\"]\n",
        "\n",
        "folk_map = {folk :[] for folk in set(folks)}\n",
        "\n",
        "print(folk_map)\n",
        "# to populate the lists, next block"
      ],
      "metadata": {
        "colab": {
          "base_uri": "https://localhost:8080/"
        },
        "id": "VAVAx7i7yeS-",
        "outputId": "18048484-b48e-4272-b018-1a94edc37e07"
      },
      "execution_count": 5,
      "outputs": [
        {
          "output_type": "stream",
          "name": "stdout",
          "text": [
            "{'Barry': [], 'Susan': [], 'Archer': [], 'Monica': [], 'David': []}\n"
          ]
        }
      ]
    },
    {
      "cell_type": "code",
      "source": [
        "for index, folk in enumerate(folks):\n",
        "  folk_map[folk].append(index)\n",
        "\n",
        "folk_map"
      ],
      "metadata": {
        "colab": {
          "base_uri": "https://localhost:8080/"
        },
        "id": "XCcCgmdbzGIh",
        "outputId": "9d76b399-718e-46c9-85ff-80f73f3e80ef"
      },
      "execution_count": 6,
      "outputs": [
        {
          "output_type": "execute_result",
          "data": {
            "text/plain": [
              "{'Archer': [1, 6, 12],\n",
              " 'Barry': [0, 9, 10],\n",
              " 'David': [3, 7, 8, 11],\n",
              " 'Monica': [2, 13],\n",
              " 'Susan': [4, 5, 14]}"
            ]
          },
          "metadata": {},
          "execution_count": 6
        }
      ]
    },
    {
      "cell_type": "code",
      "source": [
        "things = [\"left\", \"right\", \"up\", \"down\"]\n",
        "\n",
        "# for i in range (len(things)):\n",
        "#   print(i, things[i])\n",
        "\n",
        "for index, thing in enumerate(things):\n",
        "  print(index, thing)"
      ],
      "metadata": {
        "colab": {
          "base_uri": "https://localhost:8080/"
        },
        "id": "Z7fb7jny1u8B",
        "outputId": "83b27569-a47c-4f03-bb11-30018485d59c"
      },
      "execution_count": 10,
      "outputs": [
        {
          "output_type": "stream",
          "name": "stdout",
          "text": [
            "0 left\n",
            "1 right\n",
            "2 up\n",
            "3 down\n"
          ]
        }
      ]
    },
    {
      "cell_type": "code",
      "source": [
        "new_dict = dict(enumerate(things))\n",
        "\n",
        "print(new_dict)"
      ],
      "metadata": {
        "colab": {
          "base_uri": "https://localhost:8080/"
        },
        "id": "-E49PMze2lBT",
        "outputId": "7390a469-06e6-4a2f-8ba6-fe1f4fb96dc7"
      },
      "execution_count": 11,
      "outputs": [
        {
          "output_type": "stream",
          "name": "stdout",
          "text": [
            "{0: 'left', 1: 'right', 2: 'up', 3: 'down'}\n"
          ]
        }
      ]
    },
    {
      "cell_type": "markdown",
      "source": [
        "### Line Charts!"
      ],
      "metadata": {
        "id": "Q_IhEvEj3Fyy"
      }
    },
    {
      "cell_type": "code",
      "source": [
        "# Great for showing trends!\n",
        "\n",
        "variance = [1,2,4,8,16,32,64,128,256]\n",
        "print(list(enumerate(variance)))\n",
        "bias_squared = [256,128,64,32,16,8,4,2,1]\n",
        "\n",
        "total_error = [x + y for x,y in zip(variance, bias_squared)]\n",
        "print(\"total error is:\", total_error)\n",
        "\n",
        "# USING SX FOR THE EXERCISE\n",
        "xs = [index for index, _ in enumerate(variance)] # the _ removes the corresponding value, which in this case is the 2nd value- THE ITEM\n",
        "print(\"XS returns the item, and NOT the index:\", xs)\n",
        "\n",
        "sx = [index for _, index in enumerate(variance)] # again, _ removes the corresponding value, which is the 1st value - the  INDEX (enumerate -> index, item)\n",
        "print(\"SX returns the index and NOT the item:\", sx)\n",
        "\n",
        "test = [index + digit for index, digit in enumerate(variance)]\n",
        "print(\"Just a test, relax:\", test)"
      ],
      "metadata": {
        "colab": {
          "base_uri": "https://localhost:8080/"
        },
        "id": "8qV3xYaQ3FUC",
        "outputId": "3a435e3e-7521-4a21-a6c1-3c5052b5980e"
      },
      "execution_count": 27,
      "outputs": [
        {
          "output_type": "stream",
          "name": "stdout",
          "text": [
            "[(0, 1), (1, 2), (2, 4), (3, 8), (4, 16), (5, 32), (6, 64), (7, 128), (8, 256)]\n",
            "total error is: [257, 130, 68, 40, 32, 40, 68, 130, 257]\n",
            "XS returns the item, and NOT the index: [0, 1, 2, 3, 4, 5, 6, 7, 8]\n",
            "SX returns the index and NOT the item: [1, 2, 4, 8, 16, 32, 64, 128, 256]\n",
            "Just a test, relax: [1, 3, 6, 11, 20, 37, 70, 135, 264]\n"
          ]
        }
      ]
    },
    {
      "cell_type": "markdown",
      "source": [
        "Making multiple calls to the plt.plot \n",
        "in order to show multiple series on the same chart"
      ],
      "metadata": {
        "id": "PGUWNy9cAYkE"
      }
    },
    {
      "cell_type": "code",
      "source": [
        "plt.figure(figsize=(12,10))\n",
        "\n",
        "plt.plot(xs, variance, color=\"green\", label = \"Variance\")\n",
        "plt.plot(xs, bias_squared, color =\"crimson\", linestyle=\":\", linewidth= 2.0, label = \"Bias^2\")\n",
        "plt.plot(xs, total_error, color = \"violet\", linestyle = \"--\", linewidth=2.5, label= \"Total error\")\n",
        "\n",
        "# because we've assigned labels to each series, we can get a legend for free (loc=9 means \"top center\")\n",
        "\n",
        "plt.legend(loc=9)\n",
        "plt.xlabel(\"model complexity\")\n",
        "plt.xticks([])\n",
        "plt.title(\"The Bias-Variance Tradeoff\")\n",
        "plt.show()"
      ],
      "metadata": {
        "colab": {
          "base_uri": "https://localhost:8080/",
          "height": 605
        },
        "id": "sfSBtIM0AV62",
        "outputId": "55e7119c-b754-4ace-f0bb-c235019f83a9"
      },
      "execution_count": 28,
      "outputs": [
        {
          "output_type": "display_data",
          "data": {
            "text/plain": [
              "<Figure size 864x720 with 1 Axes>"
            ],
            "image/png": "[encoded data removed]"
          },
          "metadata": {
            "needs_background": "light"
          }
        }
      ]
    },
    {
      "cell_type": "markdown",
      "source": [
        ""
      ],
      "metadata": {
        "id": "IGv661QzBr-v"
      }
    }
  ]
}