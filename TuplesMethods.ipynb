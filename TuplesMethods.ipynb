{
  "nbformat": 4,
  "nbformat_minor": 0,
  "metadata": {
    "colab": {
      "name": "TuplesMethods.ipynb",
      "provenance": [],
      "collapsed_sections": [],
      "authorship_tag": "ABX9TyPFVme9UgT0qiEnXrecBkHh",
      "include_colab_link": true
    },
    "kernelspec": {
      "name": "python3",
      "display_name": "Python 3"
    },
    "language_info": {
      "name": "python"
    }
  },
  "cells": [
    {
      "cell_type": "markdown",
      "metadata": {
        "id": "view-in-github",
        "colab_type": "text"
      },
      "source": [
        "<a href=\"https://colab.research.google.com/github/Nickguild1993/PyLearn_DS/blob/main/TuplesMethods.ipynb\" target=\"_parent\"><img src=\"https://colab.research.google.com/assets/colab-badge.svg\" alt=\"Open In Colab\"/></a>"
      ]
    },
    {
      "cell_type": "markdown",
      "source": [
        "Going over tuple methods"
      ],
      "metadata": {
        "id": "eIKJccWsJJDi"
      }
    },
    {
      "cell_type": "code",
      "execution_count": 1,
      "metadata": {
        "id": "I1a4CdnPJE2B"
      },
      "outputs": [],
      "source": [
        "# import libraries\n",
        "import pandas as pd\n",
        "import numpy as np"
      ]
    },
    {
      "cell_type": "code",
      "source": [
        "mytuple = ()\n",
        "print(mytuple)"
      ],
      "metadata": {
        "colab": {
          "base_uri": "https://localhost:8080/"
        },
        "id": "Sgm0rpA3JOg7",
        "outputId": "15b87535-5336-4dca-bd5f-f73bd66ee2a8"
      },
      "execution_count": 2,
      "outputs": [
        {
          "output_type": "stream",
          "name": "stdout",
          "text": [
            "()\n"
          ]
        }
      ]
    },
    {
      "cell_type": "code",
      "source": [
        "mytuple = (\"Nick\", 29, \"Austin\")\n",
        "print(mytuple)"
      ],
      "metadata": {
        "colab": {
          "base_uri": "https://localhost:8080/"
        },
        "id": "rVZRE6oaJOzC",
        "outputId": "13ed99bb-e6a2-4806-fe76-a7d5a5fccc5c"
      },
      "execution_count": 3,
      "outputs": [
        {
          "output_type": "stream",
          "name": "stdout",
          "text": [
            "('Nick', 29, 'Austin')\n"
          ]
        }
      ]
    },
    {
      "cell_type": "markdown",
      "source": [
        "building a tuple with the tuple function"
      ],
      "metadata": {
        "id": "DYCcH-61Js5l"
      }
    },
    {
      "cell_type": "code",
      "source": [
        "mytuple = tuple([\"Gorg\", 69, \"Hell\"])\n",
        "print(mytuple)"
      ],
      "metadata": {
        "colab": {
          "base_uri": "https://localhost:8080/"
        },
        "id": "kTPyWtaEJO1l",
        "outputId": "60b82cbe-72cd-4b6a-ef1f-bc7d805bd7ca"
      },
      "execution_count": 7,
      "outputs": [
        {
          "output_type": "stream",
          "name": "stdout",
          "text": [
            "('Gorg', 69, 'Hell')\n"
          ]
        }
      ]
    },
    {
      "cell_type": "code",
      "source": [
        "# accessing items use index\n",
        "item = mytuple[0]\n",
        "print(item)"
      ],
      "metadata": {
        "colab": {
          "base_uri": "https://localhost:8080/"
        },
        "id": "eoK6Np7IJO4g",
        "outputId": "b407ee50-88ad-4d00-e8a7-4232cc91f8a5"
      },
      "execution_count": 5,
      "outputs": [
        {
          "output_type": "stream",
          "name": "stdout",
          "text": [
            "Gorg\n"
          ]
        }
      ]
    },
    {
      "cell_type": "code",
      "source": [
        "# tuples are immutable \n",
        "\n",
        "for i in mytuple:\n",
        "  print(i)"
      ],
      "metadata": {
        "colab": {
          "base_uri": "https://localhost:8080/"
        },
        "id": "9A3rS-raJO69",
        "outputId": "89db28e5-6fec-47ec-b027-b48430ef9c4f"
      },
      "execution_count": 9,
      "outputs": [
        {
          "output_type": "stream",
          "name": "stdout",
          "text": [
            "Gorg\n",
            "69\n",
            "Hell\n"
          ]
        }
      ]
    },
    {
      "cell_type": "code",
      "source": [
        "if 69 in mytuple:\n",
        "  print(\"yes\")\n",
        "else:\n",
        "  print(\"No\")"
      ],
      "metadata": {
        "colab": {
          "base_uri": "https://localhost:8080/"
        },
        "id": "VZnGeNH5JO9a",
        "outputId": "6827b77e-3dca-4f3e-d6ac-594fc7160b5b"
      },
      "execution_count": 10,
      "outputs": [
        {
          "output_type": "stream",
          "name": "stdout",
          "text": [
            "yes\n"
          ]
        }
      ]
    },
    {
      "cell_type": "code",
      "source": [
        "my_tuple = (\"a\", \"p\", \"p\", \"l\", \"e\")\n",
        "print(len(my_tuple))\n",
        "print(my_tuple.count(\"p\"))\n",
        "print(my_tuple.count(\"z\"))"
      ],
      "metadata": {
        "colab": {
          "base_uri": "https://localhost:8080/"
        },
        "id": "tQpRCiAJKmDb",
        "outputId": "ec568dc7-579b-4563-9d32-a0d478474041"
      },
      "execution_count": 12,
      "outputs": [
        {
          "output_type": "stream",
          "name": "stdout",
          "text": [
            "5\n",
            "2\n",
            "0\n"
          ]
        }
      ]
    },
    {
      "cell_type": "code",
      "source": [
        "print(my_tuple.index(\"p\")) # index starts at 0\n"
      ],
      "metadata": {
        "colab": {
          "base_uri": "https://localhost:8080/"
        },
        "id": "IcfeiFRuK4a8",
        "outputId": "d2d67d1c-23e2-4a44-bcd4-dd4104ddc31c"
      },
      "execution_count": 13,
      "outputs": [
        {
          "output_type": "stream",
          "name": "stdout",
          "text": [
            "1\n"
          ]
        }
      ]
    },
    {
      "cell_type": "markdown",
      "source": [
        "#### converting list to tuple and vice versa\n"
      ],
      "metadata": {
        "id": "iEvJ9cntK_80"
      }
    },
    {
      "cell_type": "code",
      "source": [
        "my_list = list(my_tuple)\n",
        "print(my_list)\n",
        "\n",
        "my_tuple = tuple(my_list)\n",
        "print(my_tuple)"
      ],
      "metadata": {
        "colab": {
          "base_uri": "https://localhost:8080/"
        },
        "id": "_v9gv2D1LCmc",
        "outputId": "f99950d4-e733-46ab-ed76-a8381e6a92e3"
      },
      "execution_count": 14,
      "outputs": [
        {
          "output_type": "stream",
          "name": "stdout",
          "text": [
            "['a', 'p', 'p', 'l', 'e']\n",
            "('a', 'p', 'p', 'l', 'e')\n"
          ]
        }
      ]
    },
    {
      "cell_type": "code",
      "source": [
        "print(my_tuple[::1])\n",
        "print(my_tuple[::2])"
      ],
      "metadata": {
        "colab": {
          "base_uri": "https://localhost:8080/"
        },
        "id": "wHe_4mIALCpi",
        "outputId": "cfa82e6b-a382-4005-f04a-05962b6953c4"
      },
      "execution_count": 16,
      "outputs": [
        {
          "output_type": "stream",
          "name": "stdout",
          "text": [
            "('a', 'p', 'p', 'l', 'e')\n",
            "('a', 'p', 'e')\n"
          ]
        }
      ]
    },
    {
      "cell_type": "code",
      "source": [
        "name, age, city = mytuple\n",
        "print(name)\n",
        "print(age)\n",
        "print(city)"
      ],
      "metadata": {
        "colab": {
          "base_uri": "https://localhost:8080/"
        },
        "id": "XszAUvndLCr-",
        "outputId": "b2c3fcc3-8266-46f0-fec1-de69f820aac6"
      },
      "execution_count": 18,
      "outputs": [
        {
          "output_type": "stream",
          "name": "stdout",
          "text": [
            "Gorg\n",
            "69\n",
            "Hell\n"
          ]
        }
      ]
    },
    {
      "cell_type": "code",
      "source": [
        "my_tuple = (0,4,5,7,10,13)\n",
        "i1, *i2, i3 = my_tuple\n",
        "\n",
        "print(i1)\n",
        "print(i3)\n",
        "print(i2)"
      ],
      "metadata": {
        "colab": {
          "base_uri": "https://localhost:8080/"
        },
        "id": "gk9dNaXTL50o",
        "outputId": "cad7b6c3-d704-4798-9ba0-c6f5df877f78"
      },
      "execution_count": 19,
      "outputs": [
        {
          "output_type": "stream",
          "name": "stdout",
          "text": [
            "0\n",
            "13\n",
            "[4, 5, 7, 10]\n"
          ]
        }
      ]
    },
    {
      "cell_type": "markdown",
      "source": [
        "#### comparing list to tuples for size"
      ],
      "metadata": {
        "id": "YXdSOHIeMT8W"
      }
    },
    {
      "cell_type": "code",
      "source": [
        "import sys\n",
        "\n",
        "my_list = [1,2,3, \"coward\", False]\n",
        "my_tuple = (1,2,3, \"coward\", False)\n",
        "print(sys.getsizeof(my_list), \"bytes\")\n",
        "print(sys.getsizeof(my_tuple), \"bytes\") # tuples are more efficient in both space and speed"
      ],
      "metadata": {
        "colab": {
          "base_uri": "https://localhost:8080/"
        },
        "id": "YKGKYQzQLCuk",
        "outputId": "11a0c64f-1c9c-4e40-8419-128df870d100"
      },
      "execution_count": 20,
      "outputs": [
        {
          "output_type": "stream",
          "name": "stdout",
          "text": [
            "112 bytes\n",
            "96 bytes\n"
          ]
        }
      ]
    },
    {
      "cell_type": "code",
      "source": [
        ""
      ],
      "metadata": {
        "id": "-iCCzlKCLCxe"
      },
      "execution_count": null,
      "outputs": []
    }
  ]
}