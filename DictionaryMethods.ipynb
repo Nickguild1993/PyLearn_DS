{
  "nbformat": 4,
  "nbformat_minor": 0,
  "metadata": {
    "colab": {
      "name": "DictionaryMethods.ipynb",
      "provenance": [],
      "collapsed_sections": [],
      "authorship_tag": "ABX9TyPWSlPmDFjQE28m2ReMQ2TL",
      "include_colab_link": true
    },
    "kernelspec": {
      "name": "python3",
      "display_name": "Python 3"
    },
    "language_info": {
      "name": "python"
    }
  },
  "cells": [
    {
      "cell_type": "markdown",
      "metadata": {
        "id": "view-in-github",
        "colab_type": "text"
      },
      "source": [
        "<a href=\"https://colab.research.google.com/github/Nickguild1993/PyLearn_DS/blob/main/DictionaryMethods.ipynb\" target=\"_parent\"><img src=\"https://colab.research.google.com/assets/colab-badge.svg\" alt=\"Open In Colab\"/></a>"
      ]
    },
    {
      "cell_type": "code",
      "execution_count": 1,
      "metadata": {
        "id": "P_zZFLMeR0tj"
      },
      "outputs": [],
      "source": [
        "import pandas as pd\n",
        "import numpy as np"
      ]
    },
    {
      "cell_type": "code",
      "source": [
        "mydict = {\"name\" : \"Nick\", \"age\": 29, \"city\": \"Austin\"}\n",
        "print(mydict)"
      ],
      "metadata": {
        "colab": {
          "base_uri": "https://localhost:8080/"
        },
        "id": "NECZxB55R-bQ",
        "outputId": "f71ff4ce-1495-41f2-8810-5fa4aeec502d"
      },
      "execution_count": 2,
      "outputs": [
        {
          "output_type": "stream",
          "name": "stdout",
          "text": [
            "{'name': 'Nick', 'age': 29, 'city': 'Austin'}\n"
          ]
        }
      ]
    },
    {
      "cell_type": "code",
      "source": [
        "mydict2 = dict(name = \"lauren\", age =28, city=\"Austin\")\n",
        "print(mydict2)"
      ],
      "metadata": {
        "colab": {
          "base_uri": "https://localhost:8080/"
        },
        "id": "GPL9gmVBSOFA",
        "outputId": "4527657b-0b63-4a74-8db1-e34df7660725"
      },
      "execution_count": 3,
      "outputs": [
        {
          "output_type": "stream",
          "name": "stdout",
          "text": [
            "{'name': 'lauren', 'age': 28, 'city': 'Austin'}\n"
          ]
        }
      ]
    },
    {
      "cell_type": "markdown",
      "source": [
        "accessing values"
      ],
      "metadata": {
        "id": "VA3nAgQKSX5v"
      }
    },
    {
      "cell_type": "code",
      "source": [
        "value = mydict[\"name\"]\n",
        "print(value)"
      ],
      "metadata": {
        "colab": {
          "base_uri": "https://localhost:8080/"
        },
        "id": "b7YwRz21SZC_",
        "outputId": "cfd3b34f-28a9-456e-8b55-577d1c156da3"
      },
      "execution_count": 4,
      "outputs": [
        {
          "output_type": "stream",
          "name": "stdout",
          "text": [
            "Nick\n"
          ]
        }
      ]
    },
    {
      "cell_type": "markdown",
      "source": [
        "Adding values"
      ],
      "metadata": {
        "id": "yUr_cF4WSpiE"
      }
    },
    {
      "cell_type": "code",
      "source": [
        "mydict[\"lastname\"] =\"guild\"\n",
        "print(mydict)"
      ],
      "metadata": {
        "colab": {
          "base_uri": "https://localhost:8080/"
        },
        "id": "rnxba9cFStDo",
        "outputId": "e30a18fb-7ce6-4d08-8a52-a41370a515fd"
      },
      "execution_count": 5,
      "outputs": [
        {
          "output_type": "stream",
          "name": "stdout",
          "text": [
            "{'name': 'Nick', 'age': 29, 'city': 'Austin', 'lastname': 'guild'}\n"
          ]
        }
      ]
    },
    {
      "cell_type": "markdown",
      "source": [
        "deleting items in dictionaries"
      ],
      "metadata": {
        "id": "FVXRlNHWS8RQ"
      }
    },
    {
      "cell_type": "code",
      "source": [
        "del mydict[\"lastname\"] # removes key value pair\n",
        "print(mydict)"
      ],
      "metadata": {
        "colab": {
          "base_uri": "https://localhost:8080/"
        },
        "id": "IpD5jb4bS-PA",
        "outputId": "fbbdd993-c576-4527-b30c-66772fccbac4"
      },
      "execution_count": 6,
      "outputs": [
        {
          "output_type": "stream",
          "name": "stdout",
          "text": [
            "{'name': 'Nick', 'age': 29, 'city': 'Austin'}\n"
          ]
        }
      ]
    },
    {
      "cell_type": "markdown",
      "source": [
        "checking if a key is in dictionary"
      ],
      "metadata": {
        "id": "uELc7KeSTOi7"
      }
    },
    {
      "cell_type": "code",
      "source": [
        "if \"name\" in mydict:\n",
        "  print(mydict[\"name\"])"
      ],
      "metadata": {
        "colab": {
          "base_uri": "https://localhost:8080/"
        },
        "id": "dwxf0u5zTQxA",
        "outputId": "4e82eb5c-841e-450a-e99a-88198d69a055"
      },
      "execution_count": 7,
      "outputs": [
        {
          "output_type": "stream",
          "name": "stdout",
          "text": [
            "Nick\n"
          ]
        }
      ]
    },
    {
      "cell_type": "markdown",
      "source": [
        "Looping through a dictionary"
      ],
      "metadata": {
        "id": "lsA0tAPzTk2J"
      }
    },
    {
      "cell_type": "code",
      "source": [
        "for value in mydict.values():\n",
        "  print(value)"
      ],
      "metadata": {
        "colab": {
          "base_uri": "https://localhost:8080/"
        },
        "id": "pH-2aw85Tl5B",
        "outputId": "b53fc9fd-44e9-4506-d757-cd164b652ed5"
      },
      "execution_count": 9,
      "outputs": [
        {
          "output_type": "stream",
          "name": "stdout",
          "text": [
            "Nick\n",
            "29\n",
            "Austin\n"
          ]
        }
      ]
    },
    {
      "cell_type": "code",
      "source": [
        "for key, value in mydict.items():\n",
        "  print(key, value)"
      ],
      "metadata": {
        "colab": {
          "base_uri": "https://localhost:8080/"
        },
        "id": "iuDdPg4nTl76",
        "outputId": "906bd9e8-1a13-41bb-f4a5-d7fd2f2469ce"
      },
      "execution_count": 10,
      "outputs": [
        {
          "output_type": "stream",
          "name": "stdout",
          "text": [
            "name Nick\n",
            "age 29\n",
            "city Austin\n"
          ]
        }
      ]
    },
    {
      "cell_type": "markdown",
      "source": [
        "copying a dictionary"
      ],
      "metadata": {
        "id": "6F4OwKcFT4pT"
      }
    },
    {
      "cell_type": "code",
      "source": [
        "mydict_copy = mydict # APPLIES TO BOTH ORIGINAL AND COPY\n",
        "print(mydict)\n",
        "\n",
        "mydict_copy[\"food\"] = \"grape\"\n",
        "print(mydict_copy)\n",
        "print(mydict)"
      ],
      "metadata": {
        "colab": {
          "base_uri": "https://localhost:8080/"
        },
        "id": "ww4_sRiGT5z3",
        "outputId": "86683c37-b5e2-488b-95a8-6701b18c6441"
      },
      "execution_count": 13,
      "outputs": [
        {
          "output_type": "stream",
          "name": "stdout",
          "text": [
            "{'name': 'Nick', 'age': 29, 'city': 'Austin'}\n",
            "{'name': 'Nick', 'age': 29, 'city': 'Austin', 'food': 'grape'}\n",
            "{'name': 'Nick', 'age': 29, 'city': 'Austin', 'food': 'grape'}\n"
          ]
        }
      ]
    },
    {
      "cell_type": "markdown",
      "source": [
        "To make an actual copy that won't effect the original dictionary use .copy() or dict()"
      ],
      "metadata": {
        "id": "-5Z5VOu6UMPT"
      }
    },
    {
      "cell_type": "code",
      "source": [
        "del mydict[\"food\"]\n",
        "\n",
        "print(mydict)\n",
        "mydict_copy = mydict.copy()\n",
        "mydict_copy[\"fruit\"] = \"orange\"\n",
        "\n",
        "\n",
        "print(mydict)\n",
        "print(\"-------------\")\n",
        "print(mydict_copy)"
      ],
      "metadata": {
        "colab": {
          "base_uri": "https://localhost:8080/"
        },
        "id": "dldC5BtmTl-z",
        "outputId": "f454df9a-53f2-40db-bc86-1af5ffd92a60"
      },
      "execution_count": 14,
      "outputs": [
        {
          "output_type": "stream",
          "name": "stdout",
          "text": [
            "{'name': 'Nick', 'age': 29, 'city': 'Austin'}\n",
            "{'name': 'Nick', 'age': 29, 'city': 'Austin'}\n",
            "-------------\n",
            "{'name': 'Nick', 'age': 29, 'city': 'Austin', 'fruit': 'orange'}\n"
          ]
        }
      ]
    },
    {
      "cell_type": "markdown",
      "source": [
        "#### update method for combining"
      ],
      "metadata": {
        "id": "8qLBFc8pU46N"
      }
    },
    {
      "cell_type": "code",
      "source": [
        "dict_1 = {\"name\" : \"nick\", \"age\": 29, \"city\": \"Austin\", \"last\" :\"Guild\"}\n",
        "dict_2 = dict(name = \"Lauren\", age = 28, city = \"Austin\", last = \"Smith\")\n",
        "# merge em\n",
        "dict_1.update(dict_2)\n",
        "\n",
        "print(dict_1)"
      ],
      "metadata": {
        "colab": {
          "base_uri": "https://localhost:8080/"
        },
        "id": "Qv0A_2OkTmBn",
        "outputId": "604a9547-1699-4ce2-f289-18406c66b01d"
      },
      "execution_count": 17,
      "outputs": [
        {
          "output_type": "stream",
          "name": "stdout",
          "text": [
            "{'name': 'Lauren', 'age': 28, 'city': 'Austin', 'last': 'Smith'}\n"
          ]
        }
      ]
    },
    {
      "cell_type": "markdown",
      "source": [
        "using numbers as a key"
      ],
      "metadata": {
        "id": "XrOm1gT0VaAz"
      }
    },
    {
      "cell_type": "code",
      "source": [
        "my_dict = {10 : \"ten\", 8: \"eight\", 6: \"six\", 4: \"four\"}\n",
        "print(my_dict)\n",
        "value = my_dict[8]\n",
        "print(value)"
      ],
      "metadata": {
        "colab": {
          "base_uri": "https://localhost:8080/"
        },
        "id": "JF890yZ7TmEn",
        "outputId": "62d50a89-23ea-4517-fe4e-48bf3947d6da"
      },
      "execution_count": 21,
      "outputs": [
        {
          "output_type": "stream",
          "name": "stdout",
          "text": [
            "{10: 'ten', 8: 'eight', 6: 'six', 4: 'four'}\n",
            "eight\n"
          ]
        }
      ]
    }
  ]
}