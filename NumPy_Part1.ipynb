{
  "nbformat": 4,
  "nbformat_minor": 0,
  "metadata": {
    "colab": {
      "name": "NumPy_Part1.ipynb",
      "provenance": [],
      "collapsed_sections": [],
      "authorship_tag": "ABX9TyNFvb0hzWr7aWHE67HmS75m",
      "include_colab_link": true
    },
    "kernelspec": {
      "name": "python3",
      "display_name": "Python 3"
    },
    "language_info": {
      "name": "python"
    }
  },
  "cells": [
    {
      "cell_type": "markdown",
      "metadata": {
        "id": "view-in-github",
        "colab_type": "text"
      },
      "source": [
        "<a href=\"https://colab.research.google.com/github/Nickguild1993/PyLearn_DS/blob/main/NumPy_Part1.ipynb\" target=\"_parent\"><img src=\"https://colab.research.google.com/assets/colab-badge.svg\" alt=\"Open In Colab\"/></a>"
      ]
    },
    {
      "cell_type": "markdown",
      "source": [
        "NumPy use cases"
      ],
      "metadata": {
        "id": "8drQzbDvPVnQ"
      }
    },
    {
      "cell_type": "code",
      "execution_count": 2,
      "metadata": {
        "id": "7QWMz75mWr8I"
      },
      "outputs": [],
      "source": [
        "# import dependencies\n",
        "\n",
        "import pandas as pd\n",
        "import numpy as np\n",
        "from collections import Counter\n",
        "\n",
        "from timeit import timeit\n",
        "from random import random as random_py\n",
        "from numpy.random import random as random_np\n",
        "\n",
        "\n",
        "\n",
        "import matplotlib.pyplot as plt"
      ]
    },
    {
      "cell_type": "markdown",
      "source": [
        "#### comparison for generating random INTEGERS"
      ],
      "metadata": {
        "id": "Sm2AhsLnoNnr"
      }
    },
    {
      "cell_type": "code",
      "source": [
        "# make 10,000,000 random integers\n",
        "\n",
        "n_times = 10000000\n",
        "\n",
        "# Python built in random\n",
        "result_py = timeit(random_py, number = n_times)\n",
        "\n",
        "result_np = timeit(random_np, number = n_times)\n",
        "\n",
        "print(f'Python Random:\\t{result_py}s')\n",
        "print(f'Numpy Random:\\t{result_np}s')"
      ],
      "metadata": {
        "colab": {
          "base_uri": "https://localhost:8080/"
        },
        "id": "l0jjYZWkW38A",
        "outputId": "793b9ef7-d0e0-4071-a3f5-92ba3318ac17"
      },
      "execution_count": 3,
      "outputs": [
        {
          "output_type": "stream",
          "name": "stdout",
          "text": [
            "Python Random:\t0.5435478580000108s\n",
            "Numpy Random:\t3.293395271999998s\n"
          ]
        }
      ]
    },
    {
      "cell_type": "markdown",
      "source": [
        "#### comparision for generating an ARRAY of random values"
      ],
      "metadata": {
        "id": "rqo-hakpoRq1"
      }
    },
    {
      "cell_type": "code",
      "source": [
        "array_size = 1000\n",
        "num_of_runs = 10000\n",
        "\n",
        "py_array = timeit(\n",
        "    \"[random_py() for _ in range(size)]\",\n",
        "    setup = f'from random import random as random_py; size = {array_size}',\n",
        "    number = num_of_runs\n",
        ")\n",
        "\n",
        "np_array = timeit(\n",
        "    \"random_np(size)\",\n",
        "    setup = f'from numpy.random import random as random_np; size = {array_size}',\n",
        "    number = num_of_runs\n",
        ")\n",
        "\n",
        "print(f'Python Random:\\t{py_array}s')\n",
        "print(f'Numpy Random:\\t{np_array}s')"
      ],
      "metadata": {
        "colab": {
          "base_uri": "https://localhost:8080/"
        },
        "id": "XrtVXF0KoROr",
        "outputId": "5aea3bf3-5aac-4e33-9bc0-c9a3fec2aee7"
      },
      "execution_count": 4,
      "outputs": [
        {
          "output_type": "stream",
          "name": "stdout",
          "text": [
            "Python Random:\t0.8531167379996987s\n",
            "Numpy Random:\t0.15260963899982016s\n"
          ]
        }
      ]
    },
    {
      "cell_type": "code",
      "source": [
        "test_arr = np.array([[4,3,5,6],\n",
        "                     [2,3,4,5],\n",
        "                     [9,6,8,1],\n",
        "                     [4,5,2,3],\n",
        "                     [3,4,5,6]]\n",
        "                    )\n",
        "print(\"dimension of matrix is\", np.ndim(test_arr))\n",
        "print(\"-------------------------\")\n",
        "print(\"shape of matrix is\", np.shape(test_arr))\n",
        "print(\"---------------------------\")\n",
        "print(\"size- product of rows and columns:\", np.size(test_arr))"
      ],
      "metadata": {
        "colab": {
          "base_uri": "https://localhost:8080/"
        },
        "id": "iSrGM6nUPozh",
        "outputId": "1bd03104-69f1-4ee4-f7b5-be7d7c4d268d"
      },
      "execution_count": 7,
      "outputs": [
        {
          "output_type": "stream",
          "name": "stdout",
          "text": [
            "dimension of matrix is 2\n",
            "-------------------------\n",
            "shape of matrix is (5, 4)\n",
            "---------------------------\n",
            "size- product of rows and columns: 20\n"
          ]
        }
      ]
    },
    {
      "cell_type": "code",
      "source": [
        "np.insert()"
      ],
      "metadata": {
        "id": "U0BGLzG2a4_U"
      },
      "execution_count": null,
      "outputs": []
    }
  ]
}