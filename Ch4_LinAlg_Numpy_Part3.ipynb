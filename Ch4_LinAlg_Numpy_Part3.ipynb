{
  "nbformat": 4,
  "nbformat_minor": 0,
  "metadata": {
    "colab": {
      "name": "Ch4_LinAlg_Numpy_Part3.ipynb",
      "provenance": [],
      "collapsed_sections": [],
      "authorship_tag": "ABX9TyMBXe3VypLiGsy5FcoW9MbL",
      "include_colab_link": true
    },
    "kernelspec": {
      "name": "python3",
      "display_name": "Python 3"
    },
    "language_info": {
      "name": "python"
    }
  },
  "cells": [
    {
      "cell_type": "markdown",
      "metadata": {
        "id": "view-in-github",
        "colab_type": "text"
      },
      "source": [
        "<a href=\"https://colab.research.google.com/github/Nickguild1993/PyLearn_DS/blob/main/Ch4_LinAlg_Numpy_Part3.ipynb\" target=\"_parent\"><img src=\"https://colab.research.google.com/assets/colab-badge.svg\" alt=\"Open In Colab\"/></a>"
      ]
    },
    {
      "cell_type": "markdown",
      "source": [
        "### Part Three of going over Numpy for Data Science"
      ],
      "metadata": {
        "id": "wYwIvKvRhoZA"
      }
    },
    {
      "cell_type": "markdown",
      "source": [
        "Working with Matrices +"
      ],
      "metadata": {
        "id": "pmP7YDQaiELe"
      }
    },
    {
      "cell_type": "code",
      "execution_count": 2,
      "metadata": {
        "id": "vC2t9NYkhjPq"
      },
      "outputs": [],
      "source": [
        "# import dependencies \n",
        "\n",
        "import pandas as pd\n",
        "import numpy as np\n",
        "import random\n",
        "\n",
        "# visualizations\n",
        "import matplotlib.pyplot as plt"
      ]
    },
    {
      "cell_type": "code",
      "source": [
        "# Arrays\n",
        "\n",
        "A = np.random.randint(10, 50, 5)\n",
        "print(A)\n",
        "print(\"-----------------------\")\n",
        "B = [value *2 for value in A if value %2==0]\n",
        "B = np.array(B)\n",
        "print(B)"
      ],
      "metadata": {
        "colab": {
          "base_uri": "https://localhost:8080/"
        },
        "id": "EsamxWYsh0vA",
        "outputId": "14f3701d-56c4-4520-e5dc-3a7a116c2156"
      },
      "execution_count": 3,
      "outputs": [
        {
          "output_type": "stream",
          "name": "stdout",
          "text": [
            "[43 44 47 14 37]\n",
            "-----------------------\n",
            "[88 28]\n"
          ]
        }
      ]
    },
    {
      "cell_type": "markdown",
      "source": [
        "### Matrix Operations "
      ],
      "metadata": {
        "id": "bCmMItRFj4I7"
      }
    },
    {
      "cell_type": "code",
      "source": [
        "# Matrices\n",
        "\n",
        "C = np.array([[1,2,4,6,9], [10,20,40,60,90], [100,200,400,600,900], [1000,2000,4000,6000,9000]])\n",
        "print(C)\n",
        "print(\"-----------------------------------------\")\n",
        "D = [value *2 for value in C]\n",
        "D = np.array(D)\n",
        "print(D)\n",
        "print(\"-----------------------------------------\")\n",
        "E = [value *3 for value in C]\n",
        "E = np.array(E)\n",
        "print(E)"
      ],
      "metadata": {
        "colab": {
          "base_uri": "https://localhost:8080/"
        },
        "id": "LlfOneyhikUm",
        "outputId": "1a787e7b-ddda-424d-fb32-bb020a0a84d0"
      },
      "execution_count": 4,
      "outputs": [
        {
          "output_type": "stream",
          "name": "stdout",
          "text": [
            "[[   1    2    4    6    9]\n",
            " [  10   20   40   60   90]\n",
            " [ 100  200  400  600  900]\n",
            " [1000 2000 4000 6000 9000]]\n",
            "-----------------------------------------\n",
            "[[    2     4     8    12    18]\n",
            " [   20    40    80   120   180]\n",
            " [  200   400   800  1200  1800]\n",
            " [ 2000  4000  8000 12000 18000]]\n",
            "-----------------------------------------\n",
            "[[    3     6    12    18    27]\n",
            " [   30    60   120   180   270]\n",
            " [  300   600  1200  1800  2700]\n",
            " [ 3000  6000 12000 18000 27000]]\n"
          ]
        }
      ]
    },
    {
      "cell_type": "markdown",
      "source": [
        "Adding / Subtractin matrices"
      ],
      "metadata": {
        "id": "nARCFmZ0lsXQ"
      }
    },
    {
      "cell_type": "code",
      "source": [
        "T = C + D\n",
        "print(T)\n",
        "print(\"------------------------------------\")\n",
        "# can also use the np.add() function\n",
        "T = np.add(C,D)\n",
        "print(T)"
      ],
      "metadata": {
        "colab": {
          "base_uri": "https://localhost:8080/"
        },
        "id": "LDqa9Qoulue3",
        "outputId": "1d5835f5-3c6c-4299-d7c9-5cda1c0d60b1"
      },
      "execution_count": 5,
      "outputs": [
        {
          "output_type": "stream",
          "name": "stdout",
          "text": [
            "[[    3     6    12    18    27]\n",
            " [   30    60   120   180   270]\n",
            " [  300   600  1200  1800  2700]\n",
            " [ 3000  6000 12000 18000 27000]]\n",
            "------------------------------------\n",
            "[[    3     6    12    18    27]\n",
            " [   30    60   120   180   270]\n",
            " [  300   600  1200  1800  2700]\n",
            " [ 3000  6000 12000 18000 27000]]\n"
          ]
        }
      ]
    },
    {
      "cell_type": "code",
      "source": [
        "# same as above but using different dtype (floats)\n",
        "T = np.add(C,D, dtype=float)\n",
        "print(T)"
      ],
      "metadata": {
        "colab": {
          "base_uri": "https://localhost:8080/"
        },
        "id": "Ralj0b5YmDlW",
        "outputId": "01cc1458-3b2a-41f4-f4e4-8f2d3f1631b4"
      },
      "execution_count": 6,
      "outputs": [
        {
          "output_type": "stream",
          "name": "stdout",
          "text": [
            "[[3.0e+00 6.0e+00 1.2e+01 1.8e+01 2.7e+01]\n",
            " [3.0e+01 6.0e+01 1.2e+02 1.8e+02 2.7e+02]\n",
            " [3.0e+02 6.0e+02 1.2e+03 1.8e+03 2.7e+03]\n",
            " [3.0e+03 6.0e+03 1.2e+04 1.8e+04 2.7e+04]]\n"
          ]
        }
      ]
    },
    {
      "cell_type": "markdown",
      "source": [
        "Subtraction"
      ],
      "metadata": {
        "id": "GZ-axP5gmQ4x"
      }
    },
    {
      "cell_type": "code",
      "source": [
        "Z = C- D\n",
        "print(Z)\n",
        "print(\"---------------------------------\")\n",
        "Z = np.subtract(C,D)\n",
        "print(Z)\n",
        "print(\"----------------------------------\")\n",
        "Z = [value *-1 for value in Z]\n",
        "Z = np.array(Z)\n",
        "print(Z)"
      ],
      "metadata": {
        "colab": {
          "base_uri": "https://localhost:8080/"
        },
        "id": "uwcRUvv_mUcj",
        "outputId": "c3b36622-867c-44d4-b387-68c6d8cf1019"
      },
      "execution_count": 7,
      "outputs": [
        {
          "output_type": "stream",
          "name": "stdout",
          "text": [
            "[[   -1    -2    -4    -6    -9]\n",
            " [  -10   -20   -40   -60   -90]\n",
            " [ -100  -200  -400  -600  -900]\n",
            " [-1000 -2000 -4000 -6000 -9000]]\n",
            "---------------------------------\n",
            "[[   -1    -2    -4    -6    -9]\n",
            " [  -10   -20   -40   -60   -90]\n",
            " [ -100  -200  -400  -600  -900]\n",
            " [-1000 -2000 -4000 -6000 -9000]]\n",
            "----------------------------------\n",
            "[[   1    2    4    6    9]\n",
            " [  10   20   40   60   90]\n",
            " [ 100  200  400  600  900]\n",
            " [1000 2000 4000 6000 9000]]\n"
          ]
        }
      ]
    },
    {
      "cell_type": "markdown",
      "source": [
        "### Matrix multiplication (Point Wise Multiplication)\n"
      ],
      "metadata": {
        "id": "FRswIPbymxxb"
      }
    },
    {
      "cell_type": "code",
      "source": [
        "print(C)\n",
        "print(\"---------------\")\n",
        "print(D)\n",
        "print(\"---------------------\")\n",
        "print(\"Point-wise multplication\")\n",
        "print(\"--------------------\")\n",
        "A = C * D\n",
        "print(A)"
      ],
      "metadata": {
        "colab": {
          "base_uri": "https://localhost:8080/"
        },
        "id": "vR3vNOHUm_Vs",
        "outputId": "62c14f33-d592-412a-91d1-838010dce924"
      },
      "execution_count": 8,
      "outputs": [
        {
          "output_type": "stream",
          "name": "stdout",
          "text": [
            "[[   1    2    4    6    9]\n",
            " [  10   20   40   60   90]\n",
            " [ 100  200  400  600  900]\n",
            " [1000 2000 4000 6000 9000]]\n",
            "---------------\n",
            "[[    2     4     8    12    18]\n",
            " [   20    40    80   120   180]\n",
            " [  200   400   800  1200  1800]\n",
            " [ 2000  4000  8000 12000 18000]]\n",
            "---------------------\n",
            "Point-wise multplication\n",
            "--------------------\n",
            "[[        2         8        32        72       162]\n",
            " [      200       800      3200      7200     16200]\n",
            " [    20000     80000    320000    720000   1620000]\n",
            " [  2000000   8000000  32000000  72000000 162000000]]\n"
          ]
        }
      ]
    },
    {
      "cell_type": "markdown",
      "source": [
        "### Matrix Division (pointwise)"
      ],
      "metadata": {
        "id": "sYay5z5xnd-L"
      }
    },
    {
      "cell_type": "code",
      "source": [
        "A = C / D\n",
        "print(A)\n",
        "print(\"--------------------\")\n",
        "A = np.divide(C,D)\n",
        "print(A)"
      ],
      "metadata": {
        "colab": {
          "base_uri": "https://localhost:8080/"
        },
        "id": "UTWibYhVng6q",
        "outputId": "726a7f25-5af9-4595-8de1-f58679e00477"
      },
      "execution_count": 9,
      "outputs": [
        {
          "output_type": "stream",
          "name": "stdout",
          "text": [
            "[[0.5 0.5 0.5 0.5 0.5]\n",
            " [0.5 0.5 0.5 0.5 0.5]\n",
            " [0.5 0.5 0.5 0.5 0.5]\n",
            " [0.5 0.5 0.5 0.5 0.5]]\n",
            "--------------------\n",
            "[[0.5 0.5 0.5 0.5 0.5]\n",
            " [0.5 0.5 0.5 0.5 0.5]\n",
            " [0.5 0.5 0.5 0.5 0.5]\n",
            " [0.5 0.5 0.5 0.5 0.5]]\n"
          ]
        }
      ]
    },
    {
      "cell_type": "markdown",
      "source": [
        "### Matrix Products (Matrix Multiplication. np.matmul()"
      ],
      "metadata": {
        "id": "k7yoD9TCJ8Si"
      }
    },
    {
      "cell_type": "code",
      "source": [
        "A = np.array([[4,6,8,10],\n",
        "              [3,6,9,12]])\n",
        "B = [value *2 for value in A]\n",
        "B = np.array(B)\n",
        "print(A)\n",
        "print(\"-----------------------\")\n",
        "print(B)"
      ],
      "metadata": {
        "colab": {
          "base_uri": "https://localhost:8080/"
        },
        "id": "BCVDCqV_MGrA",
        "outputId": "ab3bfb09-653d-47e0-85ee-574979fdd5c8"
      },
      "execution_count": 16,
      "outputs": [
        {
          "output_type": "stream",
          "name": "stdout",
          "text": [
            "[[ 4  6  8 10]\n",
            " [ 3  6  9 12]]\n",
            "-----------------------\n",
            "[[ 8 12 16 20]\n",
            " [ 6 12 18 24]]\n"
          ]
        }
      ]
    },
    {
      "cell_type": "code",
      "source": [
        "A"
      ],
      "metadata": {
        "colab": {
          "base_uri": "https://localhost:8080/"
        },
        "id": "_tHWl_VFTLcQ",
        "outputId": "c5709f9a-13a5-4284-f0cb-e6f198b23a12"
      },
      "execution_count": 20,
      "outputs": [
        {
          "output_type": "execute_result",
          "data": {
            "text/plain": [
              "array([[ 4,  6,  8, 10],\n",
              "       [ 3,  6,  9, 12]])"
            ]
          },
          "metadata": {},
          "execution_count": 20
        }
      ]
    },
    {
      "cell_type": "code",
      "source": [
        "# np.matmul - > matrix multiplication\n",
        "\n",
        "np.matmul(B.transpose(), A)"
      ],
      "metadata": {
        "colab": {
          "base_uri": "https://localhost:8080/"
        },
        "id": "hmwsh1KvJ-x4",
        "outputId": "acb24a8e-91f6-4361-a4a1-1cc0bdf28538"
      },
      "execution_count": 22,
      "outputs": [
        {
          "output_type": "execute_result",
          "data": {
            "text/plain": [
              "array([[ 50,  84, 118, 152],\n",
              "       [ 84, 144, 204, 264],\n",
              "       [118, 204, 290, 376],\n",
              "       [152, 264, 376, 488]])"
            ]
          },
          "metadata": {},
          "execution_count": 22
        }
      ]
    },
    {
      "cell_type": "markdown",
      "source": [
        "Vectors"
      ],
      "metadata": {
        "id": "YDUcGi2ITlxG"
      }
    },
    {
      "cell_type": "code",
      "source": [
        "a = A[:,0]\n",
        "print(a)\n",
        "print(\"------------------------\")\n",
        "b = B[:,0]\n",
        "print(b)"
      ],
      "metadata": {
        "colab": {
          "base_uri": "https://localhost:8080/"
        },
        "id": "kEdOcFjeTmiO",
        "outputId": "757bf6ff-120a-46ae-a874-87f195406ba6"
      },
      "execution_count": 33,
      "outputs": [
        {
          "output_type": "stream",
          "name": "stdout",
          "text": [
            "[4 3]\n",
            "------------------------\n",
            "[8 6]\n"
          ]
        }
      ]
    },
    {
      "cell_type": "code",
      "source": [
        "np.dot(a.transpose(),b)\n"
      ],
      "metadata": {
        "colab": {
          "base_uri": "https://localhost:8080/"
        },
        "id": "EhreGok4T9bY",
        "outputId": "52600527-a337-484b-cf62-0388ebe6ed97"
      },
      "execution_count": 34,
      "outputs": [
        {
          "output_type": "execute_result",
          "data": {
            "text/plain": [
              "50"
            ]
          },
          "metadata": {},
          "execution_count": 34
        }
      ]
    },
    {
      "cell_type": "markdown",
      "source": [
        "### inner product of two arrays"
      ],
      "metadata": {
        "id": "JRbE_he0UY6z"
      }
    },
    {
      "cell_type": "code",
      "source": [
        "np.inner(a,b)"
      ],
      "metadata": {
        "colab": {
          "base_uri": "https://localhost:8080/"
        },
        "id": "PBN_OSksUcHk",
        "outputId": "031e0d26-d2a4-459a-c832-340eb24c7bb2"
      },
      "execution_count": 35,
      "outputs": [
        {
          "output_type": "execute_result",
          "data": {
            "text/plain": [
              "50"
            ]
          },
          "metadata": {},
          "execution_count": 35
        }
      ]
    }
  ]
}