{
  "nbformat": 4,
  "nbformat_minor": 0,
  "metadata": {
    "colab": {
      "name": "Jumbled_List_Game.ipynb",
      "provenance": [],
      "collapsed_sections": [],
      "authorship_tag": "ABX9TyOOg+k+byExUhhibTeBw4me",
      "include_colab_link": true
    },
    "kernelspec": {
      "name": "python3",
      "display_name": "Python 3"
    },
    "language_info": {
      "name": "python"
    }
  },
  "cells": [
    {
      "cell_type": "markdown",
      "metadata": {
        "id": "view-in-github",
        "colab_type": "text"
      },
      "source": [
        "<a href=\"https://colab.research.google.com/github/Nickguild1993/PyLearn_DS/blob/main/Jumbled_List_Game.ipynb\" target=\"_parent\"><img src=\"https://colab.research.google.com/assets/colab-badge.svg\" alt=\"Open In Colab\"/></a>"
      ]
    },
    {
      "cell_type": "markdown",
      "source": [
        "Lists with random library for creating jumbled game"
      ],
      "metadata": {
        "id": "_XV_CTigbnnu"
      }
    },
    {
      "cell_type": "code",
      "execution_count": null,
      "metadata": {
        "id": "g4kmhYl8awqE"
      },
      "outputs": [],
      "source": [
        "import pandas as pd\n",
        "import numpy as np\n",
        "import random"
      ]
    },
    {
      "cell_type": "code",
      "source": [
        "my_list = [\"Apple\", \"Tank\", \"Moose\"]\n",
        "other_list = [\"Denmark\", \"Burger\", \"Skunk\"]\n",
        "\n",
        "new_list = my_list + other_list\n",
        "print(new_list)"
      ],
      "metadata": {
        "colab": {
          "base_uri": "https://localhost:8080/"
        },
        "id": "WafGen47a8uF",
        "outputId": "bc8472f1-1d45-48ae-c297-18ef006006e5"
      },
      "execution_count": null,
      "outputs": [
        {
          "output_type": "stream",
          "name": "stdout",
          "text": [
            "['Apple', 'Tank', 'Moose', 'Denmark', 'Burger', 'Skunk']\n"
          ]
        }
      ]
    },
    {
      "cell_type": "code",
      "source": [
        "random.choice(new_list) # does not remove it!"
      ],
      "metadata": {
        "colab": {
          "base_uri": "https://localhost:8080/",
          "height": 35
        },
        "id": "l8lBCXaXbO-i",
        "outputId": "ae71f5fd-52f3-4e32-f5b1-18414210294a"
      },
      "execution_count": null,
      "outputs": [
        {
          "output_type": "execute_result",
          "data": {
            "text/plain": [
              "'Apple'"
            ],
            "application/vnd.google.colaboratory.intrinsic+json": {
              "type": "string"
            }
          },
          "metadata": {},
          "execution_count": 3
        }
      ]
    },
    {
      "cell_type": "code",
      "source": [
        "random.shuffle(new_list)\n",
        "print(new_list)"
      ],
      "metadata": {
        "colab": {
          "base_uri": "https://localhost:8080/"
        },
        "id": "9Uz2k21Gbba6",
        "outputId": "6a079d68-1d10-4a8c-c159-3b385f0eb261"
      },
      "execution_count": null,
      "outputs": [
        {
          "output_type": "stream",
          "name": "stdout",
          "text": [
            "['Denmark', 'Tank', 'Skunk', 'Moose', 'Apple', 'Burger']\n"
          ]
        }
      ]
    },
    {
      "cell_type": "markdown",
      "source": [
        "#### using .join(mutable)"
      ],
      "metadata": {
        "id": "Qjt0Olz_b4-A"
      }
    },
    {
      "cell_type": "code",
      "source": [
        "\" \".join(new_list)"
      ],
      "metadata": {
        "colab": {
          "base_uri": "https://localhost:8080/",
          "height": 35
        },
        "id": "MVRQZ78jbtXY",
        "outputId": "fc599130-d8b9-4013-9623-7d4b287ce5aa"
      },
      "execution_count": null,
      "outputs": [
        {
          "output_type": "execute_result",
          "data": {
            "text/plain": [
              "'Denmark Tank Skunk Moose Apple Burger'"
            ],
            "application/vnd.google.colaboratory.intrinsic+json": {
              "type": "string"
            }
          },
          "metadata": {},
          "execution_count": 5
        }
      ]
    },
    {
      "cell_type": "code",
      "source": [
        "s = \"terrific\"\n",
        "\n",
        "random.sample(s, len(s))"
      ],
      "metadata": {
        "colab": {
          "base_uri": "https://localhost:8080/"
        },
        "id": "5IVuox9Hb8AQ",
        "outputId": "4265a8e8-a2e7-41ab-d99c-e67c64108fd3"
      },
      "execution_count": null,
      "outputs": [
        {
          "output_type": "execute_result",
          "data": {
            "text/plain": [
              "['e', 'c', 'r', 'r', 'i', 't', 'i', 'f']"
            ]
          },
          "metadata": {},
          "execution_count": 6
        }
      ]
    },
    {
      "cell_type": "code",
      "source": [
        "\" \".join(random.sample(s, len(s)))"
      ],
      "metadata": {
        "colab": {
          "base_uri": "https://localhost:8080/",
          "height": 35
        },
        "id": "wOMTRT_hcQlx",
        "outputId": "d6cb19e2-4c13-4d45-ef00-70c09e5aff59"
      },
      "execution_count": null,
      "outputs": [
        {
          "output_type": "execute_result",
          "data": {
            "text/plain": [
              "'t c i r i e r f'"
            ],
            "application/vnd.google.colaboratory.intrinsic+json": {
              "type": "string"
            }
          },
          "metadata": {},
          "execution_count": 7
        }
      ]
    },
    {
      "cell_type": "code",
      "source": [
        "my_numbers = [3,5,6,7,8,10]\n",
        "\n",
        "print(max(my_numbers))\n",
        "print(min(my_numbers))\n",
        "print(sum(my_numbers))"
      ],
      "metadata": {
        "colab": {
          "base_uri": "https://localhost:8080/"
        },
        "id": "OzTr213JcZ9a",
        "outputId": "0971a705-1458-4487-f8a8-8c043d01a762"
      },
      "execution_count": null,
      "outputs": [
        {
          "output_type": "stream",
          "name": "stdout",
          "text": [
            "10\n",
            "3\n",
            "39\n"
          ]
        }
      ]
    },
    {
      "cell_type": "markdown",
      "source": [
        "#### Project Jumbled Game\n",
        "\n",
        "1. unscramble the letters to find hidden words\n",
        "2. computer takes word and jumbles it up\n",
        "3. player guesses what work is\n"
      ],
      "metadata": {
        "id": "RQnuZB6FdS8E"
      }
    },
    {
      "cell_type": "code",
      "source": [
        "words = [\"dog\", \"pencil\", \"phone\", \"water\", \"candle\", \"grape\", \"wind\", \"starfish\", \"jungle\", \"artic\", \"shirt\", \"mastadon\"]\n",
        "letters = random.choice(words)\n",
        "\n",
        "word = \" \".join(random.sample(letters, len(letters)))\n",
        "\n",
        "print(f'The jumbled word is {word}')\n",
        "guess = input(f'Write your guess: ')\n",
        "if guess in letters:\n",
        "  print(f'{guess} is correct!')\n",
        "elif guess not in letters:\n",
        "  print(f'{guess} is incorrect you goddamn moron.')"
      ],
      "metadata": {
        "colab": {
          "base_uri": "https://localhost:8080/"
        },
        "id": "-bi3N8w1u_Em",
        "outputId": "5f72ee16-1a78-446e-f2d6-80e70d561aa5"
      },
      "execution_count": null,
      "outputs": [
        {
          "output_type": "stream",
          "name": "stdout",
          "text": [
            "The jumbled word is i a s s t h r f\n",
            "Write your guess: starfish\n",
            "starfish is correct!\n"
          ]
        }
      ]
    },
    {
      "cell_type": "code",
      "source": [
        "# #initial list\n",
        "# word_list = [\"dog\", \"pencil\", \"phone\", \"water\", \"candle\", \"grape\", \"wind\", \"starfish\", \"jungle\", \"artic\", \"shirt\", \"mastadon\"]\n",
        "# scrambled = list(word_list)\n",
        "\n",
        "# wording = random.choice(word_list)\n",
        "\n",
        "# random.sample(scrambled, len(scrambled))"
      ],
      "metadata": {
        "colab": {
          "base_uri": "https://localhost:8080/"
        },
        "id": "zw5ctxxNd7Wj",
        "outputId": "fb4301f3-e3ba-4460-a052-c47e0f6141de"
      },
      "execution_count": null,
      "outputs": [
        {
          "output_type": "execute_result",
          "data": {
            "text/plain": [
              "['water',\n",
              " 'phone',\n",
              " 'mastadon',\n",
              " 'artic',\n",
              " 'shirt',\n",
              " 'jungle',\n",
              " 'grape',\n",
              " 'wind',\n",
              " 'candle',\n",
              " 'pencil',\n",
              " 'starfish',\n",
              " 'dog']"
            ]
          },
          "metadata": {},
          "execution_count": 36
        }
      ]
    },
    {
      "cell_type": "code",
      "source": [
        ""
      ],
      "metadata": {
        "id": "GRsvMlQ4t1-V"
      },
      "execution_count": null,
      "outputs": []
    }
  ]
}