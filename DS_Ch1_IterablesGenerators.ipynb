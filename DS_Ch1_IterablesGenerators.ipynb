{
  "nbformat": 4,
  "nbformat_minor": 0,
  "metadata": {
    "colab": {
      "name": "DS_Ch1_IterablesGenerators.ipynb",
      "provenance": [],
      "collapsed_sections": [],
      "authorship_tag": "ABX9TyMkheohLAjPwv03YD/B3F7O",
      "include_colab_link": true
    },
    "kernelspec": {
      "name": "python3",
      "display_name": "Python 3"
    },
    "language_info": {
      "name": "python"
    }
  },
  "cells": [
    {
      "cell_type": "markdown",
      "metadata": {
        "id": "view-in-github",
        "colab_type": "text"
      },
      "source": [
        "<a href=\"https://colab.research.google.com/github/Nickguild1993/PyLearn_DS/blob/main/DS_Ch1_IterablesGenerators.ipynb\" target=\"_parent\"><img src=\"https://colab.research.google.com/assets/colab-badge.svg\" alt=\"Open In Colab\"/></a>"
      ]
    },
    {
      "cell_type": "markdown",
      "source": [
        "Starting on pg 33.\n",
        "\n",
        "Going over iterables and generators "
      ],
      "metadata": {
        "id": "hkTdm3Nsphxb"
      }
    },
    {
      "cell_type": "code",
      "execution_count": 3,
      "metadata": {
        "id": "8FH_i3vjpcnD"
      },
      "outputs": [],
      "source": [
        "import pandas as pd\n",
        "import numpy as np\n",
        "import random"
      ]
    },
    {
      "cell_type": "markdown",
      "source": [
        "Creating generators with functions and the *yield* operator"
      ],
      "metadata": {
        "id": "zPw-oIZWphsj"
      }
    },
    {
      "cell_type": "code",
      "source": [
        "def generate_range(n):\n",
        "  i = 0\n",
        "  while i < 0:\n",
        "    yield i # every call to *yield* produces a value of the generator\n",
        "    i += 1"
      ],
      "metadata": {
        "id": "tHvZ0BkRqHgb"
      },
      "execution_count": 4,
      "outputs": []
    },
    {
      "cell_type": "code",
      "source": [
        "# this loop will consume the yielded values one at a time until there are none left (b/c it's a while loop)\n",
        "\n",
        "for i in generate_range(10):\n",
        "  print(f'i: {i}')"
      ],
      "metadata": {
        "id": "tF1E4uwj_K_9"
      },
      "execution_count": 10,
      "outputs": []
    },
    {
      "cell_type": "markdown",
      "source": [
        "### randomness "
      ],
      "metadata": {
        "id": "4uZcze4I_93S"
      }
    },
    {
      "cell_type": "code",
      "source": [
        "# using *random* library*\n",
        "random.seed(10) # this ensures we get the results every time .seed(10)"
      ],
      "metadata": {
        "id": "1RBkXpFq_8ej"
      },
      "execution_count": 11,
      "outputs": []
    },
    {
      "cell_type": "code",
      "source": [
        "four_uniform_randoms = [random.random() for _ in range(4)]\n",
        "four_uniform_randoms"
      ],
      "metadata": {
        "colab": {
          "base_uri": "https://localhost:8080/"
        },
        "id": "qYPjA3FyAsvd",
        "outputId": "c617bfad-001e-49db-e018-40935cb1e587"
      },
      "execution_count": 13,
      "outputs": [
        {
          "output_type": "execute_result",
          "data": {
            "text/plain": [
              "[0.81332125135732, 0.8235888725334455, 0.6534725339011758, 0.16022955651881965]"
            ]
          },
          "metadata": {},
          "execution_count": 13
        }
      ]
    },
    {
      "cell_type": "markdown",
      "source": [
        "using .seed() gives deterministic numbers based on teh state passed through the (). "
      ],
      "metadata": {
        "id": "-A_68J-jA7dr"
      }
    },
    {
      "cell_type": "code",
      "source": [
        "random.seed(10)\n",
        "print(random.random())\n",
        "\n",
        "random.seed(10)\n",
        "print(random.random())"
      ],
      "metadata": {
        "colab": {
          "base_uri": "https://localhost:8080/"
        },
        "id": "xXrA_LDgBDsD",
        "outputId": "c1c20e6e-c943-4c9a-9e7d-8e86eb6567f5"
      },
      "execution_count": 14,
      "outputs": [
        {
          "output_type": "stream",
          "name": "stdout",
          "text": [
            "0.5714025946899135\n",
            "0.5714025946899135\n"
          ]
        }
      ]
    },
    {
      "cell_type": "code",
      "source": [
        "# Using random.randrange - takes 1 or 2 arguments and returns an element chosen randomly from the range\n",
        "\n",
        "print(random.randrange(10)) # choose randomly from the range(10) = [0,1,2....9]\n",
        "\n",
        "print(random.randrange(3,12)) # choose from [3,4.....11] "
      ],
      "metadata": {
        "colab": {
          "base_uri": "https://localhost:8080/"
        },
        "id": "AMxW0X_RA4-U",
        "outputId": "69e56c24-1e04-4e0b-a291-860c396a26cf"
      },
      "execution_count": 17,
      "outputs": [
        {
          "output_type": "stream",
          "name": "stdout",
          "text": [
            "3\n",
            "10\n"
          ]
        }
      ]
    },
    {
      "cell_type": "markdown",
      "source": [
        "Using random.shuffle to randomly reorder elements of a list\n",
        "\n",
        "// \n",
        "\n",
        "To randomly pick a single element from a list- random.choice"
      ],
      "metadata": {
        "id": "WGueWaeYCPGu"
      }
    },
    {
      "cell_type": "code",
      "source": [
        "up_to_six = [1,2,3,4,5,6]\n",
        "\n",
        "random.shuffle(up_to_six)\n",
        "print(up_to_six)"
      ],
      "metadata": {
        "colab": {
          "base_uri": "https://localhost:8080/"
        },
        "id": "K_y0ZwAuC1ub",
        "outputId": "21a715a3-05c1-4f8a-9685-49030026934d"
      },
      "execution_count": 22,
      "outputs": [
        {
          "output_type": "stream",
          "name": "stdout",
          "text": [
            "[4, 5, 3, 1, 2, 6]\n"
          ]
        }
      ]
    },
    {
      "cell_type": "code",
      "source": [
        "my_best_friend = random.choice([\"Luke\", \"Ron\", \"Steve\", \"Jackson\", \"Will\"])\n",
        "my_best_friend # Steve"
      ],
      "metadata": {
        "colab": {
          "base_uri": "https://localhost:8080/",
          "height": 35
        },
        "id": "XtRZxUedCebO",
        "outputId": "4206efd1-b8cd-44c4-9013-ba2dbebd8ca1"
      },
      "execution_count": 21,
      "outputs": [
        {
          "output_type": "execute_result",
          "data": {
            "text/plain": [
              "'Steve'"
            ],
            "application/vnd.google.colaboratory.intrinsic+json": {
              "type": "string"
            }
          },
          "metadata": {},
          "execution_count": 21
        }
      ]
    },
    {
      "cell_type": "markdown",
      "source": [
        "To choose a sample of elements *WITH* replacement (allowing dupes) you can just make multiple calls to random.choice"
      ],
      "metadata": {
        "id": "zpld7lKJDhB9"
      }
    },
    {
      "cell_type": "code",
      "source": [
        "four_with_replacement = [random.choice(range(10)) for _ in range(4)]\n",
        "print(four_with_replacement)\n",
        "\n",
        "five_replace = [random.choice(range(15)) for _ in range(5)]\n",
        "print(five_replace)\n",
        "\n",
        "six_replace = [random.choice(range(20)) for x in range(7)]\n",
        "print(six_replace)"
      ],
      "metadata": {
        "colab": {
          "base_uri": "https://localhost:8080/"
        },
        "id": "qoOzl17ICefz",
        "outputId": "618fb956-5f82-4f31-ad62-a6e36e666108"
      },
      "execution_count": 27,
      "outputs": [
        {
          "output_type": "stream",
          "name": "stdout",
          "text": [
            "[9, 6, 0, 9]\n",
            "[0, 3, 2, 3, 14]\n",
            "[9, 17, 11, 7, 10, 17, 14]\n"
          ]
        }
      ]
    },
    {
      "cell_type": "markdown",
      "source": [
        "If needed to randomly choose a sample of elements w/o replacement (id est no dupes) use random.sample()"
      ],
      "metadata": {
        "id": "M6EmUYjBDGXu"
      }
    },
    {
      "cell_type": "code",
      "source": [
        "lotter_numbers = range(69)\n",
        "winner_numbers = random.sample(lotter_numbers, 6) # prints 6 numbers\n",
        "print(winner_numbers)\n",
        "\n",
        "tickets = range(10)\n",
        "losing_tickets = random.sample(tickets, 8) # prints 8 numbers\n",
        "print(losing_tickets)\n",
        "\n",
        "tickets_dos = range(40)\n",
        "pick_tickets = random.sample(tickets_dos, 10)\n",
        "print(pick_tickets)"
      ],
      "metadata": {
        "colab": {
          "base_uri": "https://localhost:8080/"
        },
        "id": "kGUqd3BUCedk",
        "outputId": "c24a2627-e095-4c3e-fe67-1ff4eac0c8ab"
      },
      "execution_count": 30,
      "outputs": [
        {
          "output_type": "stream",
          "name": "stdout",
          "text": [
            "[57, 31, 35, 18, 22, 15]\n",
            "[4, 7, 9, 1, 5, 6, 8, 3]\n",
            "[22, 20, 27, 14, 0, 34, 2, 21, 38, 7]\n"
          ]
        }
      ]
    }
  ]
}