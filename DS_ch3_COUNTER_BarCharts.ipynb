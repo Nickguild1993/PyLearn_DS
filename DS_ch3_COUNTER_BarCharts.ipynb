{
  "nbformat": 4,
  "nbformat_minor": 0,
  "metadata": {
    "colab": {
      "name": "DS_ch3_COUNTER_BarCharts.ipynb",
      "provenance": [],
      "collapsed_sections": [],
      "authorship_tag": "ABX9TyMN1+397xz9SuB7g28Hnois",
      "include_colab_link": true
    },
    "kernelspec": {
      "name": "python3",
      "display_name": "Python 3"
    },
    "language_info": {
      "name": "python"
    }
  },
  "cells": [
    {
      "cell_type": "markdown",
      "metadata": {
        "id": "view-in-github",
        "colab_type": "text"
      },
      "source": [
        "<a href=\"https://colab.research.google.com/github/Nickguild1993/PyLearn_DS/blob/main/DS_ch3_COUNTER_BarCharts.ipynb\" target=\"_parent\"><img src=\"https://colab.research.google.com/assets/colab-badge.svg\" alt=\"Open In Colab\"/></a>"
      ]
    },
    {
      "cell_type": "markdown",
      "source": [
        "Going over the basics as refresher ||||| PLUS going over Counter!!!"
      ],
      "metadata": {
        "id": "u3ye9SVyLBKc"
      }
    },
    {
      "cell_type": "code",
      "execution_count": 7,
      "metadata": {
        "id": "-r3hY2lnK8yE"
      },
      "outputs": [],
      "source": [
        "# import libraries\n",
        "\n",
        "import pandas as pd\n",
        "import numpy as np\n",
        "import random\n",
        "import matplotlib.pyplot as plt"
      ]
    },
    {
      "cell_type": "markdown",
      "source": [
        "simple plots"
      ],
      "metadata": {
        "id": "u9jT0X5ZLajc"
      }
    },
    {
      "cell_type": "code",
      "source": [
        "years = [1950, 1960, 1970, 1980, 1990, 2000, 2010]\n",
        "gdp = [300.2, 453.6, 523.0, 666.66, 764.4, 923.2, 1111]\n",
        "\n",
        "plt.plot(years, gdp, color = \"cornflowerblue\", marker = \"o\", linestyle = \"solid\")\n",
        "plt.title(\"Nominal GDP\")\n",
        "plt.xlabel(\"Year\")\n",
        "plt.ylabel(\"Gross Domestic Product\")\n",
        "plt.show()"
      ],
      "metadata": {
        "colab": {
          "base_uri": "https://localhost:8080/",
          "height": 295
        },
        "id": "KceEqf-8LW07",
        "outputId": "1ee27e2b-fda4-4174-94de-a7ec9e22b51a"
      },
      "execution_count": 8,
      "outputs": [
        {
          "output_type": "display_data",
          "data": {
            "text/plain": [
              "<Figure size 432x288 with 1 Axes>"
            ],
            "image/png": "[encoded data removed]"
          },
          "metadata": {
            "needs_background": "light"
          }
        }
      ]
    },
    {
      "cell_type": "markdown",
      "source": [
        "Bar chartz - great for showing how some quantity varies among some **discrete** set of items. "
      ],
      "metadata": {
        "id": "U10cAqIzMIoI"
      }
    },
    {
      "cell_type": "code",
      "source": [
        "movies = [\"Departed\", \"The Ring\", \"Farthead\", \"DumbMovie\"]\n",
        "num_oscars = [5,12,6,9]\n",
        "\n",
        "# plt.bar(range(len(movies)), num_oscars)\n",
        "plt.bar(movies, num_oscars)\n",
        "plt.title(\"Oscar winning movies\")\n",
        "plt.ylabel(\"Oscar Count\")\n",
        "plt.xlabel(\"Movie\")\n",
        "plt.show()"
      ],
      "metadata": {
        "colab": {
          "base_uri": "https://localhost:8080/",
          "height": 295
        },
        "id": "GQ9zw3mrMQ6V",
        "outputId": "41501ec9-5c28-427f-c6fe-b1a54be849bf"
      },
      "execution_count": 9,
      "outputs": [
        {
          "output_type": "display_data",
          "data": {
            "text/plain": [
              "<Figure size 432x288 with 1 Axes>"
            ],
            "image/png": "[encoded data removed]"
          },
          "metadata": {
            "needs_background": "light"
          }
        }
      ]
    },
    {
      "cell_type": "markdown",
      "source": [
        "Histograms and using Counter from collections"
      ],
      "metadata": {
        "id": "su78A-hFg90V"
      }
    },
    {
      "cell_type": "code",
      "source": [
        "from collections import Counter"
      ],
      "metadata": {
        "id": "zLpMCCbUhBGu"
      },
      "execution_count": 11,
      "outputs": []
    },
    {
      "cell_type": "markdown",
      "source": [
        "### Counter methods and operations practice"
      ],
      "metadata": {
        "id": "7LTHQW-Ks7lM"
      }
    },
    {
      "cell_type": "code",
      "source": [
        "c = Counter(\"Gorg\")\n",
        "print(c)\n",
        "\n",
        "c = Counter(dogs = 8, cats =4, frog = 6)\n",
        "print(c)\n",
        "\n",
        "print(list(c.elements()))\n",
        "\n",
        "print(c.most_common(1)) # the number you pass into most_common() will be the number of most common elements in descending order\n",
        "print(c.most_common(2))\n"
      ],
      "metadata": {
        "colab": {
          "base_uri": "https://localhost:8080/"
        },
        "id": "7N7Z9YH9jgpF",
        "outputId": "99d9500e-ca05-4ce3-9727-bf151a34815c"
      },
      "execution_count": 21,
      "outputs": [
        {
          "output_type": "stream",
          "name": "stdout",
          "text": [
            "Counter({'G': 1, 'o': 1, 'r': 1, 'g': 1})\n",
            "Counter({'dogs': 8, 'frog': 6, 'cats': 4})\n",
            "['dogs', 'dogs', 'dogs', 'dogs', 'dogs', 'dogs', 'dogs', 'dogs', 'cats', 'cats', 'cats', 'cats', 'frog', 'frog', 'frog', 'frog', 'frog', 'frog']\n",
            "[('dogs', 8)]\n",
            "[('dogs', 8), ('frog', 6)]\n"
          ]
        }
      ]
    },
    {
      "cell_type": "code",
      "source": [
        "c = Counter(\"Shark\")\n",
        "c.subtract(\"h\")\n",
        "print(\"c:\", c)\n",
        "\n",
        "# //\n",
        "\n",
        "e = Counter(\"heart\")\n",
        "e.update(\"zoo\")\n",
        "print(\"e:\", e)\n",
        "# print the values but without count\n",
        "print(list(e))"
      ],
      "metadata": {
        "colab": {
          "base_uri": "https://localhost:8080/"
        },
        "id": "wHzEvtl8nOgj",
        "outputId": "5ad2f461-01fd-495d-b6c4-39909700df52"
      },
      "execution_count": 42,
      "outputs": [
        {
          "output_type": "stream",
          "name": "stdout",
          "text": [
            "c: Counter({'S': 1, 'a': 1, 'r': 1, 'k': 1, 'h': 0})\n",
            "e: Counter({'o': 2, 'h': 1, 'e': 1, 'a': 1, 'r': 1, 't': 1, 'z': 1})\n",
            "['h', 'e', 'a', 'r', 't', 'z', 'o']\n"
          ]
        }
      ]
    },
    {
      "cell_type": "markdown",
      "source": [
        "using subtract()"
      ],
      "metadata": {
        "id": "nZoswrl3pa2P"
      }
    },
    {
      "cell_type": "code",
      "source": [
        "c = Counter(dogs =6,cats =7) # if there is value i.e. bananas = 1 that is not found in the second Counter, it will be passed on to the subtract w/o changing\n",
        "d = Counter(dogs=1, cats =3)\n",
        "print(\"c before:\", c)\n",
        "\n",
        "c.subtract(d)\n",
        "print(\"c after:\", c)"
      ],
      "metadata": {
        "colab": {
          "base_uri": "https://localhost:8080/"
        },
        "id": "K4J6RGlroMsj",
        "outputId": "f67daa9d-a857-4889-91f3-66b3efb44290"
      },
      "execution_count": 50,
      "outputs": [
        {
          "output_type": "stream",
          "name": "stdout",
          "text": [
            "c before: Counter({'cats': 7, 'dogs': 6, 'bananas': 1})\n",
            "c after: Counter({'dogs': 5, 'cats': 4, 'bananas': 2})\n"
          ]
        }
      ]
    },
    {
      "cell_type": "code",
      "source": [
        "c = Counter(a=4, b=2, c=0, d=-2, e=7)\n",
        "d = [\"a\", \"b\", \"b\", \"c\", \"e\"]\n",
        "\n",
        "# using subtract (must be used on Counter item)\n",
        "c.subtract(d)\n",
        "print(c)\n",
        "\n",
        "word = Counter(\"Potato\")\n",
        "word.subtract(\"o\")\n",
        "print(len(word))"
      ],
      "metadata": {
        "colab": {
          "base_uri": "https://localhost:8080/"
        },
        "id": "G4fW4uXRkkSf",
        "outputId": "cbcfaa90-a5c8-49e0-881a-1dd69a42ba9f"
      },
      "execution_count": 51,
      "outputs": [
        {
          "output_type": "stream",
          "name": "stdout",
          "text": [
            "Counter({'e': 6, 'a': 3, 'b': 0, 'c': -1, 'd': -2})\n",
            "4\n"
          ]
        }
      ]
    },
    {
      "cell_type": "markdown",
      "source": [
        "using update()"
      ],
      "metadata": {
        "id": "24_k20oQpWqf"
      }
    },
    {
      "cell_type": "code",
      "source": [
        "# using update\n",
        "cc = Counter(a = 2, b = 2, c = 1, d = 3, e = 7)\n",
        "\n",
        "d = [\"a\", \"b\", \"b\", \"c\", \"e\"]\n",
        "\n",
        "cc.update(d) # the strings are being added to the values in cc\n",
        "print(cc)"
      ],
      "metadata": {
        "colab": {
          "base_uri": "https://localhost:8080/"
        },
        "id": "JufOTCxDmSqj",
        "outputId": "2a5387ac-0182-4fb4-8815-1a076c57e1ee"
      },
      "execution_count": 35,
      "outputs": [
        {
          "output_type": "stream",
          "name": "stdout",
          "text": [
            "Counter({'e': 8, 'b': 4, 'a': 3, 'd': 3, 'c': 2})\n"
          ]
        }
      ]
    },
    {
      "cell_type": "markdown",
      "source": [
        "Using Clear()"
      ],
      "metadata": {
        "id": "2rt-8Y5TqG2O"
      }
    },
    {
      "cell_type": "code",
      "source": [
        "c = Counter(a = 1, b = 2)\n",
        "# using clear() gives you an empty counter()\n",
        "c.clear()\n",
        "print(c)"
      ],
      "metadata": {
        "colab": {
          "base_uri": "https://localhost:8080/"
        },
        "id": "HDgv94kQpcwH",
        "outputId": "fd6e3544-08b3-483c-997b-a33931638c8a"
      },
      "execution_count": 52,
      "outputs": [
        {
          "output_type": "stream",
          "name": "stdout",
          "text": [
            "Counter()\n"
          ]
        }
      ]
    },
    {
      "cell_type": "markdown",
      "source": [
        "Counters() w/ operations"
      ],
      "metadata": {
        "id": "GnTFP4LEqK3R"
      }
    },
    {
      "cell_type": "code",
      "source": [
        "c = Counter(a=3, b =2, c =5) \n",
        "d = Counter([\"a\", \"a\", \"b\"])\n",
        "\n",
        "print(\"adding the two counters:\", c+d)\n",
        "\n",
        "print(\"using subtraction on the counters:\", c-d)"
      ],
      "metadata": {
        "colab": {
          "base_uri": "https://localhost:8080/"
        },
        "id": "f1oZP1VtqUVn",
        "outputId": "c7f147fc-96db-4595-d71a-1cdc95518a81"
      },
      "execution_count": 60,
      "outputs": [
        {
          "output_type": "stream",
          "name": "stdout",
          "text": [
            "adding the two counters: Counter({'a': 5, 'c': 5, 'b': 3})\n",
            "using subtraction on the counters: Counter({'c': 5, 'a': 1, 'b': 1})\n"
          ]
        }
      ]
    },
    {
      "cell_type": "code",
      "source": [
        "c = Counter(a=4, b = 2, c = 0, d = -2)\n",
        "d = Counter([\"a\", \"b\", \"b\", \"c\"])\n",
        "\n",
        "print(\"intersection operator:\", c & d)\n",
        "\n",
        "print(\"union operator:\", c | d) # GIVES YOU THE MAX VALUE OF EACH ELEMENT\n",
        "\n",
        "print(\"element count:\", list(c.elements())) # using .elements() again"
      ],
      "metadata": {
        "colab": {
          "base_uri": "https://localhost:8080/"
        },
        "id": "DeibI-2vrb1r",
        "outputId": "7bba524a-cfc9-44a4-a882-d6ca14188f41"
      },
      "execution_count": 67,
      "outputs": [
        {
          "output_type": "stream",
          "name": "stdout",
          "text": [
            "intersection operator: Counter({'b': 2, 'a': 1})\n",
            "union operator: Counter({'a': 4, 'b': 2, 'c': 1})\n",
            "element count: ['a', 'a', 'a', 'a', 'b', 'b']\n"
          ]
        }
      ]
    },
    {
      "cell_type": "markdown",
      "source": [
        "### Getting back to the program"
      ],
      "metadata": {
        "id": "H4ASUulfs_ui"
      }
    },
    {
      "cell_type": "code",
      "source": [
        "numbers = [41,43,57,52,78,81,88,82,92,100]\n",
        "\n",
        "amount = Counter(min(number // 10 * 10, 90) for number in numbers) # because it's ,90 -> does not include 92, 100 (90 sets the max!)\n",
        "print(amount)\n",
        "\n",
        "quart = Counter(min(number // 10 * 10, 101) for number in numbers) # Binning the numbers\n",
        "print(quart)"
      ],
      "metadata": {
        "colab": {
          "base_uri": "https://localhost:8080/"
        },
        "id": "oUxc8md9tEii",
        "outputId": "f5bdc549-5b35-4ac3-aa09-ec24a8759aa4"
      },
      "execution_count": 82,
      "outputs": [
        {
          "output_type": "stream",
          "name": "stdout",
          "text": [
            "Counter({80: 3, 40: 2, 50: 2, 90: 2, 70: 1})\n",
            "Counter({80: 3, 40: 2, 50: 2, 70: 1, 90: 1, 100: 1})\n"
          ]
        }
      ]
    },
    {
      "cell_type": "markdown",
      "source": [
        "#### Bar Charts"
      ],
      "metadata": {
        "id": "CIWvjC1-3GA7"
      }
    },
    {
      "cell_type": "code",
      "source": [
        "grades = [83,78,95,77,91,99,82,85,76,69,88, 100, 3] \n",
        "\n",
        "# Bucket grades by decile, but put the 100 w/ the 90s\n",
        "\n",
        "histogram = Counter(min(grade // 10 * 10, 90) for grade in grades)\n",
        "print(histogram)\n",
        "print(\"4 numbers in the 80s |\", \"3 90s plus the 100 |\", \"3 numbers in the 70s |\", \"1 in the 60s\")"
      ],
      "metadata": {
        "colab": {
          "base_uri": "https://localhost:8080/"
        },
        "id": "GCx5HjBeg8UH",
        "outputId": "8d39fc0e-7e32-4d02-c1d7-2dc89068176f"
      },
      "execution_count": 116,
      "outputs": [
        {
          "output_type": "stream",
          "name": "stdout",
          "text": [
            "Counter({80: 4, 90: 4, 70: 3, 60: 1, 0: 1})\n",
            "4 numbers in the 80s | 3 90s plus the 100 | 3 numbers in the 70s | 1 in the 60s\n"
          ]
        }
      ]
    },
    {
      "cell_type": "code",
      "source": [
        "# setting the bar graph\n",
        "plt.figure(figsize=(12,8))\n",
        "\n",
        "plt.bar([x + 5 for x in histogram.keys()],\n",
        "        histogram.values(),\n",
        "        10,\n",
        "        color = \"cornflowerblue\",\n",
        "        edgecolor = \"pink\")\n",
        "plt.axis([-5, 105, 0, 5]) # sets X AXIS from -5, 105 ||| Y AXIS from 0, 5\n",
        "plt.xticks([10 * x for x in range(11)]) # X AXIS LABELS at 0, 10....100\n",
        "plt.xlabel(\"Decile\")\n",
        "plt.ylabel(\"Number of students\")\n",
        "plt.title(\"Distribution of Grades\")\n",
        "plt.show()"
      ],
      "metadata": {
        "colab": {
          "base_uri": "https://localhost:8080/",
          "height": 513
        },
        "id": "-E1GBJLPv_Of",
        "outputId": "9aa0b417-b1ec-4fdf-b78e-6eb6257131a7"
      },
      "execution_count": 117,
      "outputs": [
        {
          "output_type": "display_data",
          "data": {
            "text/plain": [
              "<Figure size 864x576 with 1 Axes>"
            ],
            "image/png": "[encoded data removed]"
          },
          "metadata": {
            "needs_background": "light"
          }
        }
      ]
    },
    {
      "cell_type": "code",
      "source": [
        ""
      ],
      "metadata": {
        "colab": {
          "base_uri": "https://localhost:8080/"
        },
        "id": "u02O0kFjx1bu",
        "outputId": "db880acd-a073-4820-df54-ba30a9cc2486"
      },
      "execution_count": 97,
      "outputs": [
        {
          "output_type": "stream",
          "name": "stdout",
          "text": [
            "[91, 77, 98, 91, 96, 73, 82, 86, 96, 81, 80, 72, 91, 60, 93]\n"
          ]
        }
      ]
    },
    {
      "cell_type": "code",
      "source": [
        "digits = [random.choice(range(40,100)) for digit in range(15)]\n",
        "print(digits)\n",
        "\n",
        "histo = Counter(min(digit // 10 * 10, 100) for digit in digits)\n",
        "print(histo)\n",
        "\n",
        "print(len(histo))\n",
        "print(len(digits))\n",
        "\n",
        "print(histo.keys())"
      ],
      "metadata": {
        "colab": {
          "base_uri": "https://localhost:8080/"
        },
        "id": "WuRwnqQKxPuX",
        "outputId": "4615fa7e-9818-4afb-d846-a6d8dfada32e"
      },
      "execution_count": 118,
      "outputs": [
        {
          "output_type": "stream",
          "name": "stdout",
          "text": [
            "[44, 80, 95, 56, 69, 54, 83, 74, 62, 98, 93, 45, 94, 53, 55]\n",
            "Counter({90: 4, 50: 4, 40: 2, 80: 2, 60: 2, 70: 1})\n",
            "6\n",
            "15\n",
            "dict_keys([40, 80, 90, 50, 60, 70])\n"
          ]
        }
      ]
    },
    {
      "cell_type": "code",
      "source": [
        "# trying horizontal bar\n",
        "\n",
        "plt.figure(figsize=(12,10))\n",
        "\n",
        "plt.bar([x + 5 for x in histo.keys()], # shift the bar right by 5 so they line up!!!\n",
        "         histo.values(), # give each bar its correct value\n",
        "         width= 10, # set the width of each bar\n",
        "         edgecolor = \"pink\", # edge color set to PINK\n",
        "         color = \"seagreen\"  # fill color set to GREEN\n",
        "\n",
        "        )\n",
        "plt.axis([-5,105, 0, 6]) # x axis from -5 , 105 | y axis from 0, 6\n",
        "\n",
        "plt.xticks([10 * x for x in range(12)]) # x-axis labels at 0, 10....110\n",
        "plt.xlabel(\"Decile\")\n",
        "plt.ylabel(\"Number of students\")\n",
        "plt.title(\"Digits and such and so forth\")\n",
        "plt.show()\n",
        "\n",
        " "
      ],
      "metadata": {
        "colab": {
          "base_uri": "https://localhost:8080/",
          "height": 621
        },
        "id": "yLO4Xjr3yxMo",
        "outputId": "28aa6591-7936-42bd-a477-439f7498e65e"
      },
      "execution_count": 128,
      "outputs": [
        {
          "output_type": "display_data",
          "data": {
            "text/plain": [
              "<Figure size 864x720 with 1 Axes>"
            ],
            "image/png": "[encoded data removed]"
          },
          "metadata": {
            "needs_background": "light"
          }
        }
      ]
    },
    {
      "cell_type": "markdown",
      "source": [
        ""
      ],
      "metadata": {
        "id": "4ka_OWM63ypM"
      }
    },
    {
      "cell_type": "code",
      "source": [
        ""
      ],
      "metadata": {
        "id": "WBqEBKFe3yJt"
      },
      "execution_count": null,
      "outputs": []
    },
    {
      "cell_type": "markdown",
      "source": [
        "#### LINE CHARTS, M'BOY"
      ],
      "metadata": {
        "id": "txEgpp7j3IpK"
      }
    },
    {
      "cell_type": "code",
      "source": [
        "# They're useful for showing trends! fun fun fun\n",
        "\n",
        "variance = [1,2,4,8,16,32,64,128,256]\n",
        "\n",
        "bias_squared = [256,128,64,32,16,8,4,2,1]\n",
        "\n",
        "total_error = [x + y for x, y in zip(variance, bias_squared)]"
      ],
      "metadata": {
        "id": "XhkIjk8N3K2P"
      },
      "execution_count": null,
      "outputs": []
    },
    {
      "cell_type": "code",
      "source": [
        ""
      ],
      "metadata": {
        "id": "TGHMdY_S3K_U"
      },
      "execution_count": null,
      "outputs": []
    }
  ]
}